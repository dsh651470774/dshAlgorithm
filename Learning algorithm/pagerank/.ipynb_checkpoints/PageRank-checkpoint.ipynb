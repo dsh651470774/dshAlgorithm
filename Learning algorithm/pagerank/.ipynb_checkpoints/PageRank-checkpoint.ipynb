{
 "cells": [
  {
   "cell_type": "code",
   "execution_count": 9,
   "metadata": {
    "collapsed": true
   },
   "outputs": [],
   "source": [
    "import numpy as np"
   ]
  },
  {
   "cell_type": "code",
   "execution_count": 15,
   "metadata": {},
   "outputs": [
    {
     "name": "stdout",
     "output_type": "stream",
     "text": [
      "[[ 0.25]\n",
      " [ 0.25]\n",
      " [ 0.25]\n",
      " [ 0.25]]\n",
      "[[ 0.          0.5         0.          0.        ]\n",
      " [ 0.33333333  0.          0.          0.5       ]\n",
      " [ 0.33333333  0.          1.          0.5       ]\n",
      " [ 0.33333333  0.5         0.          0.        ]]\n",
      "[[ 0.10135135]\n",
      " [ 0.12837838]\n",
      " [ 0.64189189]\n",
      " [ 0.12837838]]\n"
     ]
    }
   ],
   "source": [
    "#初始化变量\n",
    "p0=np.mat([[1.0/4],[1.0/4],[1.0/4],[1.0/4]])\n",
    "print p0\n",
    "#设置转移矩阵\n",
    "S=np.mat([[0,1.0/2,0,0],[1.0/3,0,0,1.0/2],[1.0/3,0,1,1.0/2],[1.0/3,1.0/2,0,0]])\n",
    "print S\n",
    "pOld=p0\n",
    "delta=1\n",
    "#设置阻尼系数\n",
    "Alpha=0.8\n",
    "while delta>1e-10:\n",
    "    pNew=Alpha*S*pOld+(1-Alpha)/4\n",
    "    delta=np.linalg.norm(pNew-pOld)\n",
    "    pOld=pNew[:,:]\n",
    "\n",
    "print pNew"
   ]
  },
  {
   "cell_type": "code",
   "execution_count": null,
   "metadata": {
    "collapsed": true
   },
   "outputs": [],
   "source": []
  }
 ],
 "metadata": {
  "kernelspec": {
   "display_name": "Python 2",
   "language": "python",
   "name": "python2"
  },
  "language_info": {
   "codemirror_mode": {
    "name": "ipython",
    "version": 2
   },
   "file_extension": ".py",
   "mimetype": "text/x-python",
   "name": "python",
   "nbconvert_exporter": "python",
   "pygments_lexer": "ipython2",
   "version": "2.7.13"
  },
  "toc": {
   "nav_menu": {},
   "number_sections": true,
   "sideBar": true,
   "skip_h1_title": false,
   "toc_cell": false,
   "toc_position": {},
   "toc_section_display": "block",
   "toc_window_display": false
  }
 },
 "nbformat": 4,
 "nbformat_minor": 2
}
