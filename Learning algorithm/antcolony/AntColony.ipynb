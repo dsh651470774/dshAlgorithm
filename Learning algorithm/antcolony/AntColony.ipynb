{
 "cells": [
  {
   "cell_type": "code",
   "execution_count": 166,
   "metadata": {
    "collapsed": true
   },
   "outputs": [],
   "source": [
    "import numpy as np\n",
    "import random"
   ]
  },
  {
   "cell_type": "code",
   "execution_count": 167,
   "metadata": {
    "collapsed": true
   },
   "outputs": [],
   "source": [
    "#设置坐标\n",
    "coordinates = np.array([[565.0,575.0],[25.0,185.0],[345.0,750.0],[945.0,685.0],[845.0,655.0],  \n",
    "                        [880.0,660.0],[25.0,230.0],[525.0,1000.0],[580.0,1175.0],[650.0,1130.0],  \n",
    "                        [1605.0,620.0],[1220.0,580.0],[1465.0,200.0],[1530.0,  5.0],[845.0,680.0],  \n",
    "                        [725.0,370.0],[145.0,665.0],[415.0,635.0],[510.0,875.0],[560.0,365.0],  \n",
    "                        [300.0,465.0],[520.0,585.0],[480.0,415.0],[835.0,625.0],[975.0,580.0],  \n",
    "                        [1215.0,245.0],[1320.0,315.0],[1250.0,400.0],[660.0,180.0],[410.0,250.0],  \n",
    "                        [420.0,555.0],[575.0,665.0],[1150.0,1160.0],[700.0,580.0],[685.0,595.0],  \n",
    "                        [685.0,610.0],[770.0,610.0],[795.0,645.0],[720.0,635.0],[760.0,650.0],  \n",
    "                        [475.0,960.0],[95.0,260.0],[875.0,920.0],[700.0,500.0],[555.0,815.0],  \n",
    "                        [830.0,485.0],[1170.0, 65.0],[830.0,610.0],[605.0,625.0],[595.0,360.0],  \n",
    "                        [1340.0,725.0],[1740.0,245.0]])  "
   ]
  },
  {
   "cell_type": "code",
   "execution_count": 168,
   "metadata": {
    "collapsed": true
   },
   "outputs": [],
   "source": [
    "def getDistMat(coordinates):\n",
    "    m,n=coordinates.shape\n",
    "    distMat=np.mat(np.zeros((m,m)))\n",
    "    for i in range(m):\n",
    "        for j in range(m):\n",
    "            if i==j:\n",
    "                distMat[i,j]=1\n",
    "                continue\n",
    "            distMat[i,j]=np.linalg.norm(coordinates[i]-coordinates[j])\n",
    "    return distMat"
   ]
  },
  {
   "cell_type": "code",
   "execution_count": 108,
   "metadata": {
    "collapsed": true
   },
   "outputs": [],
   "source": [
    "indistMat=np.mat([[0,2,10,8,3],[1,0,2,5,7],[9,1,0,3,6],[10,4,3,0,2],[2,7,5,1,0]])\n",
    "citylabels=['A','B','C','D','E']"
   ]
  },
  {
   "cell_type": "code",
   "execution_count": 169,
   "metadata": {
    "collapsed": true
   },
   "outputs": [],
   "source": [
    "def AntColony(distMat,citylabels,alpha=1,beta=1,rho=0.5,Q=100,maxiter=200):\n",
    "    m=distMat.shape[0]    #城市个数  \n",
    "    antNum=m #蚂蚁数量\n",
    "    nMat=np.divide(1.0,distMat+1e-15) #启发因子矩阵\n",
    "    iterNum=0\n",
    "    citylist=range(m)\n",
    "    #初始化信息素矩阵\n",
    "    taoMat=np.mat(np.ones((m,m)))*2\n",
    "    deltataoMat=np.mat(np.zeros((m,m)))\n",
    "    lengthbest = np.inf #=最佳路径长度  \n",
    "    pathbest = np.mat(np.zeros((1,m))) # 最佳路径\n",
    "    while(iterNum<maxiter):\n",
    "        routeMat=np.mat(np.zeros((antNum,m+1),dtype=int))\n",
    "        #存储距离\n",
    "        L=np.array([0.0]*antNum)\n",
    "        for antind in range(antNum):\n",
    "            #假设第i只蚂蚁从第i个城市出发,初始化禁忌表\n",
    "            routeMat[antind,0]=antind\n",
    "            tabuList=[antind]\n",
    "            oldcity=antind\n",
    "            #中间总共需要选择m-1次\n",
    "            for step in range(m-1):\n",
    "                #计算下一个城市的概率\n",
    "                p0=np.array([0.0]*m)\n",
    "                for newcity in citylist:\n",
    "                    if newcity in tabuList:\n",
    "                        continue\n",
    "                    p0[newcity]=taoMat[oldcity,newcity]**alpha*nMat[oldcity,newcity]**beta\n",
    "                p=p0/float(np.sum(p0))\n",
    "                #轮盘赌选择\n",
    "                randomchoose=random.random()\n",
    "                psum=0\n",
    "                choosecity=-1\n",
    "                while(psum<randomchoose):\n",
    "                    choosecity+=1\n",
    "                    psum+=p[choosecity]\n",
    "                #记录下该城市,并增加禁忌表,计算长度\n",
    "                routeMat[antind,step+1]=choosecity\n",
    "                tabuList.append(choosecity)\n",
    "                L[antind]+=distMat[oldcity,choosecity]\n",
    "                oldcity=choosecity\n",
    "            #计算最后城市回到原点的距离\n",
    "            routeMat[antind,m]=antind\n",
    "            L[antind]+=distMat[oldcity,antind]\n",
    "            #计算信息素增量矩阵\n",
    "            for i in range(m):\n",
    "                deltataoMat[routeMat[antind,i],routeMat[antind,i+1]]+=float(Q)/L[antind]\n",
    "                \n",
    "        #更新最优路线以及最短距离\n",
    "        if L.min()<lengthbest:\n",
    "            pathbest=routeMat[L.argmin(),:]\n",
    "            lengthbest=L.min()\n",
    "        #更新信息素\n",
    "        taoMat=(1-rho)*taoMat+deltataoMat\n",
    "        iterNum+=1\n",
    "        bestRoute=[]\n",
    "        for i in range(pathbest.shape[1]):\n",
    "            bestRoute.append(citylabels[pathbest[0,i]])\n",
    "    return bestRoute,lengthbest"
   ]
  },
  {
   "cell_type": "code",
   "execution_count": 165,
   "metadata": {},
   "outputs": [
    {
     "name": "stdout",
     "output_type": "stream",
     "text": [
      "[[  1.24460306e-60   3.99857937e+02   1.24460306e-60   1.24460306e-60\n",
      "    2.16106999e+04]\n",
      " [  2.16001736e+04   1.24460306e-60   4.10384253e+02   1.24460306e-60\n",
      "    1.24460306e-60]\n",
      " [  1.05263158e+01   2.16001736e+04   1.24460306e-60   3.99857937e+02\n",
      "    1.24460306e-60]\n",
      " [  1.24460306e-60   1.05263158e+01   2.16001736e+04   1.24460306e-60\n",
      "    3.99857937e+02]\n",
      " [  3.99857937e+02   1.24460306e-60   1.24460306e-60   2.16106999e+04\n",
      "    1.24460306e-60]]\n",
      "[[0 4 3 2 1 0]\n",
      " [1 0 4 3 2 1]\n",
      " [2 1 0 4 3 2]\n",
      " [3 2 1 0 4 3]\n",
      " [4 3 2 1 0 4]]\n"
     ]
    },
    {
     "name": "stderr",
     "output_type": "stream",
     "text": [
      "D:\\Anaconda\\lib\\site-packages\\ipykernel_launcher.py:4: RuntimeWarning: divide by zero encountered in divide\n",
      "  after removing the cwd from sys.path.\n"
     ]
    },
    {
     "data": {
      "text/plain": [
       "(['B', 'A', 'E', 'D', 'C', 'B'], 9.0)"
      ]
     },
     "execution_count": 165,
     "metadata": {},
     "output_type": "execute_result"
    }
   ],
   "source": [
    "AntColony(indistMat,citylabels)"
   ]
  },
  {
   "cell_type": "code",
   "execution_count": 171,
   "metadata": {},
   "outputs": [
    {
     "name": "stdout",
     "output_type": "stream",
     "text": [
      "[[  1.24460306e-60   3.68242959e-01   1.75300139e+00 ...,   8.23128807e-01\n",
      "    1.44370749e-01   2.79506521e-01]\n",
      " [  3.84851807e-01   1.24460306e-60   3.16210626e+00 ...,   1.21197771e+00\n",
      "    1.17443693e+00   7.48975521e-01]\n",
      " [  2.55745969e+00   1.20076750e+00   1.24460306e-60 ...,   5.41766792e-01\n",
      "    2.73392159e-01   5.04601273e-01]\n",
      " ..., \n",
      " [  2.73012062e+00   2.07574501e-01   5.42768038e-01 ...,   1.24460306e-60\n",
      "    4.75962596e-01   5.27117335e-01]\n",
      " [  2.34355574e-01   6.57200755e-02   2.64402431e-01 ...,   5.71756596e-01\n",
      "    1.24460306e-60   4.32273702e+00]\n",
      " [  4.35697355e-01   5.32345459e-01   5.65732056e-01 ...,   3.47782612e-01\n",
      "    2.26675952e+00   1.24460306e-60]]\n",
      "[[ 0 21 27 ..., 49 20  0]\n",
      " [ 1  6 41 ..., 40 16  1]\n",
      " [ 2 17 21 ..., 38 16  2]\n",
      " ..., \n",
      " [49 15 19 ...,  8  9 49]\n",
      " [50 32 42 ..., 22 43 50]\n",
      " [51 12 26 ..., 25 36 51]]\n"
     ]
    },
    {
     "data": {
      "text/plain": [
       "([0,\n",
       "  35,\n",
       "  34,\n",
       "  33,\n",
       "  37,\n",
       "  39,\n",
       "  36,\n",
       "  38,\n",
       "  31,\n",
       "  48,\n",
       "  44,\n",
       "  18,\n",
       "  40,\n",
       "  7,\n",
       "  8,\n",
       "  9,\n",
       "  42,\n",
       "  24,\n",
       "  45,\n",
       "  15,\n",
       "  28,\n",
       "  49,\n",
       "  19,\n",
       "  22,\n",
       "  29,\n",
       "  20,\n",
       "  1,\n",
       "  6,\n",
       "  41,\n",
       "  16,\n",
       "  2,\n",
       "  17,\n",
       "  30,\n",
       "  21,\n",
       "  4,\n",
       "  14,\n",
       "  5,\n",
       "  3,\n",
       "  11,\n",
       "  27,\n",
       "  26,\n",
       "  25,\n",
       "  46,\n",
       "  12,\n",
       "  13,\n",
       "  51,\n",
       "  10,\n",
       "  50,\n",
       "  32,\n",
       "  47,\n",
       "  23,\n",
       "  43,\n",
       "  0],\n",
       " 9056.8366577168708)"
      ]
     },
     "execution_count": 171,
     "metadata": {},
     "output_type": "execute_result"
    }
   ],
   "source": [
    "distMat=getDistMat(coordinates)\n",
    "citylabels2=range(distMat.shape[0])\n",
    "AntColony(distMat,citylabels2)"
   ]
  },
  {
   "cell_type": "code",
   "execution_count": null,
   "metadata": {
    "collapsed": true
   },
   "outputs": [],
   "source": []
  }
 ],
 "metadata": {
  "kernelspec": {
   "display_name": "Python 2",
   "language": "python",
   "name": "python2"
  },
  "language_info": {
   "codemirror_mode": {
    "name": "ipython",
    "version": 2
   },
   "file_extension": ".py",
   "mimetype": "text/x-python",
   "name": "python",
   "nbconvert_exporter": "python",
   "pygments_lexer": "ipython2",
   "version": "2.7.13"
  },
  "toc": {
   "nav_menu": {},
   "number_sections": true,
   "sideBar": true,
   "skip_h1_title": false,
   "toc_cell": false,
   "toc_position": {},
   "toc_section_display": "block",
   "toc_window_display": false
  }
 },
 "nbformat": 4,
 "nbformat_minor": 2
}
