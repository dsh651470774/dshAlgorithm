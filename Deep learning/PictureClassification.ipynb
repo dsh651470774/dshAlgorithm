{
 "cells": [
  {
   "cell_type": "code",
   "execution_count": 1,
   "metadata": {
    "collapsed": true
   },
   "outputs": [],
   "source": [
    "#导入需要的工具库\n",
    "import pickle\n",
    "import numpy as np\n",
    "import matplotlib.pyplot as pyplot\n",
    "from PIL import Image\n",
    "import tensorflow as tf\n",
    "from tensorflow.python.framework import ops\n",
    "import math\n",
    "from matplotlib import pyplot as plt"
   ]
  },
  {
   "cell_type": "markdown",
   "metadata": {},
   "source": [
    "# 数据"
   ]
  },
  {
   "cell_type": "markdown",
   "metadata": {},
   "source": [
    "本次实验采用的数据来源于CIFAR-10 dataset，由50000条训练集和10000条测试集构成，分成5个训练集data_batch_1到data_batch_5和一个测试集test_batch。\n",
    "- 用 pickle.load() 将所有文件中的数据都读入内存\n",
    "- 每个 Pickle 文件都含有 10000 张图片及其展示的内容标签。Pickle 文件所包含的对象是一个词典，该词典有如下4个键：\n",
    "  - data：图像像素数据，np.array 类型\n",
    "  - labels：图像内容标签，list 类型\n",
    "  - filenames：原始图像的文件名（目前用不上）\n",
    "  - batch_label：数据所属的训练集编号（没什么用）\n",
    "- data 是一个尺寸为 (10000, 3072) 的 Numpy 数组\n",
    "- 每一行是一张图片的所有像素，长度为3072\n",
    "- 每张图片的尺寸是32x32=1024，其三个颜色通道串联接在一起，即 1024,1024,1024\n",
    "- 需要将每张尺寸为 (1, 3072) 的图片还原为正常的图像尺寸 (32, 32, 3)\n",
    "- 由于考虑到目前第一维只能是颜色通道，因此应该先将其 reshape(3, 32, 32), 再用 transpose 把颜色通道交换至最后一个维度。\n",
    "- labels 是一个长度为 10000 的 list，表示图像的实际内容类别，取值为 [0, 9]，其涵义如下：\n",
    "    - 0 = airplane\n",
    "    - 1 = automobile\n",
    "    - 2 = bird\n",
    "    - 3 = cat\n",
    "    - 4 = deer\n",
    "    - 5 = dog\n",
    "    - 6 = frog\n",
    "    - 7 = horse\n",
    "    - 8 = ship\n",
    "    - 9 = truck"
   ]
  },
  {
   "cell_type": "code",
   "execution_count": 3,
   "metadata": {
    "collapsed": true
   },
   "outputs": [],
   "source": [
    "#数据集由Pickle模块存放，也以此解压\n",
    "import pickle\n",
    "def unpickle(file):\n",
    "    with open(file, 'rb') as fo:\n",
    "        dict = pickle.load(fo, encoding='bytes')\n",
    "    return dict"
   ]
  },
  {
   "cell_type": "markdown",
   "metadata": {},
   "source": [
    "CIFAR-10数据集的标签信息存放在batches.meta文件中，每一个序号代表的类别都从中解码得到。下面编写函数获取训练集、测试集以及类别对应信息。"
   ]
  },
  {
   "cell_type": "code",
   "execution_count": 4,
   "metadata": {
    "collapsed": true
   },
   "outputs": [],
   "source": [
    "#加载所有数据\n",
    "def loadDataSet():\n",
    "    train_set_x_orig=[]\n",
    "    train_set_y=[]\n",
    "    #添加训练数据\n",
    "    for i in range(1,6):\n",
    "        fileName='data_batch_%s'%(str(i))\n",
    "        rawDataDic=unpickle(fileName)\n",
    "        train_set_x_orig.extend(list(rawDataDic[b'data']))\n",
    "        train_set_y.extend(rawDataDic[b'labels'])\n",
    "    train_set_x_orig=np.array(train_set_x_orig)\n",
    "    train_set_y=np.array(train_set_y)\n",
    "    #添加元数据\n",
    "    rawMetadata=unpickle('batches.meta')\n",
    "    classes=rawMetadata[b'label_names']\n",
    "    for i in range(len(classes)):\n",
    "        classes[i]=classes[i].decode()\n",
    "    #添加测试数据\n",
    "    rawTestDataDic=unpickle('test_batch')\n",
    "    test_set_x_orig=rawTestDataDic[b'data']\n",
    "    test_set_y=np.array(rawTestDataDic[b'labels'])\n",
    "    #输出时需要对部分数据进行转置处理\n",
    "    return train_set_x_orig.T, train_set_y.T, test_set_x_orig.T, test_set_y.T, classes"
   ]
  },
  {
   "cell_type": "code",
   "execution_count": 5,
   "metadata": {
    "collapsed": true
   },
   "outputs": [],
   "source": [
    "train_set_x_orig, train_set_y, test_set_x_orig, test_set_y, classes=loadDataSet()"
   ]
  },
  {
   "cell_type": "markdown",
   "metadata": {},
   "source": [
    "数据浏览：CIFAR-10数据集解压后以字典形式存储，其中b'data'对应于各图片RGB矩阵原始矩阵大小为(32x32x3)，图像像素大小32x32，b'label'对应于图片所指的类别。除此之外解压后的图片信息已经完成了flatten，从RGB图片被规则化成一串矢量，挑选其中一张图片将其还原。"
   ]
  },
  {
   "cell_type": "code",
   "execution_count": 6,
   "metadata": {},
   "outputs": [
    {
     "data": {
      "image/png": "[encoded data removed]",
      "text/plain": [
       "<matplotlib.figure.Figure at 0xa18bf28>"
      ]
     },
     "metadata": {},
     "output_type": "display_data"
    },
    {
     "name": "stdout",
     "output_type": "stream",
     "text": [
      "y=9 ,it is a truck\n"
     ]
    }
   ],
   "source": [
    "#还原图片\n",
    "def showpic(data):\n",
    "    arr = data.reshape(3, 32, 32)\n",
    "    # 得到RGB通道\n",
    "    r = Image.fromarray(arr[0]).convert('L')\n",
    "    g = Image.fromarray(arr[1]).convert('L')\n",
    "    b = Image.fromarray(arr[2]).convert('L')\n",
    "    image = Image.merge(\"RGB\", (r, g, b))\n",
    "    # 显示图片\n",
    "    pyplot.imshow(image)\n",
    "    pyplot.show()\n",
    "#显示第2张照片\n",
    "showpic(train_set_x_orig[:,1])\n",
    "print('y=%s ,it is a %s'%(train_set_y[1],classes[train_set_y[1]]))"
   ]
  },
  {
   "cell_type": "markdown",
   "metadata": {
    "collapsed": true
   },
   "source": [
    "由于图像原始RGB文件灰度位于0-255之间，在完成flatten的同时需要完成归一化（normalization）,这一步在原始数据集里是没有完成的。同时设立训练集-开发集-测试集，其中训练集为X_train/Y_train不再变动，有50000个样本。原本10000个样本划分成5000个开发样本及5000个测试样本。"
   ]
  },
  {
   "cell_type": "code",
   "execution_count": 7,
   "metadata": {
    "collapsed": true
   },
   "outputs": [],
   "source": [
    "X_train=train_set_x_orig/255\n",
    "X_dev=test_set_x_orig[:,:5000]/255\n",
    "X_test=test_set_x_orig[:,5000:]/255"
   ]
  },
  {
   "cell_type": "markdown",
   "metadata": {},
   "source": [
    "采用one-hot编码转换原始的数据标签"
   ]
  },
  {
   "cell_type": "code",
   "execution_count": 8,
   "metadata": {
    "collapsed": true
   },
   "outputs": [],
   "source": [
    "def convert_to_one_hot(Y, C):\n",
    "    Y = np.eye(C)[Y.reshape(-1)].T\n",
    "    return Y\n",
    "Y_train = convert_to_one_hot(train_set_y, 10)\n",
    "Y_dev = convert_to_one_hot(test_set_y, 10)[:,:5000]\n",
    "Y_test = convert_to_one_hot(test_set_y, 10)[:,5000:]"
   ]
  },
  {
   "cell_type": "markdown",
   "metadata": {},
   "source": [
    "展示训练集和测试集结构"
   ]
  },
  {
   "cell_type": "code",
   "execution_count": 9,
   "metadata": {},
   "outputs": [
    {
     "name": "stdout",
     "output_type": "stream",
     "text": [
      "number of training examples = 50000\n",
      "number of test examples = 10000\n",
      "X_train shape: (3072, 50000)\n",
      "Y_train shape: (10, 50000)\n",
      "X_test shape: (3072, 10000)\n",
      "Y_test shape: (10, 10000)\n"
     ]
    }
   ],
   "source": [
    "print (\"number of training examples = \" + str(X_train.shape[1]))\n",
    "print (\"number of test examples = \" + str(X_test.shape[1]))\n",
    "print (\"X_train shape: \" + str(X_train.shape))\n",
    "print (\"Y_train shape: \" + str(Y_train.shape))\n",
    "print (\"X_dev shape: \" + str(X_dev.shape))\n",
    "print (\"Y_dev shape: \" + str(Y_dev.shape))\n",
    "print (\"X_test shape: \" + str(X_test.shape))\n",
    "print (\"Y_test shape: \" + str(Y_test.shape))"
   ]
  },
  {
   "cell_type": "markdown",
   "metadata": {},
   "source": [
    "# 尝试标准3层神经网络的构建"
   ]
  },
  {
   "cell_type": "markdown",
   "metadata": {},
   "source": [
    "在搭建神经网络之前，我们需要构建minibatch思想，随机从minibatch中抽取数据集进行操作，有如下函数："
   ]
  },
  {
   "cell_type": "code",
   "execution_count": 2,
   "metadata": {
    "collapsed": true
   },
   "outputs": [],
   "source": [
    "#构建随机minibatch数据集\n",
    "def random_mini_batches(X, Y, mini_batch_size = 64):  \n",
    "    m = X.shape[1]                  \n",
    "    mini_batches = []   \n",
    "    # 对训练数据随机洗牌打乱\n",
    "    permutation = list(np.random.permutation(m))\n",
    "    shuffled_X = X[:, permutation]\n",
    "    shuffled_Y = Y[:, permutation].reshape((Y.shape[0],m))\n",
    "    # 分割数据集\n",
    "    num_complete_minibatches = int(math.floor(m/mini_batch_size)) \n",
    "    for k in range(0, num_complete_minibatches):\n",
    "        mini_batch_X = shuffled_X[:, k * mini_batch_size : k * mini_batch_size + mini_batch_size]\n",
    "        mini_batch_Y = shuffled_Y[:, k * mini_batch_size : k * mini_batch_size + mini_batch_size]\n",
    "        mini_batch = (mini_batch_X, mini_batch_Y)\n",
    "        mini_batches.append(mini_batch)    \n",
    "    # 处理最后多余的数据\n",
    "    if m % mini_batch_size != 0:\n",
    "        mini_batch_X = shuffled_X[:, num_complete_minibatches * mini_batch_size : m]\n",
    "        mini_batch_Y = shuffled_Y[:, num_complete_minibatches * mini_batch_size : m]\n",
    "        mini_batch = (mini_batch_X, mini_batch_Y)\n",
    "        mini_batches.append(mini_batch)   \n",
    "    return mini_batches"
   ]
  },
  {
   "cell_type": "markdown",
   "metadata": {},
   "source": [
    "首先先来构建占位器"
   ]
  },
  {
   "cell_type": "code",
   "execution_count": 11,
   "metadata": {
    "collapsed": true
   },
   "outputs": [],
   "source": [
    "#构建占位器\n",
    "def create_placeholders(n_x, n_y):\n",
    "    X = tf.placeholder(tf.float32,shape=(n_x,None),name='X')\n",
    "    Y = tf.placeholder(tf.float32,shape=(n_y,None),name='Y')\n",
    "    return X, Y"
   ]
  },
  {
   "cell_type": "markdown",
   "metadata": {},
   "source": [
    "初始化参数：以Xavier初始化权重W，以0初始化偏差b"
   ]
  },
  {
   "cell_type": "code",
   "execution_count": 12,
   "metadata": {
    "collapsed": true
   },
   "outputs": [],
   "source": [
    "#参数初始化\n",
    "def initialize_parameters(): \n",
    "    W1 = tf.get_variable(\"W1\", [40,3072], initializer = tf.contrib.layers.xavier_initializer())\n",
    "    b1 = tf.get_variable(\"b1\", [40,1], initializer = tf.zeros_initializer())\n",
    "    W2 = tf.get_variable(\"W2\", [20,40], initializer = tf.contrib.layers.xavier_initializer())\n",
    "    b2 = tf.get_variable(\"b2\", [20,1], initializer = tf.zeros_initializer())\n",
    "    W3 = tf.get_variable(\"W3\", [10,20], initializer = tf.contrib.layers.xavier_initializer())\n",
    "    b3 = tf.get_variable(\"b3\", [10,1], initializer = tf.zeros_initializer())\n",
    "    #存储参数\n",
    "    parameters = {\"W1\": W1,\n",
    "                  \"b1\": b1,\n",
    "                  \"W2\": W2,\n",
    "                  \"b2\": b2,\n",
    "                  \"W3\": W3,\n",
    "                  \"b3\": b3}\n",
    "    \n",
    "    return parameters"
   ]
  },
  {
   "cell_type": "markdown",
   "metadata": {},
   "source": [
    "tensorflow中的前向传播，采用ReLu函数作为隐藏层网络激活函数"
   ]
  },
  {
   "cell_type": "code",
   "execution_count": 13,
   "metadata": {
    "collapsed": true
   },
   "outputs": [],
   "source": [
    "#前向传播\n",
    "def forward_propagation(X, parameters):\n",
    "    W1 = parameters['W1']\n",
    "    b1 = parameters['b1']\n",
    "    W2 = parameters['W2']\n",
    "    b2 = parameters['b2']\n",
    "    W3 = parameters['W3']\n",
    "    b3 = parameters['b3']\n",
    "    Z1 = tf.add(tf.matmul(W1,X),b1)                                             \n",
    "    A1 = tf.nn.relu(Z1)                                               \n",
    "    Z2 = tf.add(tf.matmul(W2,A1),b2)                                              \n",
    "    A2 = tf.nn.relu(Z2)                                            \n",
    "    Z3 = tf.add(tf.matmul(W3,A2),b3)                                                 \n",
    "    return Z3"
   ]
  },
  {
   "cell_type": "markdown",
   "metadata": {},
   "source": [
    "利用交叉熵计算神经网络损失函数，并累积损失函数之和"
   ]
  },
  {
   "cell_type": "code",
   "execution_count": 14,
   "metadata": {
    "collapsed": true
   },
   "outputs": [],
   "source": [
    "# 计算损失函数\n",
    "def compute_cost(Z3, Y):\n",
    "    logits = tf.transpose(Z3)\n",
    "    labels = tf.transpose(Y)\n",
    "    cost = tf.reduce_mean(tf.nn.softmax_cross_entropy_with_logits(logits = logits, labels = labels))\n",
    "    return cost+reg"
   ]
  },
  {
   "cell_type": "markdown",
   "metadata": {},
   "source": [
    "采用Adam优化策略进行后向传播，并搭建整体模型。"
   ]
  },
  {
   "cell_type": "code",
   "execution_count": 17,
   "metadata": {
    "collapsed": true
   },
   "outputs": [],
   "source": [
    "def model(X_train, Y_train,X_dev,Y_dev, X_test, Y_test, learning_rate = 0.0001,\n",
    "          num_epochs = 1500, minibatch_size = 32, print_cost = True):\n",
    "    ops.reset_default_graph()                                                                                    \n",
    "    (n_x, m) = X_train.shape                        \n",
    "    n_y = Y_train.shape[0]                          \n",
    "    costs = []                                     \n",
    "    # 创建占位器\n",
    "    X, Y = create_placeholders(n_x, n_y)\n",
    "    keep_prob = tf.placeholder(tf.float32, name='keep_prob')\n",
    "    # 初始化参数\n",
    "    parameters = initialize_parameters()\n",
    "    # 构建神经网络前向传播流\n",
    "    Z3 = forward_propagation(X, parameters)\n",
    "    # 计算神经网络损失函数\n",
    "    cost = compute_cost(Z3, Y)\n",
    "    # 采用Adam优化策略实现后向传播\n",
    "    optimizer = tf.train.AdamOptimizer(learning_rate = learning_rate).minimize(cost)\n",
    "    # 初始化全局变量\n",
    "    init = tf.global_variables_initializer()\n",
    "    # 创建tensorflow对话\n",
    "    with tf.Session() as sess:\n",
    "        # 在对话中初始化变量\n",
    "        sess.run(init)\n",
    "        # 循环训练\n",
    "        for epoch in range(num_epochs):\n",
    "\n",
    "            epoch_cost = 0.\n",
    "            # 设置minibatch大小并计算minibath个数\n",
    "            num_minibatches = int(m / minibatch_size) \n",
    "            minibatches = random_mini_batches(X_train, Y_train, minibatch_size)\n",
    "            for minibatch in minibatches:\n",
    "                # 挑选一个minibatch进行分析\n",
    "                (minibatch_X, minibatch_Y) = minibatch\n",
    "                # 运行上述神经网络构建优化过程\n",
    "                _ , minibatch_cost = sess.run([optimizer, cost], feed_dict={X: minibatch_X, Y: minibatch_Y,keep_prob:0.5})\n",
    "                epoch_cost += minibatch_cost / num_minibatches\n",
    "            # 画出损失函数\n",
    "            if print_cost == True and epoch % 100 == 0:\n",
    "                correct_prediction = tf.equal(tf.argmax(Z3), tf.argmax(Y))\n",
    "                accuracy = tf.reduce_mean(tf.cast(correct_prediction, \"float\"))\n",
    "                print (\"Cost after epoch %i: %f trainAccuracy:%f testAccuracy:%f\" % (epoch, epoch_cost,accuracy.eval({X: X_train, Y: Y_train}),accuracy.eval({X: X_dev, Y: Y_dev})))\n",
    "            if print_cost == True and epoch % 5 == 0:\n",
    "                costs.append(epoch_cost)\n",
    "        plt.plot(np.squeeze(costs))\n",
    "        plt.ylabel('cost')\n",
    "        plt.xlabel('iterations (per tens)')\n",
    "        plt.title(\"Learning rate =\" + str(learning_rate))\n",
    "        plt.show()\n",
    "        # 保存所有计算后的参数\n",
    "        parameters = sess.run(parameters)\n",
    "        print (\"Parameters have been trained!\")\n",
    "        # 计算准确率\n",
    "        correct_prediction = tf.equal(tf.argmax(Z3), tf.argmax(Y))\n",
    "        accuracy = tf.reduce_mean(tf.cast(correct_prediction, \"float\"))\n",
    "        print (\"Train Accuracy:\", accuracy.eval({X: X_train, Y: Y_train}))\n",
    "        print (\"dev Accuracy:\", accuracy.eval({X: X_dev, Y: Y_dev}))\n",
    "        print (\"Test Accuracy:\", accuracy.eval({X: X_test, Y: Y_test}))\n",
    "        return parameters"
   ]
  },
  {
   "cell_type": "code",
   "execution_count": 27,
   "metadata": {
    "scrolled": false
   },
   "outputs": [
    {
     "name": "stdout",
     "output_type": "stream",
     "text": [
      "Cost after epoch 0: 2.014423 trainAccuracy:0.342760 testAccuracy:0.336300\n",
      "Cost after epoch 100: 1.269364 trainAccuracy:0.556380 testAccuracy:0.478900\n",
      "Cost after epoch 200: 1.174525 trainAccuracy:0.585020 testAccuracy:0.480100\n",
      "Cost after epoch 300: 1.108382 trainAccuracy:0.615100 testAccuracy:0.478000\n",
      "Cost after epoch 400: 1.057198 trainAccuracy:0.633240 testAccuracy:0.470200\n",
      "Cost after epoch 500: 1.019932 trainAccuracy:0.639840 testAccuracy:0.459200\n",
      "Cost after epoch 600: 0.986554 trainAccuracy:0.659160 testAccuracy:0.461800\n",
      "Cost after epoch 700: 0.955408 trainAccuracy:0.658300 testAccuracy:0.456700\n",
      "Cost after epoch 800: 0.930741 trainAccuracy:0.664400 testAccuracy:0.452200\n",
      "Cost after epoch 900: 0.909685 trainAccuracy:0.667920 testAccuracy:0.444500\n",
      "Cost after epoch 1000: 0.889750 trainAccuracy:0.668660 testAccuracy:0.443300\n",
      "Cost after epoch 1100: 0.872773 trainAccuracy:0.709080 testAccuracy:0.446100\n",
      "Cost after epoch 1200: 0.851465 trainAccuracy:0.697600 testAccuracy:0.436300\n",
      "Cost after epoch 1300: 0.830620 trainAccuracy:0.710600 testAccuracy:0.437000\n",
      "Cost after epoch 1400: 0.814296 trainAccuracy:0.706900 testAccuracy:0.439300\n"
     ]
    },
    {
     "data": {
      "image/png": "[encoded data removed]",
      "text/plain": [
       "<matplotlib.figure.Figure at 0xfbf0ef0>"
      ]
     },
     "metadata": {},
     "output_type": "display_data"
    },
    {
     "name": "stdout",
     "output_type": "stream",
     "text": [
      "Parameters have been trained!\n",
      "Train Accuracy: 0.72802\n",
      "Test Accuracy: 0.4377\n"
     ]
    }
   ],
   "source": [
    "# parameters = model(X_train, Y_train, X_test, Y_test)"
   ]
  },
  {
   "cell_type": "markdown",
   "metadata": {
    "collapsed": true
   },
   "source": [
    "# 尝试卷积神经网络构建"
   ]
  },
  {
   "cell_type": "markdown",
   "metadata": {},
   "source": [
    "卷积神经网络构造的时候需要用到原始的图像格式（即50000x32x32x3的矩阵），需要转换数据。"
   ]
  },
  {
   "cell_type": "code",
   "execution_count": 2,
   "metadata": {},
   "outputs": [
    {
     "name": "stdout",
     "output_type": "stream",
     "text": [
      "(5000, 10)\n"
     ]
    }
   ],
   "source": [
    "#数据集由Pickle模块存放，也以此解压\n",
    "def unpickle(file):\n",
    "    with open(file, 'rb') as fo:\n",
    "        dict = pickle.load(fo, encoding='bytes')\n",
    "    return dict\n",
    "#加载所有数据\n",
    "def loadDataSet():\n",
    "    train_set_x_orig=[]\n",
    "    train_set_y=[]\n",
    "    #添加训练数据\n",
    "    for i in range(1,6):\n",
    "        fileName='data_batch_%s'%(str(i))\n",
    "        rawDataDic=unpickle(fileName)\n",
    "        train_set_x_orig.extend(list(rawDataDic[b'data']))\n",
    "        train_set_y.extend(rawDataDic[b'labels'])\n",
    "    train_set_x_orig=np.array(train_set_x_orig)\n",
    "    train_set_y=np.array(train_set_y)\n",
    "    #添加元数据\n",
    "    rawMetadata=unpickle('batches.meta')\n",
    "    classes=rawMetadata[b'label_names']\n",
    "    for i in range(len(classes)):\n",
    "        classes[i]=classes[i].decode()\n",
    "    #添加测试数据\n",
    "    rawTestDataDic=unpickle('test_batch')\n",
    "    test_set_x_orig=rawTestDataDic[b'data']\n",
    "    test_set_y=np.array(rawTestDataDic[b'labels'])\n",
    "    #输出时需要对部分数据进行转置处理\n",
    "    return train_set_x_orig, train_set_y, test_set_x_orig, test_set_y, classes\n",
    "train_set_x_orig, train_set_y, test_set_x_orig, test_set_y, classes=loadDataSet()\n",
    "X_train=train_set_x_orig.reshape(50000, 3, 32, 32)/255\n",
    "X_dev=test_set_x_orig.reshape(10000, 3, 32, 32)[:5000,:]/255\n",
    "X_test=test_set_x_orig.reshape(10000, 3, 32, 32)[5000:,:]/255\n",
    "X_train=np.transpose(X_train, (0, 2, 3, 1))\n",
    "X_dev=np.transpose(X_dev, (0, 2, 3, 1))\n",
    "X_test=np.transpose(X_test, (0, 2, 3, 1))\n",
    "#采用one-hot编码\n",
    "def convert_to_one_hot(Y, C):\n",
    "    Y = np.eye(C)[Y.reshape(-1)]\n",
    "    return Y\n",
    "Y_train = convert_to_one_hot(train_set_y, 10)\n",
    "Y_dev = convert_to_one_hot(test_set_y, 10)[:5000,:]\n",
    "Y_test = convert_to_one_hot(test_set_y, 10)[5000:,:]\n",
    "print(Y_dev.shape)"
   ]
  },
  {
   "cell_type": "markdown",
   "metadata": {},
   "source": [
    "计算卷积层的输出尺寸,卷积层输出的矩阵尺寸由三个因素决定：\n",
    "- 输入矩阵尺寸\n",
    "- 卷积核尺寸\n",
    "- 步长\n",
    "- 计算公式为\n",
    "$$\\mathrm{output = (input - kernel + 2 * padding) ~ / ~ stride + 1}$$"
   ]
  },
  {
   "cell_type": "code",
   "execution_count": 3,
   "metadata": {},
   "outputs": [
    {
     "name": "stdout",
     "output_type": "stream",
     "text": [
      "Input Shape =  (32, 32, 3)\n",
      "Output Shape =  (15, 15, 64)\n"
     ]
    }
   ],
   "source": [
    "# 假设输入图片和卷积核的形状都是正方形\n",
    "def get_output_shape(input_shape, kernel_shape, stride):\n",
    "    j = kernel_shape - 1\n",
    "    c = 0\n",
    "    while j < input_shape:\n",
    "        c += 1\n",
    "        j += stride\n",
    "    return c\n",
    "\n",
    "# 假设图片尺寸为 32 x 32 x 3，卷积核尺寸为 3 x 3 x 3，步长为 2，卷积核个数 64\n",
    "n_kernel = 64\n",
    "input_shape = 32\n",
    "output_shape = get_output_shape(32, 3, 2)\n",
    "print('Input Shape = ', (input_shape, input_shape, 3))\n",
    "print('Output Shape = ', (output_shape, output_shape, n_kernel))"
   ]
  },
  {
   "cell_type": "markdown",
   "metadata": {},
   "source": [
    "**构造模型**\n",
    "\n",
    "模型由以下几层组合而成\n",
    "- 卷积层：用卷积核与每个图像进行卷积计算，输出特征图（Feature map），图像的深度得到扩展。\n",
    "- 池化层：挑选取值最大的像素点作为代表，主要意义是降维（降低图像尺寸）\n",
    "- 展开层：将三维的图像数据拉直为一维向量，向量的每个元素被视为一个特征，方便送入全连接层。\n",
    "- 全连接层：特征的非线性分类器，与 MLP 中的全链接层功能一样。\n",
    "\n",
    "**tf.layers.conv2d**\n",
    "\n",
    "tf.layers.conv2d(inputs, filters, kernel_size, strides=(1, 1), padding='valid', data_format='channels_last', dilation_rate=(1, 1), activation=None, use_bias=True, kernel_initializer=None, bias_initializer=?, kernel_regularizer=None, bias_regularizer=None, activity_regularizer=None, trainable=True, name=None, reuse=None)\n",
    "\n",
    "**tf.nn.conv2d**\n",
    "\n",
    "tf.nn.conv2d(input, filter, strides, padding, use_cudnn_on_gpu=None, data_format=None, name=None)\n",
    "\n",
    "conv2d 是一个 operation，要求输入的 input 和 filter 本身都是 Tensor 类型的对象，因此需要先用 tf.Variable 定义这两个对象，并且对权重矩阵这个 Tensor 进行初始化才能调用 conv2d 函数。"
   ]
  },
  {
   "cell_type": "code",
   "execution_count": 35,
   "metadata": {
    "collapsed": true
   },
   "outputs": [],
   "source": [
    "#创建卷积层\n",
    "def conv_layer(x, out_channel, k_size, stride, padding):\n",
    "    in_channel = x.shape[3].value\n",
    "    #生成正态分布权重\n",
    "    w = tf.Variable(tf.truncated_normal([k_size, k_size, in_channel, out_channel], mean=0, stddev=0.01))\n",
    "    b = tf.Variable(tf.zeros(out_channel))\n",
    "    x = tf.nn.conv2d(x, filter=w, strides=[1, stride, stride, 1], padding=padding)\n",
    "    x = tf.nn.bias_add(x, b)\n",
    "    x = tf.nn.relu(x)\n",
    "    return x\n",
    "\n",
    "#创建池化层\n",
    "def pool_layer(x, k_size, stride, padding):\n",
    "    return tf.nn.max_pool(x, ksize=[1, k_size, k_size, 1], strides=[1, stride, stride, 1], padding=padding)\n",
    "\n",
    "#将多维图像展开成矢量\n",
    "def flatten_layer(x):\n",
    "    dim = x.shape[1].value * x.shape[2].value * x.shape[3].value\n",
    "    return tf.reshape(x, shape=[-1, dim])\n",
    "\n",
    "#构建全连接层\n",
    "def fc_layer(x, n_output):\n",
    "    w = tf.Variable(tf.truncated_normal([x.shape[1].value, n_output], mean=0, stddev=0.01))\n",
    "    b = tf.Variable(tf.zeros(n_output))\n",
    "    x = tf.matmul(x, w)\n",
    "    x = tf.add(x, b)\n",
    "    x = tf.nn.relu(x)\n",
    "    return x\n",
    "\n",
    "#采用dropout训练策略\n",
    "def dropout_layer(x, keep_prob):\n",
    "    return tf.nn.dropout(x, keep_prob)\n",
    "\n",
    "#构建输出层\n",
    "def output_layer(x, n_output):\n",
    "    w = tf.Variable(tf.truncated_normal([x.shape[1].value, n_output], mean=0, stddev=0.01))\n",
    "    b = tf.Variable(tf.zeros(n_output))\n",
    "    x = tf.matmul(x, w)\n",
    "    x = tf.add(x, b)\n",
    "    x = tf.identity(x, name='logits')  # Rename\n",
    "    return x"
   ]
  },
  {
   "cell_type": "code",
   "execution_count": 36,
   "metadata": {
    "collapsed": true
   },
   "outputs": [],
   "source": [
    "#创建整体模型\n",
    "def create_model(x, keep_prob):\n",
    "    x = conv_layer(x, 16, 3, 1, 'SAME')\n",
    "    x = pool_layer(x, 2, 2, 'VALID')\n",
    "    x = conv_layer(x, 32, 3, 1, 'SAME')\n",
    "    x = pool_layer(x, 2, 2, 'VALID')\n",
    "    x = conv_layer(x, 64, 3, 1, 'SAME')\n",
    "    x = pool_layer(x, 2, 2, 'VALID')\n",
    "    x = flatten_layer(x)\n",
    "    x = fc_layer(x, 128)\n",
    "    x = dropout_layer(x, keep_prob)\n",
    "    x = output_layer(x, 10)   \n",
    "    return x"
   ]
  },
  {
   "cell_type": "markdown",
   "metadata": {},
   "source": [
    "**训练模型**"
   ]
  },
  {
   "cell_type": "code",
   "execution_count": 3,
   "metadata": {
    "collapsed": true
   },
   "outputs": [],
   "source": [
    "#获取minibatch\n",
    "def get_batch(x, y, batch_size):\n",
    "    for start in range(0, len(x), batch_size):\n",
    "        end = min(start + batch_size, len(x))\n",
    "        yield x[start:end], y[start:end]\n",
    "#构建随机minibatch数据集\n",
    "def random_mini_batches(X, Y, mini_batch_size = 64):  \n",
    "    m = X.shape[0]                  \n",
    "    mini_batches = []   \n",
    "    # 对训练数据随机洗牌打乱\n",
    "    permutation = list(np.random.permutation(m))\n",
    "    shuffled_X = X[permutation,:]\n",
    "    shuffled_Y = Y[permutation,:]\n",
    "    # 分割数据集\n",
    "    num_complete_minibatches = int(math.floor(m/mini_batch_size)) \n",
    "    for k in range(0, num_complete_minibatches):\n",
    "        mini_batch_X = shuffled_X[k * mini_batch_size : k * mini_batch_size + mini_batch_size,:]\n",
    "        mini_batch_Y = shuffled_Y[k * mini_batch_size : k * mini_batch_size + mini_batch_size,:]\n",
    "        mini_batch = (mini_batch_X, mini_batch_Y)\n",
    "        mini_batches.append(mini_batch)    \n",
    "    # 处理最后多余的数据\n",
    "    if m % mini_batch_size != 0:\n",
    "        mini_batch_X = shuffled_X[num_complete_minibatches * mini_batch_size : m,:]\n",
    "        mini_batch_Y = shuffled_Y[num_complete_minibatches * mini_batch_size : m,:]\n",
    "        mini_batch = (mini_batch_X, mini_batch_Y)\n",
    "        mini_batches.append(mini_batch)   \n",
    "    return mini_batches"
   ]
  },
  {
   "cell_type": "markdown",
   "metadata": {},
   "source": [
    "**开启tensorflow对话session进入训练**"
   ]
  },
  {
   "cell_type": "code",
   "execution_count": 5,
   "metadata": {
    "collapsed": true
   },
   "outputs": [],
   "source": [
    "def cnnModel(X_train, Y_train, X_dev, Y_dev,X_test,Y_test,epochs = 200, n_class=5,batch_size = 128, stddev=0.01,dropout=0.5,create_model=create_model2):\n",
    "    #建立计算图\n",
    "    tf.reset_default_graph()\n",
    "    #创建占位器\n",
    "    x_input   = tf.placeholder(tf.float32, shape=(None, 32, 32, 3), name='x_input')\n",
    "    y_true    = tf.placeholder(tf.float32, shape=(None, n_class), name='y_true')\n",
    "    keep_prob = tf.placeholder(tf.float32, name='keep_prob')\n",
    "    #构建模型\n",
    "    y_pred = create_model(x_input, keep_prob)\n",
    "    #计算损失函数\n",
    "    cost = tf.reduce_mean(tf.nn.softmax_cross_entropy_with_logits(logits=y_pred, labels=y_true))\n",
    "    #采用adam策略进行后向传播\n",
    "    optimizer = tf.train.AdamOptimizer().minimize(cost)\n",
    "    #计算准确率\n",
    "    correct_pred = tf.equal(tf.argmax(y_pred, 1), tf.argmax(y_true, 1))    \n",
    "    accuracy = tf.reduce_mean(tf.cast(correct_pred, tf.float32), name='accuracy')\n",
    "    history = {}\n",
    "    history['acc'] = []\n",
    "    history['val_acc'] = []\n",
    "    history['test_acc'] = []\n",
    "    with tf.Session(config=tf.ConfigProto(log_device_placement=True)) as session:\n",
    "        # 可视化整个网络结构的视图，通过 TensorBoard 查看\n",
    "#         tf.summary.FileWriter('./graphs', session.graph)\n",
    "        session.run(tf.global_variables_initializer())\n",
    "        for i in range(epochs):\n",
    "            # 将训练集按 batch_size 切分为很多 batch，每个 batch 用于更新一次模型参数\n",
    "            minibatch=random_mini_batches(X_train, Y_train, batch_size)\n",
    "            for (X_batch, Y_batch) in minibatch:\n",
    "                session.run(optimizer, feed_dict={x_input:X_batch, y_true:Y_batch, keep_prob:dropout})\n",
    "\n",
    "            # 本轮训练集最后一个 batch 的损失值\n",
    "            loss = session.run(cost, feed_dict={x_input:X_batch, y_true:Y_batch, keep_prob:1})\n",
    "            \n",
    "            # 本轮训练后的模型用于训练集的最后一个 batch 的准确率\n",
    "            acc = session.run(accuracy, feed_dict={x_input:X_batch, y_true:Y_batch, keep_prob:1})\n",
    "            history['acc'].append(acc)\n",
    "\n",
    "            # 本轮训练后的模型用于验证集的准确率\n",
    "            devbatch=random_mini_batches(X_dev, Y_dev, 256)\n",
    "            accNum=0\n",
    "            for (X_devbatch, Y_devbatch) in devbatch:\n",
    "                temp_acc = session.run(accuracy, feed_dict={x_input:X_devbatch, y_true:Y_devbatch, keep_prob:1})\n",
    "                accNum+=X_devbatch.shape[0]*temp_acc\n",
    "            val_acc=accNum/float(X_dev.shape[0])\n",
    "            history['val_acc'].append(val_acc)\n",
    "            \n",
    "            # 本轮训练后的模型用于测试集的准确率\n",
    "            testbatch=random_mini_batches(X_test, Y_test, 256)\n",
    "            accNum=0\n",
    "            for (X_testbatch, Y_testbatch) in testbatch:\n",
    "                temp_acc = session.run(accuracy, feed_dict={x_input:X_testbatch, y_true:Y_testbatch, keep_prob:1})\n",
    "                accNum+=X_testbatch.shape[0]*temp_acc\n",
    "            test_acc=accNum/float(X_test.shape[0])\n",
    "            history['test_acc'].append(test_acc)\n",
    "            \n",
    "            if i%5==0:\n",
    "                print(\"Epoch =\", i, \"    train_loss =\", loss, \n",
    "                      \"     train_acc =\", round(acc * 100, 2), \"%\", \n",
    "                      \"     validation_acc =\", round(val_acc * 100, 2), \"%\",\n",
    "                     \"     test_acc =\", round(test_acc * 100, 2), \"%\")\n",
    "        saver = tf.train.Saver()\n",
    "        save_path = saver.save(session, '.\\michaelcifar5cnn2')\n",
    "    plt.figure()\n",
    "    plt.plot(range(150), history['acc'], label='Train Accuracy')\n",
    "    plt.plot(range(150), history['val_acc'], label='Valid Accuracy')\n",
    "    plt.title('Model , CIFAR-5 CNN Model', size=15)\n",
    "    plt.xlabel('Epochs')\n",
    "    plt.ylabel('Accuracy')\n",
    "    plt.legend()\n",
    "    plt.grid(True)\n",
    "    plt.show()"
   ]
  },
  {
   "cell_type": "code",
   "execution_count": 19,
   "metadata": {
    "scrolled": false
   },
   "outputs": [
    {
     "name": "stdout",
     "output_type": "stream",
     "text": [
      "Epoch = 0     train_loss = 1.87186      train_acc = 26.25 %      validation_acc = 30.3 %\n",
      "Epoch = 5     train_loss = 1.46563      train_acc = 43.75 %      validation_acc = 46.56 %\n",
      "Epoch = 10     train_loss = 1.31803      train_acc = 52.5 %      validation_acc = 49.08 %\n",
      "Epoch = 15     train_loss = 1.23911      train_acc = 61.25 %      validation_acc = 55.86 %\n",
      "Epoch = 20     train_loss = 1.33666      train_acc = 47.5 %      validation_acc = 59.22 %\n",
      "Epoch = 25     train_loss = 0.991741      train_acc = 66.25 %      validation_acc = 58.7 %\n",
      "Epoch = 30     train_loss = 0.925526      train_acc = 67.5 %      validation_acc = 61.98 %\n",
      "Epoch = 35     train_loss = 0.686648      train_acc = 80.0 %      validation_acc = 63.4 %\n",
      "Epoch = 40     train_loss = 0.716769      train_acc = 78.75 %      validation_acc = 64.34 %\n",
      "Epoch = 45     train_loss = 0.936018      train_acc = 70.0 %      validation_acc = 64.56 %\n",
      "Epoch = 50     train_loss = 0.904111      train_acc = 57.5 %      validation_acc = 66.28 %\n",
      "Epoch = 55     train_loss = 0.823102      train_acc = 60.0 %      validation_acc = 66.06 %\n",
      "Epoch = 60     train_loss = 0.742718      train_acc = 73.75 %      validation_acc = 66.96 %\n",
      "Epoch = 65     train_loss = 0.855371      train_acc = 62.5 %      validation_acc = 67.56 %\n",
      "Epoch = 70     train_loss = 0.620935      train_acc = 77.5 %      validation_acc = 67.88 %\n",
      "Epoch = 75     train_loss = 0.649337      train_acc = 78.75 %      validation_acc = 68.28 %\n",
      "Epoch = 80     train_loss = 0.663008      train_acc = 72.5 %      validation_acc = 68.08 %\n",
      "Epoch = 85     train_loss = 0.566283      train_acc = 77.5 %      validation_acc = 67.9 %\n",
      "Epoch = 90     train_loss = 0.677492      train_acc = 73.75 %      validation_acc = 68.9 %\n",
      "Epoch = 95     train_loss = 0.581493      train_acc = 78.75 %      validation_acc = 68.54 %\n",
      "Epoch = 100     train_loss = 0.572406      train_acc = 82.5 %      validation_acc = 68.78 %\n",
      "Epoch = 105     train_loss = 0.466878      train_acc = 80.0 %      validation_acc = 68.72 %\n",
      "Epoch = 110     train_loss = 0.504828      train_acc = 83.75 %      validation_acc = 68.84 %\n",
      "Epoch = 115     train_loss = 0.480267      train_acc = 82.5 %      validation_acc = 68.32 %\n",
      "Epoch = 120     train_loss = 0.555769      train_acc = 83.75 %      validation_acc = 69.18 %\n",
      "Epoch = 125     train_loss = 0.461716      train_acc = 78.75 %      validation_acc = 68.54 %\n",
      "Epoch = 130     train_loss = 0.488345      train_acc = 81.25 %      validation_acc = 68.84 %\n",
      "Epoch = 135     train_loss = 0.48355      train_acc = 83.75 %      validation_acc = 68.7 %\n",
      "Epoch = 140     train_loss = 0.612157      train_acc = 76.25 %      validation_acc = 68.76 %\n",
      "Epoch = 145     train_loss = 0.50452      train_acc = 81.25 %      validation_acc = 68.1 %\n"
     ]
    },
    {
     "data": {
      "image/png": "[encoded data removed]",
      "text/plain": [
       "<matplotlib.figure.Figure at 0xa4aed68>"
      ]
     },
     "metadata": {},
     "output_type": "display_data"
    }
   ],
   "source": [
    "#cnnModel(X_train, Y_train, X_dev, Y_dev,epochs = 150)"
   ]
  },
  {
   "cell_type": "markdown",
   "metadata": {},
   "source": [
    "下面这个模型采用了三层卷积三层池化，和上面不同的是这个模型采用了L2正则化和batch normalization。"
   ]
  },
  {
   "cell_type": "code",
   "execution_count": 4,
   "metadata": {
    "collapsed": true
   },
   "outputs": [],
   "source": [
    "def create_model2(x, keep_prob):\n",
    "    x = tf.contrib.layers.conv2d(x, 16, 3, 1, 'SAME', activation_fn=None, weights_regularizer=tf.contrib.layers.l2_regularizer(0.1))\n",
    "    x = tf.contrib.layers.batch_norm(x)\n",
    "    x = tf.nn.relu(x)\n",
    "    x = tf.nn.max_pool(x, [1, 2, 2, 1], [1, 2, 2, 1], 'VALID')\n",
    "    x = tf.contrib.layers.conv2d(x, 16, 3, 1, 'SAME', activation_fn=None, weights_regularizer=tf.contrib.layers.l2_regularizer(0.1))\n",
    "    x = tf.contrib.layers.batch_norm(x)\n",
    "    x = tf.nn.relu(x)\n",
    "    x = tf.nn.max_pool(x, [1, 2, 2, 1], [1, 2, 2, 1], 'VALID')\n",
    "    x = tf.contrib.layers.conv2d(x, 16, 3, 1, 'SAME', activation_fn=None, weights_regularizer=tf.contrib.layers.l2_regularizer(0.1))\n",
    "    x = tf.contrib.layers.batch_norm(x)\n",
    "    x = tf.nn.relu(x)\n",
    "    x = tf.nn.max_pool(x, [1, 2, 2, 1], [1, 2, 2, 1], 'VALID')\n",
    "    x = tf.contrib.layers.flatten(x)\n",
    "    x = tf.contrib.layers.fully_connected(x, 128, activation_fn=tf.nn.relu)\n",
    "    x = tf.nn.dropout(x, keep_prob)\n",
    "    x = tf.contrib.layers.fully_connected(x, 10, activation_fn=None)\n",
    "    return x"
   ]
  },
  {
   "cell_type": "code",
   "execution_count": 10,
   "metadata": {},
   "outputs": [
    {
     "name": "stdout",
     "output_type": "stream",
     "text": [
      "Epoch = 0     train_loss = 1.57026      train_acc = 40.0 %      validation_acc = 48.02 %\n",
      "Epoch = 5     train_loss = 1.00883      train_acc = 61.25 %      validation_acc = 62.64 %\n",
      "Epoch = 10     train_loss = 0.86923      train_acc = 67.5 %      validation_acc = 66.52 %\n",
      "Epoch = 15     train_loss = 0.602133      train_acc = 76.25 %      validation_acc = 69.84 %\n",
      "Epoch = 20     train_loss = 0.738258      train_acc = 73.75 %      validation_acc = 71.8 %\n",
      "Epoch = 25     train_loss = 0.709689      train_acc = 78.75 %      validation_acc = 71.98 %\n",
      "Epoch = 30     train_loss = 0.680071      train_acc = 75.0 %      validation_acc = 72.38 %\n",
      "Epoch = 35     train_loss = 0.694076      train_acc = 80.0 %      validation_acc = 72.48 %\n",
      "Epoch = 40     train_loss = 0.504386      train_acc = 81.25 %      validation_acc = 73.0 %\n",
      "Epoch = 45     train_loss = 0.709781      train_acc = 75.0 %      validation_acc = 73.54 %\n",
      "Epoch = 50     train_loss = 0.388656      train_acc = 86.25 %      validation_acc = 73.36 %\n",
      "Epoch = 55     train_loss = 0.554001      train_acc = 82.5 %      validation_acc = 73.2 %\n",
      "Epoch = 60     train_loss = 0.423391      train_acc = 85.0 %      validation_acc = 73.38 %\n",
      "Epoch = 65     train_loss = 0.515508      train_acc = 81.25 %      validation_acc = 73.34 %\n",
      "Epoch = 70     train_loss = 0.531738      train_acc = 78.75 %      validation_acc = 73.14 %\n",
      "Epoch = 75     train_loss = 0.451756      train_acc = 83.75 %      validation_acc = 73.42 %\n",
      "Epoch = 80     train_loss = 0.368506      train_acc = 88.75 %      validation_acc = 72.7 %\n",
      "Epoch = 85     train_loss = 0.47488      train_acc = 81.25 %      validation_acc = 73.1 %\n",
      "Epoch = 90     train_loss = 0.392751      train_acc = 87.5 %      validation_acc = 72.94 %\n",
      "Epoch = 95     train_loss = 0.493473      train_acc = 80.0 %      validation_acc = 73.38 %\n",
      "Epoch = 100     train_loss = 0.413598      train_acc = 83.75 %      validation_acc = 72.5 %\n",
      "Epoch = 105     train_loss = 0.396003      train_acc = 82.5 %      validation_acc = 73.08 %\n",
      "Epoch = 110     train_loss = 0.397589      train_acc = 87.5 %      validation_acc = 72.42 %\n",
      "Epoch = 115     train_loss = 0.480288      train_acc = 85.0 %      validation_acc = 72.76 %\n",
      "Epoch = 120     train_loss = 0.373767      train_acc = 88.75 %      validation_acc = 72.68 %\n",
      "Epoch = 125     train_loss = 0.45616      train_acc = 81.25 %      validation_acc = 72.22 %\n",
      "Epoch = 130     train_loss = 0.464263      train_acc = 85.0 %      validation_acc = 72.54 %\n",
      "Epoch = 135     train_loss = 0.487802      train_acc = 82.5 %      validation_acc = 72.78 %\n",
      "Epoch = 140     train_loss = 0.465055      train_acc = 83.75 %      validation_acc = 72.1 %\n",
      "Epoch = 145     train_loss = 0.372884      train_acc = 86.25 %      validation_acc = 72.08 %\n"
     ]
    },
    {
     "data": {
      "image/png": "[encoded data removed]",
      "text/plain": [
       "<matplotlib.figure.Figure at 0x178e25c0>"
      ]
     },
     "metadata": {},
     "output_type": "display_data"
    }
   ],
   "source": [
    "# cnnModel(X_train, Y_train, X_dev, Y_dev,epochs = 150,create_model=create_model2)"
   ]
  },
  {
   "cell_type": "markdown",
   "metadata": {
    "collapsed": true
   },
   "source": [
    "**采用类似于 VGG16 的结构创建模型。**\n",
    "- 使用固定尺寸的小卷积核 3 x 3\n",
    "- 两层卷积搭配一层池化\n",
    "- 使用 VGG16 的前三个卷积池化结构：以2的幂次递增卷积核数量 (64, 128, 256)\n",
    "- 模型的全连接层没有采用 VGG16 庞大的三层结构\n",
    "- 卷积层输出直接上 10 分类的 Softmax Classifier\n",
    "- 权重初始化全部采用 Xavier,并且采用batch normalization和L2正则化"
   ]
  },
  {
   "cell_type": "code",
   "execution_count": 8,
   "metadata": {
    "collapsed": true
   },
   "outputs": [],
   "source": [
    "def create_model3(x, keep_prob):\n",
    "    #layer1\n",
    "    x = tf.contrib.layers.conv2d(x, 64, 3, 1, 'SAME', activation_fn=None, weights_regularizer=tf.contrib.layers.l2_regularizer(0.1))\n",
    "    x = tf.contrib.layers.batch_norm(x)\n",
    "    x = tf.nn.relu(x)\n",
    "    x = tf.contrib.layers.conv2d(x, 64, 3, 1, 'SAME', activation_fn=None, weights_regularizer=tf.contrib.layers.l2_regularizer(0.1))\n",
    "    x = tf.contrib.layers.batch_norm(x)\n",
    "    x = tf.nn.relu(x)\n",
    "    x = tf.nn.max_pool(x, [1, 2, 2, 1], [1, 2, 2, 1], 'SAME')\n",
    "    #layer2\n",
    "    x = tf.contrib.layers.conv2d(x, 128, 3, 1, 'SAME', activation_fn=None, weights_regularizer=tf.contrib.layers.l2_regularizer(0.1))\n",
    "    x = tf.contrib.layers.batch_norm(x)\n",
    "    x = tf.nn.relu(x)\n",
    "    x = tf.contrib.layers.conv2d(x, 128, 3, 1, 'SAME', activation_fn=None, weights_regularizer=tf.contrib.layers.l2_regularizer(0.1))\n",
    "    x = tf.contrib.layers.batch_norm(x)\n",
    "    x = tf.nn.relu(x)\n",
    "    x = tf.nn.max_pool(x, [1, 2, 2, 1], [1, 2, 2, 1], 'SAME')\n",
    "    #layer3\n",
    "    x = tf.contrib.layers.conv2d(x, 256, 3, 1, 'SAME', activation_fn=None, weights_regularizer=tf.contrib.layers.l2_regularizer(0.1))\n",
    "    x = tf.contrib.layers.batch_norm(x)\n",
    "    x = tf.nn.relu(x)\n",
    "    x = tf.contrib.layers.conv2d(x, 256, 3, 1, 'SAME', activation_fn=None, weights_regularizer=tf.contrib.layers.l2_regularizer(0.1))\n",
    "    x = tf.contrib.layers.batch_norm(x)\n",
    "    x = tf.nn.relu(x)\n",
    "    x = tf.nn.max_pool(x, [1, 2, 2, 1], [1, 2, 2, 1], 'SAME')\n",
    "    \n",
    "    \n",
    "    x = tf.contrib.layers.flatten(x)\n",
    "    x = tf.nn.dropout(x, keep_prob)\n",
    "    x = tf.contrib.layers.fully_connected(x, 10, activation_fn=tf.nn.softmax)\n",
    "    return x"
   ]
  },
  {
   "cell_type": "code",
   "execution_count": null,
   "metadata": {
    "collapsed": true
   },
   "outputs": [],
   "source": [
    "cnnModel(X_train, Y_train, X_dev, Y_dev,epochs = 150,create_model=create_model3)"
   ]
  },
  {
   "cell_type": "markdown",
   "metadata": {},
   "source": [
    "类似采用Lenet-5框架模型。\n",
    "![image.png](attachment:image.png)\n",
    "- 第一层，卷积层\n",
    "这一层的输入就是原始的图像像素32x32x1。第一个卷积层过滤器尺寸为5x5，深度为6，不使用全0填充，步长为1。\n",
    "\n",
    "- 第二层，池化层\n",
    "这一层的输入为第一层的输出，本层采用的过滤器大小为2x2，长和宽的步长均为2。\n",
    "\n",
    "- 第三层，卷积层\n",
    "本层使用的过滤器大小为5x5，深度为16.本层不使用全0填充，步长为1。\n",
    "\n",
    "- 第四层，池化层\n",
    "本层采用的过滤器大小为2x2，长和宽的步长均为2。\n",
    "\n",
    "- 第五层，全连接层\n",
    "本层全连接节点120。\n",
    "- 第六层，全连接层\n",
    "本层全连接节点84。\n",
    "- 第七层，全连接层\n",
    "本层全连接节点为输出标签类别10。"
   ]
  },
  {
   "cell_type": "code",
   "execution_count": 9,
   "metadata": {
    "collapsed": true
   },
   "outputs": [],
   "source": [
    "def create_Lenetmodel(x, keep_prob):\n",
    "    #layer1-2(卷积+池化)\n",
    "    x = tf.contrib.layers.conv2d(x, 6, 5, 1, 'SAME', activation_fn=None, weights_regularizer=tf.contrib.layers.l2_regularizer(0.1))\n",
    "    x = tf.contrib.layers.batch_norm(x)\n",
    "    x = tf.nn.relu(x)\n",
    "    x = tf.nn.max_pool(x, [1, 2, 2, 1], [1, 2, 2, 1], 'SAME')\n",
    "    #layer3-4(卷积+池化)\n",
    "    x = tf.contrib.layers.conv2d(x, 16, 5, 1, 'SAME', activation_fn=None, weights_regularizer=tf.contrib.layers.l2_regularizer(0.1))\n",
    "    x = tf.contrib.layers.batch_norm(x)\n",
    "    x = tf.nn.relu(x)\n",
    "    x = tf.nn.max_pool(x, [1, 2, 2, 1], [1, 2, 2, 1], 'SAME')\n",
    "    #layer5（全连接）   \n",
    "    x = tf.contrib.layers.flatten(x)\n",
    "    x = tf.contrib.layers.fully_connected(x, 120, activation_fn=tf.nn.relu)\n",
    "    x = tf.nn.dropout(x, keep_prob)\n",
    "    #layer6(全连接)\n",
    "    x = tf.contrib.layers.fully_connected(x, 84, activation_fn=tf.nn.relu)\n",
    "    #layer7(全连接)\n",
    "    x = tf.contrib.layers.fully_connected(x, 10, activation_fn=tf.nn.softmax)\n",
    "    return x"
   ]
  },
  {
   "cell_type": "code",
   "execution_count": 10,
   "metadata": {},
   "outputs": [
    {
     "name": "stdout",
     "output_type": "stream",
     "text": [
      "Epoch = 0     train_loss = 2.00615      train_acc = 45.0 %      validation_acc = 43.8 %\n",
      "Epoch = 5     train_loss = 1.87058      train_acc = 58.75 %      validation_acc = 57.0 %\n",
      "Epoch = 10     train_loss = 1.83081      train_acc = 63.75 %      validation_acc = 61.16 %\n",
      "Epoch = 15     train_loss = 1.79451      train_acc = 67.5 %      validation_acc = 61.86 %\n",
      "Epoch = 20     train_loss = 1.79619      train_acc = 67.5 %      validation_acc = 63.74 %\n",
      "Epoch = 25     train_loss = 1.75748      train_acc = 71.25 %      validation_acc = 63.8 %\n",
      "Epoch = 30     train_loss = 1.86352      train_acc = 60.0 %      validation_acc = 65.36 %\n",
      "Epoch = 35     train_loss = 1.69729      train_acc = 76.25 %      validation_acc = 65.16 %\n",
      "Epoch = 40     train_loss = 1.68267      train_acc = 77.5 %      validation_acc = 66.54 %\n",
      "Epoch = 45     train_loss = 1.69059      train_acc = 77.5 %      validation_acc = 66.14 %\n",
      "Epoch = 50     train_loss = 1.7546      train_acc = 70.0 %      validation_acc = 66.62 %\n",
      "Epoch = 55     train_loss = 1.71162      train_acc = 75.0 %      validation_acc = 67.56 %\n",
      "Epoch = 60     train_loss = 1.73959      train_acc = 71.25 %      validation_acc = 67.3 %\n",
      "Epoch = 65     train_loss = 1.73163      train_acc = 72.5 %      validation_acc = 66.7 %\n",
      "Epoch = 70     train_loss = 1.78741      train_acc = 67.5 %      validation_acc = 66.52 %\n",
      "Epoch = 75     train_loss = 1.73918      train_acc = 71.25 %      validation_acc = 66.86 %\n",
      "Epoch = 80     train_loss = 1.70429      train_acc = 75.0 %      validation_acc = 66.72 %\n",
      "Epoch = 85     train_loss = 1.67639      train_acc = 76.25 %      validation_acc = 67.0 %\n",
      "Epoch = 90     train_loss = 1.63631      train_acc = 81.25 %      validation_acc = 67.52 %\n",
      "Epoch = 95     train_loss = 1.81626      train_acc = 63.75 %      validation_acc = 68.0 %\n",
      "Epoch = 100     train_loss = 1.67059      train_acc = 78.75 %      validation_acc = 66.98 %\n",
      "Epoch = 105     train_loss = 1.65797      train_acc = 80.0 %      validation_acc = 68.34 %\n",
      "Epoch = 110     train_loss = 1.65152      train_acc = 82.5 %      validation_acc = 67.88 %\n",
      "Epoch = 115     train_loss = 1.68039      train_acc = 76.25 %      validation_acc = 67.54 %\n",
      "Epoch = 120     train_loss = 1.67149      train_acc = 78.75 %      validation_acc = 68.06 %\n",
      "Epoch = 125     train_loss = 1.67036      train_acc = 77.5 %      validation_acc = 68.76 %\n",
      "Epoch = 130     train_loss = 1.6189      train_acc = 83.75 %      validation_acc = 67.84 %\n",
      "Epoch = 135     train_loss = 1.65572      train_acc = 81.25 %      validation_acc = 67.42 %\n",
      "Epoch = 140     train_loss = 1.6679      train_acc = 78.75 %      validation_acc = 67.74 %\n",
      "Epoch = 145     train_loss = 1.67949      train_acc = 77.5 %      validation_acc = 67.92 %\n"
     ]
    },
    {
     "data": {
      "image/png": "[encoded data removed]",
      "text/plain": [
       "<matplotlib.figure.Figure at 0xd10e320>"
      ]
     },
     "metadata": {},
     "output_type": "display_data"
    }
   ],
   "source": [
    "cnnModel(X_train, Y_train, X_dev, Y_dev,epochs = 150,create_model=create_Lenetmodel)"
   ]
  },
  {
   "cell_type": "code",
   "execution_count": 8,
   "metadata": {
    "collapsed": true
   },
   "outputs": [],
   "source": [
    "def create_Alexnetmodel(x, keep_prob):\n",
    "    #layer1(卷积+lrn+池化)\n",
    "    x = tf.contrib.layers.conv2d(x, 24, 3, 1, 'SAME', activation_fn=None, weights_regularizer=tf.contrib.layers.l2_regularizer(0.1))\n",
    "#     x = tf.contrib.layers.batch_norm(x)\n",
    "    x = tf.nn.relu(x)\n",
    "    x = tf.nn.max_pool(x, [1, 2, 2, 1], [1, 2, 2, 1], 'SAME')\n",
    "    x = tf.nn.dropout(x, keep_prob)\n",
    "    #layer2(卷积+lrn+池化)\n",
    "    x = tf.contrib.layers.conv2d(x, 96, 3, 1, 'SAME', activation_fn=None, weights_regularizer=tf.contrib.layers.l2_regularizer(0.1))\n",
    "#     x = tf.contrib.layers.batch_norm(x)\n",
    "    x = tf.nn.relu(x)\n",
    "    x = tf.nn.max_pool(x, [1, 2, 2, 1], [1, 2, 2, 1], 'SAME')\n",
    "    x = tf.nn.dropout(x, keep_prob)\n",
    "    #layer3（卷积）\n",
    "    x = tf.contrib.layers.conv2d(x, 192, 3, 1, 'SAME', activation_fn=None, weights_regularizer=tf.contrib.layers.l2_regularizer(0.1))\n",
    "#     x = tf.contrib.layers.batch_norm(x)\n",
    "    x = tf.nn.relu(x)\n",
    "    x = tf.nn.dropout(x, keep_prob)\n",
    "    #layer4（卷积）\n",
    "    x = tf.contrib.layers.conv2d(x, 192, 3, 1, 'SAME', activation_fn=None, weights_regularizer=tf.contrib.layers.l2_regularizer(0.1))\n",
    "#     x = tf.contrib.layers.batch_norm(x)\n",
    "    x = tf.nn.relu(x)\n",
    "    x = tf.nn.dropout(x, keep_prob)    \n",
    "    #layer5（卷积）\n",
    "    x = tf.contrib.layers.conv2d(x, 96, 3, 1, 'SAME', activation_fn=None, weights_regularizer=tf.contrib.layers.l2_regularizer(0.1))\n",
    "#     x = tf.contrib.layers.batch_norm(x)\n",
    "    x = tf.nn.relu(x)\n",
    "    #池化\n",
    "    x = tf.nn.max_pool(x, [1, 2, 2, 1], [1, 2, 2, 1], 'SAME')\n",
    "    x = tf.contrib.layers.flatten(x)\n",
    "    #layer6(全连接)\n",
    "    x = tf.contrib.layers.fully_connected(x, 1024, activation_fn=tf.nn.relu)\n",
    "    x = tf.nn.dropout(x, keep_prob)\n",
    "    #layer7(全连接)\n",
    "    x = tf.contrib.layers.fully_connected(x, 1024, activation_fn=tf.nn.relu)\n",
    "    #layer8(全连接)\n",
    "    x = tf.contrib.layers.fully_connected(x, 10, activation_fn=tf.nn.softmax)\n",
    "    return x"
   ]
  },
  {
   "cell_type": "code",
   "execution_count": 9,
   "metadata": {
    "scrolled": false
   },
   "outputs": [
    {
     "name": "stdout",
     "output_type": "stream",
     "text": [
      "Epoch = 0     train_loss = 2.07758      train_acc = 40.0 %      validation_acc = 39.4 %\n",
      "Epoch = 5     train_loss = 1.9839      train_acc = 47.5 %      validation_acc = 48.7 %\n",
      "Epoch = 10     train_loss = 1.79177      train_acc = 66.25 %      validation_acc = 57.44 %\n",
      "Epoch = 15     train_loss = 1.87779      train_acc = 57.5 %      validation_acc = 56.84 %\n",
      "Epoch = 20     train_loss = 1.95844      train_acc = 50.0 %      validation_acc = 45.24 %\n",
      "Epoch = 25     train_loss = 2.38615      train_acc = 7.5 %      validation_acc = 10.28 %\n",
      "Epoch = 30     train_loss = 2.39865      train_acc = 6.25 %      validation_acc = 10.24 %\n",
      "Epoch = 35     train_loss = 2.36115      train_acc = 10.0 %      validation_acc = 10.24 %\n",
      "Epoch = 40     train_loss = 2.34865      train_acc = 11.25 %      validation_acc = 10.24 %\n",
      "Epoch = 45     train_loss = 2.32365      train_acc = 13.75 %      validation_acc = 10.24 %\n",
      "Epoch = 50     train_loss = 2.28615      train_acc = 17.5 %      validation_acc = 10.24 %\n",
      "Epoch = 55     train_loss = 2.36115      train_acc = 10.0 %      validation_acc = 10.24 %\n",
      "Epoch = 60     train_loss = 2.41115      train_acc = 5.0 %      validation_acc = 10.24 %\n",
      "Epoch = 65     train_loss = 2.37365      train_acc = 8.75 %      validation_acc = 10.24 %\n",
      "Epoch = 70     train_loss = 2.41115      train_acc = 5.0 %      validation_acc = 10.24 %\n",
      "Epoch = 75     train_loss = 2.38615      train_acc = 7.5 %      validation_acc = 10.24 %\n",
      "Epoch = 80     train_loss = 2.37365      train_acc = 8.75 %      validation_acc = 10.24 %\n",
      "Epoch = 85     train_loss = 2.37365      train_acc = 8.75 %      validation_acc = 10.24 %\n",
      "Epoch = 90     train_loss = 2.38615      train_acc = 7.5 %      validation_acc = 10.24 %\n",
      "Epoch = 95     train_loss = 2.33615      train_acc = 12.5 %      validation_acc = 10.24 %\n",
      "Epoch = 100     train_loss = 2.37365      train_acc = 8.75 %      validation_acc = 10.24 %\n",
      "Epoch = 105     train_loss = 2.34865      train_acc = 11.25 %      validation_acc = 10.24 %\n",
      "Epoch = 110     train_loss = 2.28615      train_acc = 17.5 %      validation_acc = 10.24 %\n",
      "Epoch = 115     train_loss = 2.37365      train_acc = 8.75 %      validation_acc = 10.24 %\n",
      "Epoch = 120     train_loss = 2.38615      train_acc = 7.5 %      validation_acc = 10.24 %\n",
      "Epoch = 125     train_loss = 2.39865      train_acc = 6.25 %      validation_acc = 10.24 %\n",
      "Epoch = 130     train_loss = 2.36115      train_acc = 10.0 %      validation_acc = 10.24 %\n",
      "Epoch = 135     train_loss = 2.31115      train_acc = 15.0 %      validation_acc = 10.24 %\n",
      "Epoch = 140     train_loss = 2.37365      train_acc = 8.75 %      validation_acc = 10.24 %\n",
      "Epoch = 145     train_loss = 2.37365      train_acc = 8.75 %      validation_acc = 10.24 %\n"
     ]
    },
    {
     "data": {
      "image/png": "[encoded data removed]",
      "text/plain": [
       "<matplotlib.figure.Figure at 0x7a00b38>"
      ]
     },
     "metadata": {},
     "output_type": "display_data"
    }
   ],
   "source": [
    "cnnModel(X_train, Y_train, X_dev, Y_dev,epochs = 150,create_model=create_Alexnetmodel,dropout=0.9)"
   ]
  },
  {
   "cell_type": "code",
   "execution_count": 6,
   "metadata": {
    "collapsed": true
   },
   "outputs": [],
   "source": [
    "#创建整体模型\n",
    "def create_cnnmodel(x, keep_prob): \n",
    "    x = tf.contrib.layers.conv2d(x, 64, 5, 1, 'SAME', activation_fn=None, weights_regularizer=tf.contrib.layers.l2_regularizer(0.01))\n",
    "    x = tf.contrib.layers.batch_norm(x)\n",
    "    x = tf.nn.relu(x)\n",
    "    x = tf.nn.max_pool(x, [1, 3, 3, 1], [1, 2, 2, 1], 'SAME')\n",
    "    x = tf.contrib.layers.conv2d(x, 64, 5, 1, 'SAME', activation_fn=None, weights_regularizer=tf.contrib.layers.l2_regularizer(0.01))\n",
    "    x = tf.contrib.layers.batch_norm(x)\n",
    "    x = tf.nn.relu(x)\n",
    "    x = tf.nn.max_pool(x, [1, 3, 3, 1], [1, 2, 2, 1], 'SAME')\n",
    "    x = tf.contrib.layers.flatten(x)\n",
    "    x = tf.contrib.layers.fully_connected(x, 384, activation_fn=tf.nn.relu,weights_regularizer=tf.contrib.layers.l2_regularizer(0.01))\n",
    "    x = tf.nn.dropout(x, keep_prob)\n",
    "    x = tf.contrib.layers.fully_connected(x, 192, activation_fn=tf.nn.relu,weights_regularizer=tf.contrib.layers.l2_regularizer(0.01))\n",
    "    x = tf.nn.dropout(x, keep_prob)\n",
    "    x = tf.contrib.layers.fully_connected(x, 10, activation_fn=None)\n",
    "    return x"
   ]
  },
  {
   "cell_type": "code",
   "execution_count": 7,
   "metadata": {},
   "outputs": [
    {
     "name": "stdout",
     "output_type": "stream",
     "text": [
      "WARNING:tensorflow:From <ipython-input-5-e46ebe82a599>:11: softmax_cross_entropy_with_logits (from tensorflow.python.ops.nn_ops) is deprecated and will be removed in a future version.\n",
      "Instructions for updating:\n",
      "\n",
      "Future major versions of TensorFlow will allow gradients to flow\n",
      "into the labels input on backprop by default.\n",
      "\n",
      "See @{tf.nn.softmax_cross_entropy_with_logits_v2}.\n",
      "\n",
      "Epoch = 0     train_loss = 0.7748467      train_acc = 68.75 %      validation_acc = 60.7 %      test_acc = 59.58 %\n",
      "Epoch = 5     train_loss = 0.7334186      train_acc = 81.25 %      validation_acc = 75.4 %      test_acc = 74.08 %\n",
      "Epoch = 10     train_loss = 0.118371144      train_acc = 100.0 %      validation_acc = 77.06 %      test_acc = 76.98 %\n",
      "Epoch = 15     train_loss = 0.16304652      train_acc = 93.75 %      validation_acc = 78.5 %      test_acc = 78.3 %\n",
      "Epoch = 20     train_loss = 0.029322933      train_acc = 100.0 %      validation_acc = 78.72 %      test_acc = 78.78 %\n",
      "Epoch = 25     train_loss = 0.0044349567      train_acc = 100.0 %      validation_acc = 78.56 %      test_acc = 78.02 %\n",
      "Epoch = 30     train_loss = 0.050241586      train_acc = 100.0 %      validation_acc = 77.88 %      test_acc = 78.04 %\n",
      "Epoch = 35     train_loss = 0.011549909      train_acc = 100.0 %      validation_acc = 78.58 %      test_acc = 78.66 %\n",
      "Epoch = 40     train_loss = 0.007877011      train_acc = 100.0 %      validation_acc = 77.76 %      test_acc = 78.36 %\n",
      "Epoch = 45     train_loss = 0.023622915      train_acc = 100.0 %      validation_acc = 78.34 %      test_acc = 77.92 %\n",
      "Epoch = 50     train_loss = 0.13596775      train_acc = 93.75 %      validation_acc = 78.52 %      test_acc = 78.62 %\n",
      "Epoch = 55     train_loss = 0.0052882247      train_acc = 100.0 %      validation_acc = 77.4 %      test_acc = 77.66 %\n",
      "Epoch = 60     train_loss = 0.005896427      train_acc = 100.0 %      validation_acc = 77.98 %      test_acc = 78.62 %\n",
      "Epoch = 65     train_loss = 0.006737442      train_acc = 100.0 %      validation_acc = 78.12 %      test_acc = 78.16 %\n",
      "Epoch = 70     train_loss = 0.012292931      train_acc = 100.0 %      validation_acc = 78.46 %      test_acc = 78.28 %\n",
      "Epoch = 75     train_loss = 0.0049688267      train_acc = 100.0 %      validation_acc = 78.76 %      test_acc = 78.18 %\n",
      "Epoch = 80     train_loss = 0.0072493805      train_acc = 100.0 %      validation_acc = 78.08 %      test_acc = 78.04 %\n",
      "Epoch = 85     train_loss = 0.0060545616      train_acc = 100.0 %      validation_acc = 78.52 %      test_acc = 78.2 %\n",
      "Epoch = 90     train_loss = 0.027254501      train_acc = 100.0 %      validation_acc = 78.0 %      test_acc = 78.42 %\n",
      "Epoch = 95     train_loss = 0.0017303233      train_acc = 100.0 %      validation_acc = 77.36 %      test_acc = 77.54 %\n",
      "Epoch = 100     train_loss = 2.5278638e-05      train_acc = 100.0 %      validation_acc = 78.34 %      test_acc = 77.74 %\n",
      "Epoch = 105     train_loss = 0.004116129      train_acc = 100.0 %      validation_acc = 77.42 %      test_acc = 77.76 %\n",
      "Epoch = 110     train_loss = 0.003644037      train_acc = 100.0 %      validation_acc = 78.14 %      test_acc = 77.82 %\n",
      "Epoch = 115     train_loss = 0.0016064271      train_acc = 100.0 %      validation_acc = 78.42 %      test_acc = 78.64 %\n",
      "Epoch = 120     train_loss = 0.0018538843      train_acc = 100.0 %      validation_acc = 78.08 %      test_acc = 78.24 %\n",
      "Epoch = 125     train_loss = 0.0014565658      train_acc = 100.0 %      validation_acc = 78.24 %      test_acc = 77.68 %\n",
      "Epoch = 130     train_loss = 0.0035397636      train_acc = 100.0 %      validation_acc = 77.54 %      test_acc = 77.58 %\n",
      "Epoch = 135     train_loss = 0.05861409      train_acc = 93.75 %      validation_acc = 77.26 %      test_acc = 77.78 %\n",
      "Epoch = 140     train_loss = 0.003949244      train_acc = 100.0 %      validation_acc = 78.06 %      test_acc = 78.16 %\n",
      "Epoch = 145     train_loss = 0.00040447156      train_acc = 100.0 %      validation_acc = 78.48 %      test_acc = 78.16 %\n"
     ]
    },
    {
     "data": {
      "image/png": "[encoded data removed]",
      "text/plain": [
       "<Figure size 432x288 with 1 Axes>"
      ]
     },
     "metadata": {},
     "output_type": "display_data"
    }
   ],
   "source": [
    "cnnModel(X_train, Y_train, X_dev, Y_dev,X_test,Y_test,batch_size = 64,n_class=10,epochs = 150,dropout=0.9,create_model=create_cnnmodel)"
   ]
  },
  {
   "cell_type": "markdown",
   "metadata": {},
   "source": [
    "# 缩减数据集重新构建网络模型"
   ]
  },
  {
   "cell_type": "markdown",
   "metadata": {
    "collapsed": true
   },
   "source": [
    "考虑到数据量较大，种类较多，想要达到较高精度具有一定困难，我们对数据作简化处理，将类别缩减到5类，每类大约6000张图片，共30000张图片，其中20000张作训练集，5000张作验证集，5000张作测试集"
   ]
  },
  {
   "cell_type": "code",
   "execution_count": 2,
   "metadata": {},
   "outputs": [
    {
     "name": "stdout",
     "output_type": "stream",
     "text": [
      "(20000, 5)\n"
     ]
    }
   ],
   "source": [
    "#数据集由Pickle模块存放，也以此解压\n",
    "def unpickle(file):\n",
    "    with open(file, 'rb') as fo:\n",
    "        dict = pickle.load(fo, encoding='bytes')\n",
    "    return dict\n",
    "#加载所有数据\n",
    "def loadDataSet():\n",
    "    train_set_x_orig=[]\n",
    "    train_set_y=[]\n",
    "    #添加训练数据\n",
    "    for i in range(1,6):\n",
    "        fileName='data_batch_%s'%(str(i))\n",
    "        rawDataDic=unpickle(fileName)\n",
    "        train_set_x_orig.extend(list(rawDataDic[b'data']))\n",
    "        train_set_y.extend(rawDataDic[b'labels'])\n",
    "    train_set_x_orig=np.array(train_set_x_orig)\n",
    "    train_set_y=np.array(train_set_y)\n",
    "    train_set_x_orig=train_set_x_orig[np.nonzero(train_set_y<5)[0],:]\n",
    "    train_set_y=train_set_y[np.nonzero(train_set_y<5)[0]]\n",
    "    #添加元数据\n",
    "    rawMetadata=unpickle('batches.meta')\n",
    "    classes=rawMetadata[b'label_names']\n",
    "    for i in range(5):\n",
    "        classes[i]=classes[i].decode()\n",
    "    #添加测试数据\n",
    "    rawTestDataDic=unpickle('test_batch')\n",
    "    test_set_x_orig=np.array(rawTestDataDic[b'data'])\n",
    "    test_set_y=np.array(rawTestDataDic[b'labels'])\n",
    "    test_set_x_orig=test_set_x_orig[np.nonzero(test_set_y<5)[0],:]\n",
    "    test_set_y=test_set_y[np.nonzero(test_set_y<5)[0]]\n",
    "    return train_set_x_orig, train_set_y, test_set_x_orig, test_set_y, classes\n",
    "\n",
    "train_set_x_orig, train_set_y, test_set_x_orig, test_set_y, classes=loadDataSet()\n",
    "X_train=train_set_x_orig.reshape(25000, 3, 32, 32)[:20000,:]/255\n",
    "X_dev=train_set_x_orig.reshape(25000, 3, 32, 32)[20000:,:]/255\n",
    "X_test=test_set_x_orig.reshape(5000, 3, 32, 32)/255\n",
    "X_train=np.transpose(X_train, (0, 2, 3, 1))\n",
    "X_dev=np.transpose(X_dev, (0, 2, 3, 1))\n",
    "X_test=np.transpose(X_test, (0, 2, 3, 1))\n",
    "#采用one-hot编码\n",
    "def convert_to_one_hot(Y, C):\n",
    "    Y = np.eye(C)[Y.reshape(-1)]\n",
    "    return Y\n",
    "Y_train = convert_to_one_hot(train_set_y, 5)[:20000,:]\n",
    "Y_dev = convert_to_one_hot(train_set_y, 5)[20000:,:]\n",
    "Y_test = convert_to_one_hot(test_set_y, 5)\n",
    "print(Y_train.shape)"
   ]
  },
  {
   "cell_type": "code",
   "execution_count": 3,
   "metadata": {
    "collapsed": true
   },
   "outputs": [],
   "source": [
    "#获取minibatch\n",
    "def get_batch(x, y, batch_size):\n",
    "    for start in range(0, len(x), batch_size):\n",
    "        end = min(start + batch_size, len(x))\n",
    "        yield x[start:end], y[start:end]\n",
    "#构建随机minibatch数据集\n",
    "def random_mini_batches(X, Y, mini_batch_size = 64):  \n",
    "    m = X.shape[0]\n",
    "    mini_batches = []   \n",
    "    # 对训练数据随机洗牌打乱\n",
    "    permutation = list(np.random.permutation(m))\n",
    "    shuffled_X = X[permutation,:]\n",
    "    shuffled_Y = Y[permutation,:]\n",
    "    # 分割数据集\n",
    "    num_complete_minibatches = int(math.floor(m/mini_batch_size)) \n",
    "    for k in range(0, num_complete_minibatches):\n",
    "        mini_batch_X = shuffled_X[k * mini_batch_size : k * mini_batch_size + mini_batch_size,:]\n",
    "        mini_batch_Y = shuffled_Y[k * mini_batch_size : k * mini_batch_size + mini_batch_size,:]\n",
    "        mini_batch = (mini_batch_X, mini_batch_Y)\n",
    "        mini_batches.append(mini_batch)    \n",
    "    # 处理最后多余的数据\n",
    "    if m % mini_batch_size != 0:\n",
    "        mini_batch_X = shuffled_X[num_complete_minibatches * mini_batch_size : m,:]\n",
    "        mini_batch_Y = shuffled_Y[num_complete_minibatches * mini_batch_size : m,:]\n",
    "        mini_batch = (mini_batch_X, mini_batch_Y)\n",
    "        mini_batches.append(mini_batch)   \n",
    "    return mini_batches"
   ]
  },
  {
   "cell_type": "code",
   "execution_count": 4,
   "metadata": {
    "collapsed": true
   },
   "outputs": [],
   "source": [
    "def create_model2(x, keep_prob):\n",
    "    x = tf.contrib.layers.conv2d(x, 16, 3, 1, 'SAME', activation_fn=None, weights_regularizer=tf.contrib.layers.l2_regularizer(0.1))\n",
    "    x = tf.contrib.layers.batch_norm(x)\n",
    "    x = tf.nn.relu(x)\n",
    "    x = tf.nn.max_pool(x, [1, 2, 2, 1], [1, 2, 2, 1], 'VALID')\n",
    "    x = tf.contrib.layers.conv2d(x, 16, 3, 1, 'SAME', activation_fn=None, weights_regularizer=tf.contrib.layers.l2_regularizer(0.1))\n",
    "    x = tf.contrib.layers.batch_norm(x)\n",
    "    x = tf.nn.relu(x)\n",
    "    x = tf.nn.max_pool(x, [1, 2, 2, 1], [1, 2, 2, 1], 'VALID')\n",
    "    x = tf.contrib.layers.conv2d(x, 16, 3, 1, 'SAME', activation_fn=None, weights_regularizer=tf.contrib.layers.l2_regularizer(0.1))\n",
    "    x = tf.contrib.layers.batch_norm(x)\n",
    "    x = tf.nn.relu(x)\n",
    "    x = tf.nn.max_pool(x, [1, 2, 2, 1], [1, 2, 2, 1], 'VALID')\n",
    "    x = tf.contrib.layers.flatten(x)\n",
    "    x = tf.contrib.layers.fully_connected(x, 128, activation_fn=tf.nn.relu)\n",
    "    x = tf.nn.dropout(x, keep_prob)\n",
    "    x = tf.contrib.layers.fully_connected(x, 5, activation_fn=None)\n",
    "    return x"
   ]
  },
  {
   "cell_type": "code",
   "execution_count": 5,
   "metadata": {
    "collapsed": true
   },
   "outputs": [],
   "source": [
    "def cnnModel(X_train, Y_train, X_dev, Y_dev,X_test,Y_test,epochs = 200, n_class=5,batch_size = 128, stddev=0.01,dropout=0.5,create_model=create_model2):\n",
    "    #建立计算图\n",
    "    tf.reset_default_graph()\n",
    "    #创建占位器\n",
    "    x_input   = tf.placeholder(tf.float32, shape=(None, 32, 32, 3), name='x_input')\n",
    "    y_true    = tf.placeholder(tf.float32, shape=(None, n_class), name='y_true')\n",
    "    keep_prob = tf.placeholder(tf.float32, name='keep_prob')\n",
    "    #构建模型\n",
    "    y_pred = create_model(x_input, keep_prob)\n",
    "    #计算损失函数\n",
    "    cost = tf.reduce_mean(tf.nn.softmax_cross_entropy_with_logits(logits=y_pred, labels=y_true))\n",
    "    #采用adam策略进行后向传播\n",
    "    optimizer = tf.train.AdamOptimizer().minimize(cost)\n",
    "    #计算准确率\n",
    "    correct_pred = tf.equal(tf.argmax(y_pred, 1), tf.argmax(y_true, 1))    \n",
    "    accuracy = tf.reduce_mean(tf.cast(correct_pred, tf.float32), name='accuracy')\n",
    "    history = {}\n",
    "    history['acc'] = []\n",
    "    history['val_acc'] = []\n",
    "    history['test_acc'] = []\n",
    "    with tf.Session(config=tf.ConfigProto(log_device_placement=True)) as session:\n",
    "        # 可视化整个网络结构的视图，通过 TensorBoard 查看\n",
    "#         tf.summary.FileWriter('./graphs', session.graph)\n",
    "        session.run(tf.global_variables_initializer())\n",
    "        for i in range(epochs):\n",
    "            # 将训练集按 batch_size 切分为很多 batch，每个 batch 用于更新一次模型参数\n",
    "            minibatch=random_mini_batches(X_train, Y_train, batch_size)\n",
    "            for (X_batch, Y_batch) in minibatch:\n",
    "                session.run(optimizer, feed_dict={x_input:X_batch, y_true:Y_batch, keep_prob:dropout})\n",
    "\n",
    "            # 本轮训练集最后一个 batch 的损失值\n",
    "            loss = session.run(cost, feed_dict={x_input:X_batch, y_true:Y_batch, keep_prob:1})\n",
    "            \n",
    "            # 本轮训练后的模型用于训练集的最后一个 batch 的准确率\n",
    "            acc = session.run(accuracy, feed_dict={x_input:X_batch, y_true:Y_batch, keep_prob:1})\n",
    "            history['acc'].append(acc)\n",
    "\n",
    "            # 本轮训练后的模型用于验证集的准确率\n",
    "            devbatch=random_mini_batches(X_dev, Y_dev, 256)\n",
    "            accNum=0\n",
    "            for (X_devbatch, Y_devbatch) in devbatch:\n",
    "                temp_acc = session.run(accuracy, feed_dict={x_input:X_devbatch, y_true:Y_devbatch, keep_prob:1})\n",
    "                accNum+=X_devbatch.shape[0]*temp_acc\n",
    "            val_acc=accNum/float(X_dev.shape[0])\n",
    "            history['val_acc'].append(val_acc)\n",
    "            \n",
    "            # 本轮训练后的模型用于测试集的准确率\n",
    "            testbatch=random_mini_batches(X_test, Y_test, 256)\n",
    "            accNum=0\n",
    "            for (X_testbatch, Y_testbatch) in testbatch:\n",
    "                temp_acc = session.run(accuracy, feed_dict={x_input:X_testbatch, y_true:Y_testbatch, keep_prob:1})\n",
    "                accNum+=X_testbatch.shape[0]*temp_acc\n",
    "            test_acc=accNum/float(X_test.shape[0])\n",
    "            history['test_acc'].append(test_acc)\n",
    "            \n",
    "            if i%5==0:\n",
    "                print(\"Epoch =\", i, \"    train_loss =\", loss, \n",
    "                      \"     train_acc =\", round(acc * 100, 2), \"%\", \n",
    "                      \"     validation_acc =\", round(val_acc * 100, 2), \"%\",\n",
    "                     \"     test_acc =\", round(test_acc * 100, 2), \"%\")\n",
    "        saver = tf.train.Saver()\n",
    "        save_path = saver.save(session, '.\\michaelcifar5cnn2')\n",
    "    plt.figure()\n",
    "    plt.plot(range(150), history['acc'], label='Train Accuracy')\n",
    "    plt.plot(range(150), history['val_acc'], label='Valid Accuracy')\n",
    "    plt.title('Model , CIFAR-5 CNN Model', size=15)\n",
    "    plt.xlabel('Epochs')\n",
    "    plt.ylabel('Accuracy')\n",
    "    plt.legend()\n",
    "    plt.grid(True)\n",
    "    plt.show()"
   ]
  },
  {
   "cell_type": "code",
   "execution_count": 6,
   "metadata": {},
   "outputs": [
    {
     "name": "stdout",
     "output_type": "stream",
     "text": [
      "Epoch = 0     train_loss = 1.02828      train_acc = 62.5 %      validation_acc = 62.76 %      test_acc = 61.62 %\n",
      "Epoch = 5     train_loss = 0.563125      train_acc = 81.25 %      validation_acc = 73.18 %      test_acc = 72.98 %\n",
      "Epoch = 10     train_loss = 0.441529      train_acc = 75.0 %      validation_acc = 76.42 %      test_acc = 75.88 %\n",
      "Epoch = 15     train_loss = 0.424749      train_acc = 87.5 %      validation_acc = 77.48 %      test_acc = 77.26 %\n",
      "Epoch = 20     train_loss = 0.22191      train_acc = 93.75 %      validation_acc = 78.54 %      test_acc = 77.72 %\n",
      "Epoch = 25     train_loss = 0.292624      train_acc = 90.62 %      validation_acc = 79.4 %      test_acc = 78.3 %\n",
      "Epoch = 30     train_loss = 0.33748      train_acc = 90.62 %      validation_acc = 78.0 %      test_acc = 77.34 %\n",
      "Epoch = 35     train_loss = 0.299075      train_acc = 84.38 %      validation_acc = 79.56 %      test_acc = 78.6 %\n",
      "Epoch = 40     train_loss = 0.290564      train_acc = 87.5 %      validation_acc = 79.18 %      test_acc = 78.48 %\n",
      "Epoch = 45     train_loss = 0.249781      train_acc = 93.75 %      validation_acc = 79.74 %      test_acc = 78.98 %\n",
      "Epoch = 50     train_loss = 0.122828      train_acc = 96.88 %      validation_acc = 79.44 %      test_acc = 78.04 %\n",
      "Epoch = 55     train_loss = 0.134851      train_acc = 96.88 %      validation_acc = 79.32 %      test_acc = 78.24 %\n",
      "Epoch = 60     train_loss = 0.116678      train_acc = 100.0 %      validation_acc = 79.44 %      test_acc = 78.68 %\n",
      "Epoch = 65     train_loss = 0.0987009      train_acc = 100.0 %      validation_acc = 79.14 %      test_acc = 78.56 %\n",
      "Epoch = 70     train_loss = 0.149882      train_acc = 93.75 %      validation_acc = 78.52 %      test_acc = 77.78 %\n",
      "Epoch = 75     train_loss = 0.0959039      train_acc = 96.88 %      validation_acc = 79.12 %      test_acc = 78.52 %\n",
      "Epoch = 80     train_loss = 0.155957      train_acc = 93.75 %      validation_acc = 79.08 %      test_acc = 78.48 %\n",
      "Epoch = 85     train_loss = 0.153065      train_acc = 93.75 %      validation_acc = 78.48 %      test_acc = 78.14 %\n",
      "Epoch = 90     train_loss = 0.0420369      train_acc = 100.0 %      validation_acc = 78.78 %      test_acc = 77.88 %\n",
      "Epoch = 95     train_loss = 0.140909      train_acc = 96.88 %      validation_acc = 78.78 %      test_acc = 77.66 %\n",
      "Epoch = 100     train_loss = 0.163321      train_acc = 93.75 %      validation_acc = 78.16 %      test_acc = 77.74 %\n",
      "Epoch = 105     train_loss = 0.11748      train_acc = 96.88 %      validation_acc = 79.06 %      test_acc = 77.88 %\n",
      "Epoch = 110     train_loss = 0.179945      train_acc = 93.75 %      validation_acc = 78.62 %      test_acc = 77.86 %\n",
      "Epoch = 115     train_loss = 0.114032      train_acc = 100.0 %      validation_acc = 78.8 %      test_acc = 77.54 %\n",
      "Epoch = 120     train_loss = 0.056338      train_acc = 100.0 %      validation_acc = 79.04 %      test_acc = 78.0 %\n",
      "Epoch = 125     train_loss = 0.0433065      train_acc = 100.0 %      validation_acc = 79.06 %      test_acc = 78.26 %\n",
      "Epoch = 130     train_loss = 0.0540579      train_acc = 100.0 %      validation_acc = 78.52 %      test_acc = 77.82 %\n",
      "Epoch = 135     train_loss = 0.0226106      train_acc = 100.0 %      validation_acc = 78.94 %      test_acc = 78.02 %\n",
      "Epoch = 140     train_loss = 0.0250988      train_acc = 100.0 %      validation_acc = 78.82 %      test_acc = 77.96 %\n",
      "Epoch = 145     train_loss = 0.0828049      train_acc = 96.88 %      validation_acc = 79.36 %      test_acc = 77.76 %\n"
     ]
    },
    {
     "data": {
      "image/png": "[encoded data removed]",
      "text/plain": [
       "<matplotlib.figure.Figure at 0x127a3438>"
      ]
     },
     "metadata": {},
     "output_type": "display_data"
    }
   ],
   "source": [
    "cnnModel(X_train, Y_train, X_dev, Y_dev,X_test,Y_test,epochs = 150,create_model=create_model2)"
   ]
  },
  {
   "cell_type": "code",
   "execution_count": 6,
   "metadata": {
    "collapsed": true
   },
   "outputs": [],
   "source": [
    "#创建整体模型\n",
    "def create_cnnmodel(x, keep_prob): \n",
    "    x = tf.contrib.layers.conv2d(x, 64, 5, 1, 'SAME', activation_fn=None, weights_regularizer=tf.contrib.layers.l2_regularizer(0.0))\n",
    "    x = tf.contrib.layers.batch_norm(x)\n",
    "    x = tf.nn.relu(x)\n",
    "    x = tf.nn.max_pool(x, [1, 3, 3, 1], [1, 2, 2, 1], 'SAME')\n",
    "    x = tf.contrib.layers.conv2d(x, 64, 5, 1, 'SAME', activation_fn=None, weights_regularizer=tf.contrib.layers.l2_regularizer(0.0))\n",
    "    x = tf.contrib.layers.batch_norm(x)\n",
    "    x = tf.nn.relu(x)\n",
    "    x = tf.nn.max_pool(x, [1, 3, 3, 1], [1, 2, 2, 1], 'SAME')\n",
    "    x = tf.contrib.layers.flatten(x)\n",
    "    x = tf.contrib.layers.fully_connected(x, 384, activation_fn=tf.nn.relu,weights_regularizer=tf.contrib.layers.l2_regularizer(0.01))\n",
    "    x = tf.nn.dropout(x, keep_prob)\n",
    "    x = tf.contrib.layers.fully_connected(x, 192, activation_fn=tf.nn.relu,weights_regularizer=tf.contrib.layers.l2_regularizer(0.01))\n",
    "    x = tf.nn.dropout(x, keep_prob)\n",
    "    x = tf.contrib.layers.fully_connected(x, 5, activation_fn=None)\n",
    "    return x"
   ]
  },
  {
   "cell_type": "code",
   "execution_count": 7,
   "metadata": {},
   "outputs": [
    {
     "name": "stdout",
     "output_type": "stream",
     "text": [
      "INFO:tensorflow:Scale of 0 disables regularizer.\n",
      "INFO:tensorflow:Scale of 0 disables regularizer.\n",
      "WARNING:tensorflow:From <ipython-input-5-e46ebe82a599>:11: softmax_cross_entropy_with_logits (from tensorflow.python.ops.nn_ops) is deprecated and will be removed in a future version.\n",
      "Instructions for updating:\n",
      "\n",
      "Future major versions of TensorFlow will allow gradients to flow\n",
      "into the labels input on backprop by default.\n",
      "\n",
      "See @{tf.nn.softmax_cross_entropy_with_logits_v2}.\n",
      "\n",
      "Epoch = 0     train_loss = 0.6959928      train_acc = 81.25 %      validation_acc = 65.8 %      test_acc = 65.6 %\n",
      "Epoch = 5     train_loss = 0.36626      train_acc = 93.75 %      validation_acc = 80.18 %      test_acc = 79.54 %\n",
      "Epoch = 10     train_loss = 0.18384442      train_acc = 93.75 %      validation_acc = 81.92 %      test_acc = 82.36 %\n",
      "Epoch = 15     train_loss = 0.19754618      train_acc = 93.75 %      validation_acc = 82.34 %      test_acc = 81.42 %\n",
      "Epoch = 20     train_loss = 0.036329698      train_acc = 100.0 %      validation_acc = 83.34 %      test_acc = 82.56 %\n",
      "Epoch = 25     train_loss = 0.06259545      train_acc = 100.0 %      validation_acc = 84.52 %      test_acc = 83.14 %\n",
      "Epoch = 30     train_loss = 0.006917822      train_acc = 100.0 %      validation_acc = 84.4 %      test_acc = 84.3 %\n",
      "Epoch = 35     train_loss = 0.018032568      train_acc = 100.0 %      validation_acc = 84.96 %      test_acc = 84.74 %\n",
      "Epoch = 40     train_loss = 0.006204239      train_acc = 100.0 %      validation_acc = 84.26 %      test_acc = 83.7 %\n",
      "Epoch = 45     train_loss = 0.0035889426      train_acc = 100.0 %      validation_acc = 84.44 %      test_acc = 83.94 %\n",
      "Epoch = 50     train_loss = 0.025215067      train_acc = 100.0 %      validation_acc = 84.94 %      test_acc = 84.4 %\n",
      "Epoch = 55     train_loss = 0.0049739555      train_acc = 100.0 %      validation_acc = 84.32 %      test_acc = 83.52 %\n",
      "Epoch = 60     train_loss = 0.00047474643      train_acc = 100.0 %      validation_acc = 84.78 %      test_acc = 84.38 %\n",
      "Epoch = 65     train_loss = 0.00074145023      train_acc = 100.0 %      validation_acc = 85.54 %      test_acc = 84.42 %\n",
      "Epoch = 70     train_loss = 0.0034316613      train_acc = 100.0 %      validation_acc = 85.38 %      test_acc = 84.46 %\n",
      "Epoch = 75     train_loss = 0.0014263907      train_acc = 100.0 %      validation_acc = 85.6 %      test_acc = 84.82 %\n",
      "Epoch = 80     train_loss = 0.0042211274      train_acc = 100.0 %      validation_acc = 84.36 %      test_acc = 83.84 %\n",
      "Epoch = 85     train_loss = 0.00030631007      train_acc = 100.0 %      validation_acc = 84.56 %      test_acc = 83.86 %\n",
      "Epoch = 90     train_loss = 0.0013348842      train_acc = 100.0 %      validation_acc = 84.7 %      test_acc = 83.74 %\n",
      "Epoch = 95     train_loss = 0.020862188      train_acc = 100.0 %      validation_acc = 84.36 %      test_acc = 83.06 %\n",
      "Epoch = 100     train_loss = 0.0025471      train_acc = 100.0 %      validation_acc = 85.14 %      test_acc = 84.54 %\n",
      "Epoch = 105     train_loss = 0.0018116663      train_acc = 100.0 %      validation_acc = 84.56 %      test_acc = 83.94 %\n",
      "Epoch = 110     train_loss = 0.0021822387      train_acc = 100.0 %      validation_acc = 84.78 %      test_acc = 84.16 %\n",
      "Epoch = 115     train_loss = 0.0041294456      train_acc = 100.0 %      validation_acc = 85.0 %      test_acc = 84.18 %\n",
      "Epoch = 120     train_loss = 0.0027906306      train_acc = 100.0 %      validation_acc = 83.9 %      test_acc = 83.1 %\n",
      "Epoch = 125     train_loss = 0.0004141115      train_acc = 100.0 %      validation_acc = 83.52 %      test_acc = 83.12 %\n",
      "Epoch = 130     train_loss = 0.0007083145      train_acc = 100.0 %      validation_acc = 84.24 %      test_acc = 83.68 %\n",
      "Epoch = 135     train_loss = 0.00094071974      train_acc = 100.0 %      validation_acc = 84.94 %      test_acc = 83.72 %\n",
      "Epoch = 140     train_loss = 0.0008118785      train_acc = 100.0 %      validation_acc = 84.94 %      test_acc = 84.52 %\n",
      "Epoch = 145     train_loss = 0.00019769014      train_acc = 100.0 %      validation_acc = 84.86 %      test_acc = 83.48 %\n"
     ]
    },
    {
     "data": {
      "image/png": "[encoded data removed]",
      "text/plain": [
       "<Figure size 432x288 with 1 Axes>"
      ]
     },
     "metadata": {},
     "output_type": "display_data"
    }
   ],
   "source": [
    "cnnModel(X_train, Y_train, X_dev, Y_dev,X_test,Y_test,batch_size = 64,epochs = 150,dropout=0.9,create_model=create_cnnmodel)"
   ]
  },
  {
   "cell_type": "code",
   "execution_count": null,
   "metadata": {
    "collapsed": true
   },
   "outputs": [],
   "source": []
  }
 ],
 "metadata": {
  "kernelspec": {
   "display_name": "Python 3",
   "language": "python",
   "name": "python3"
  },
  "language_info": {
   "codemirror_mode": {
    "name": "ipython",
    "version": 3
   },
   "file_extension": ".py",
   "mimetype": "text/x-python",
   "name": "python",
   "nbconvert_exporter": "python",
   "pygments_lexer": "ipython3",
   "version": "3.5.4"
  },
  "toc": {
   "nav_menu": {},
   "number_sections": true,
   "sideBar": true,
   "skip_h1_title": false,
   "toc_cell": false,
   "toc_position": {},
   "toc_section_display": "block",
   "toc_window_display": false
  }
 },
 "nbformat": 4,
 "nbformat_minor": 2
}
