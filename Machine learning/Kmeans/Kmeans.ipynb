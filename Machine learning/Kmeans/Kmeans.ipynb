{
 "cells": [
  {
   "cell_type": "code",
   "execution_count": 1,
   "metadata": {
    "collapsed": true
   },
   "outputs": [],
   "source": [
    "import numpy as np"
   ]
  },
  {
   "cell_type": "code",
   "execution_count": 258,
   "metadata": {
    "collapsed": true
   },
   "outputs": [],
   "source": [
    "def loadDataSet(fileName):      #general function to parse tab -delimited floats\n",
    "    dataMat = []                #assume last column is target value\n",
    "    fr = open(fileName)\n",
    "    for line in fr.readlines():\n",
    "        curLine = line.strip().split('\\t')\n",
    "        fltLine = map(float,curLine) #map all elements to float()\n",
    "        dataMat.append(fltLine)\n",
    "    return dataMat\n",
    "#计算距离\n",
    "def calDist(vect1,vect2):\n",
    "    return np.sqrt(np.sum(np.power((vect1-vect2),2)))\n",
    "\n",
    "#构建簇质心\n",
    "def randCenter(dataset,k):\n",
    "    randCen=np.mat(np.zeros((k,dataset.shape[1])))\n",
    "    minVal=np.min(dataset,axis=0)\n",
    "    maxVal=np.max(dataset,axis=0)\n",
    "    randCen=np.tile(minVal,(k,1))+np.multiply(np.random.rand(k,dataset.shape[1]),np.tile((maxVal-minVal),(k,1)))\n",
    "    return randCen\n"
   ]
  },
  {
   "cell_type": "code",
   "execution_count": 259,
   "metadata": {},
   "outputs": [
    {
     "name": "stdout",
     "output_type": "stream",
     "text": [
      "[[-1.62579514 -2.60794176]\n",
      " [-2.32693383 -0.69100796]\n",
      " [-2.22828246 -2.62948582]\n",
      " [-2.90539154 -2.62640924]] [matrix([[-5.379713, -4.232586]]), matrix([[ 4.838138,  5.1904  ]])]\n"
     ]
    }
   ],
   "source": [
    "dataMat=np.mat(loadDataSet('testSet.txt'))\n",
    "print(randCenter(dataMat,4)),[np.min(dataMat,axis=0),np.max(dataMat,axis=0)]"
   ]
  },
  {
   "cell_type": "code",
   "execution_count": 314,
   "metadata": {},
   "outputs": [],
   "source": [
    "#k-means算法,返回簇中心和分配结果\n",
    "def kmeans(dataSet,k,distway=calDist,centerway=randCenter):\n",
    "    m,n=np.shape(dataSet)\n",
    "    #初始化簇中心\n",
    "    centroPoint=centerway(dataSet,k)\n",
    "    #聚类结果第一列代表类别第二列代表距离\n",
    "    clusterRe=np.mat(np.zeros((m,2)))\n",
    "    isChanged=True\n",
    "    while(isChanged):\n",
    "        isChanged=False\n",
    "        for i in range(m):\n",
    "            mindist=np.inf\n",
    "            minindex=-1\n",
    "            for j in range(k):\n",
    "                distJ=distway(dataSet[i,:],centroPoint[j,:])\n",
    "                if distJ<mindist:\n",
    "                    minindex=j\n",
    "                    mindist=distJ\n",
    "            if clusterRe[i,0]!=minindex:\n",
    "                isChanged=True\n",
    "            clusterRe[i,0]=minindex\n",
    "            clusterRe[i,1]=mindist**2\n",
    "        for i in range(k):\n",
    "            centroPoint[i,:]=np.mean(dataSet[np.where(clusterRe[:,0]==i)[0],:],axis=0)\n",
    "        print centroPoint\n",
    "    return centroPoint,clusterRe"
   ]
  },
  {
   "cell_type": "code",
   "execution_count": 261,
   "metadata": {},
   "outputs": [],
   "source": [
    "myCentropoint,myCluster=kmeans(dataMat,4)"
   ]
  },
  {
   "cell_type": "code",
   "execution_count": 262,
   "metadata": {},
   "outputs": [
    {
     "data": {
      "image/png": "[encoded data removed]",
      "text/plain": [
       "<matplotlib.figure.Figure at 0x8e395f8>"
      ]
     },
     "metadata": {},
     "output_type": "display_data"
    }
   ],
   "source": [
    "from matplotlib import pyplot as plt\n",
    "plt.scatter(dataMat[:,0].tolist(),dataMat[:,1].tolist())\n",
    "plt.show()"
   ]
  },
  {
   "cell_type": "code",
   "execution_count": 263,
   "metadata": {},
   "outputs": [
    {
     "data": {
      "image/png": "[encoded data removed]",
      "text/plain": [
       "<matplotlib.figure.Figure at 0x9f15c50>"
      ]
     },
     "metadata": {},
     "output_type": "display_data"
    }
   ],
   "source": [
    "def drawRe(myCentropoint,myCluster,dataMat):\n",
    "    plt.scatter(myCentropoint[:,0].tolist(),myCentropoint[:,1].tolist(),c='red')\n",
    "    for i in range(4):\n",
    "        clusterData=dataMat[np.where(myCluster[:,0]==i)[0],:]\n",
    "        if i==0:\n",
    "            plt.scatter(clusterData[:,0].tolist(),clusterData[:,1].tolist(),c='yellow')\n",
    "        if i==1:\n",
    "            plt.scatter(clusterData[:,0].tolist(),clusterData[:,1].tolist(),c='blue')\n",
    "        if i==2:\n",
    "            plt.scatter(clusterData[:,0].tolist(),clusterData[:,1].tolist(),c='green')\n",
    "        if i==3:\n",
    "            plt.scatter(clusterData[:,0].tolist(),clusterData[:,1].tolist(),c='purple')\n",
    "    plt.show()\n",
    "drawRe(myCentropoint,myCluster,dataMat)"
   ]
  },
  {
   "cell_type": "code",
   "execution_count": 317,
   "metadata": {},
   "outputs": [],
   "source": [
    "#二分k-means算法\n",
    "def bikmeans(dataSet,k,distway=calDist):\n",
    "    #将所有点看成一个簇计算簇的中心\n",
    "    m,n=dataSet.shape\n",
    "    clusterRe=np.mat(np.zeros((m,2)))\n",
    "    pointList=[]\n",
    "    centropoint0=np.mean(dataSet,axis=0).tolist()[0]\n",
    "    pointList.append(centropoint0)\n",
    "    #计算总误差\n",
    "    for i in range(m):\n",
    "        clusterRe[i,:]=0,distway(np.mat(centropoint0),dataSet[i,:])**2\n",
    "    num=1\n",
    "    while num<k:\n",
    "        minSSE=np.inf\n",
    "        bestsplitindex=-1\n",
    "        for i in range(len(pointList)):\n",
    "            clusterData=dataSet[np.where(clusterRe[:,0]==i)[0],:]\n",
    "            #根据k-means k=2情况下进行分类\n",
    "            tempCentropoint,tempCluster=kmeans(clusterData,2)\n",
    "            #计算SSE的缩减情况\n",
    "            SSE_old=np.sum(clusterRe[np.where(clusterRe[:,0]==i)[0],1])\n",
    "            SSE_new=np.sum(tempCluster[:,1])\n",
    "            if (SSE_new-SSE_old)<minSSE:\n",
    "                bestsplitindex=i\n",
    "                minSSE=SSE_new-SSE_old\n",
    "        #选取最佳分割簇\n",
    "        bestclusterData=dataSet[np.where(clusterRe[:,0]==bestsplitindex)[0],:]\n",
    "        Centropoint_new,Cluster_new=kmeans(bestclusterData,2)\n",
    "        pointList[bestsplitindex]=Centropoint_new[0,:].tolist()[0]\n",
    "        pointList.append(Centropoint_new[1,:].tolist()[0])\n",
    "        tempindex=-1\n",
    "        #更新clusterRe主要要对其类别号同时进行更新\n",
    "        for i in range(m):\n",
    "            #聚类里面的下标\n",
    "            if clusterRe[i,0]==bestsplitindex:\n",
    "                tempindex+=1\n",
    "                if int(Cluster_new[tempindex,0])==0:\n",
    "                    clusterRe[i,1]=Cluster_new[tempindex,1]\n",
    "                if int(Cluster_new[tempindex,0])==1:\n",
    "                    clusterRe[i,:]=num,Cluster_new[tempindex,1]\n",
    "        num+=1\n",
    "    return np.mat(pointList),clusterRe"
   ]
  },
  {
   "cell_type": "code",
   "execution_count": 318,
   "metadata": {},
   "outputs": [
    {
     "name": "stdout",
     "output_type": "stream",
     "text": [
      "[[ 0.82422407 -1.11943428]\n",
      " [-1.07631816  3.41881939]]\n",
      "[[ 0.30368272 -1.853273  ]\n",
      " [-0.48729809  3.42433234]]\n",
      "[[-0.32150057 -2.62473743]\n",
      " [-0.06953469  3.29844341]]\n",
      "[[-0.45965615 -2.7782156 ]\n",
      " [-0.00675605  3.22710297]]\n",
      "[[-0.45965615 -2.7782156 ]\n",
      " [-0.00675605  3.22710297]]\n",
      "[[-2.29791497  1.10498216]\n",
      " [ 2.13006893  1.35397793]]\n",
      "[[-2.11802947  0.88737776]\n",
      " [ 2.40575527  1.66726781]]\n",
      "[[-1.70351595  0.27408125]\n",
      " [ 2.93386365  3.12782785]]\n",
      "[[-1.70351595  0.27408125]\n",
      " [ 2.93386365  3.12782785]]\n",
      "[[-1.0545834  -3.3579066 ]\n",
      " [-1.7962206   0.79293666]]\n",
      "[[-0.36852161 -2.96793856]\n",
      " [-2.79578405  2.92664291]]\n",
      "[[-0.45965615 -2.7782156 ]\n",
      " [-2.94737575  3.3263781 ]]\n",
      "[[-0.45965615 -2.7782156 ]\n",
      " [-2.94737575  3.3263781 ]]\n",
      "[[ 2.7674964  2.4361338]\n",
      " [ 3.1002309  3.8195219]]\n",
      "[[ 2.66598045  2.52444636]\n",
      " [ 3.26127644  3.86529411]]\n",
      "[[ 2.598185    2.60968842]\n",
      " [ 3.43738162  3.905037  ]]\n",
      "[[ 2.598185    2.60968842]\n",
      " [ 3.43738162  3.905037  ]]\n",
      "[[-0.97166321 -1.96674883]\n",
      " [-2.80129506  3.63532638]]\n",
      "[[-0.45965615 -2.7782156 ]\n",
      " [-2.94737575  3.3263781 ]]\n",
      "[[-0.45965615 -2.7782156 ]\n",
      " [-2.94737575  3.3263781 ]]\n"
     ]
    },
    {
     "data": {
      "image/png": "[encoded data removed]",
      "text/plain": [
       "<matplotlib.figure.Figure at 0x8f6e7f0>"
      ]
     },
     "metadata": {},
     "output_type": "display_data"
    }
   ],
   "source": [
    "dataMat2=np.mat(loadDataSet('testSet2.txt'))\n",
    "mycentroPoint2,myClusterRe2=bikmeans(dataMat2,3)\n",
    "drawRe(mycentroPoint2,myClusterRe2,dataMat2)"
   ]
  },
  {
   "cell_type": "code",
   "execution_count": null,
   "metadata": {
    "collapsed": true
   },
   "outputs": [],
   "source": []
  }
 ],
 "metadata": {
  "kernelspec": {
   "display_name": "Python 2",
   "language": "python",
   "name": "python2"
  },
  "language_info": {
   "codemirror_mode": {
    "name": "ipython",
    "version": 2
   },
   "file_extension": ".py",
   "mimetype": "text/x-python",
   "name": "python",
   "nbconvert_exporter": "python",
   "pygments_lexer": "ipython2",
   "version": "2.7.13"
  },
  "toc": {
   "nav_menu": {},
   "number_sections": true,
   "sideBar": true,
   "skip_h1_title": false,
   "toc_cell": false,
   "toc_position": {},
   "toc_section_display": "block",
   "toc_window_display": false
  }
 },
 "nbformat": 4,
 "nbformat_minor": 2
}
