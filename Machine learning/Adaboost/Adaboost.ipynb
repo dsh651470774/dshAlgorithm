{
 "cells": [
  {
   "cell_type": "code",
   "execution_count": 1,
   "metadata": {
    "collapsed": true
   },
   "outputs": [],
   "source": [
    "from numpy import *\n",
    "\n",
    "def loadSimpData():\n",
    "    datMat = matrix([[ 1. ,  2.1],\n",
    "        [ 2. ,  1.1],\n",
    "        [ 1.3,  1. ],\n",
    "        [ 1. ,  1. ],\n",
    "        [ 2. ,  1. ]])\n",
    "    classLabels = [1.0, 1.0, -1.0, -1.0, 1.0]\n",
    "    return datMat,classLabels"
   ]
  },
  {
   "cell_type": "code",
   "execution_count": 2,
   "metadata": {
    "collapsed": true
   },
   "outputs": [],
   "source": [
    "datMat,classLabels=loadSimpData()"
   ]
  },
  {
   "cell_type": "code",
   "execution_count": 3,
   "metadata": {
    "collapsed": true
   },
   "outputs": [],
   "source": [
    "#计算预测值\n",
    "def stumpClassify(datMat, feat, threshVal, threshIneq):\n",
    "    retArray=ones((datMat.shape[0],1))\n",
    "    if threshIneq=='lt':\n",
    "        retArray[datMat[:,feat]<=threshVal]=-1\n",
    "    if threshIneq=='gt':\n",
    "        retArray[datMat[:,feat]>threshVal]=-1\n",
    "    return retArray\n",
    "\n",
    "#建立单层决策树\n",
    "def buildStump(dataArr,classLabels,D):\n",
    "    dataMat=mat(dataArr);classMat=mat(classLabels).T\n",
    "    m,n=shape(dataMat)\n",
    "    numSteps=10.0;bestStump={};bestClasEst=mat(zeros((m,1)))\n",
    "    minError=inf\n",
    "    for feat in range(n):\n",
    "        minfeat=min(dataMat[:,feat]);maxfeat=max(dataMat[:,feat])\n",
    "        steps=(maxfeat-minfeat)/numSteps\n",
    "        for i in range(-1,int(numSteps)+1):\n",
    "            threshVal=minfeat+i*float(steps)\n",
    "            retArray1=stumpClassify(dataMat, feat, threshVal, 'lt')\n",
    "            retArray2=stumpClassify(dataMat, feat, threshVal, 'gt')\n",
    "            error1=mat(zeros((m,1)));error2=mat(zeros((m,1)))\n",
    "            error1[retArray1!=classMat]=1;error2[retArray2!=classMat]=1\n",
    "            WeightedError1=D.T*error1;WeightedError2=D.T*error2\n",
    "            WeightedError=min(WeightedError1,WeightedError2)\n",
    "            if WeightedError<minError:\n",
    "                bestStump['feat']=feat\n",
    "                bestStump['threshVal']=threshVal\n",
    "                if WeightedError==WeightedError1:\n",
    "                    bestStump['threshIneq']='lt'\n",
    "                if WeightedError==WeightedError2:\n",
    "                    bestStump['threshIneq']='gt'\n",
    "                minError=WeightedError\n",
    "    bestClasEst=stumpClassify(dataMat, bestStump['feat'], bestStump['threshVal'], bestStump['threshIneq'])\n",
    "    return bestStump,bestClasEst,minError"
   ]
  },
  {
   "cell_type": "code",
   "execution_count": 4,
   "metadata": {
    "collapsed": true
   },
   "outputs": [],
   "source": [
    "#完整的单决策树Adaboost算法\n",
    "def adaBoostTrainDS(dataArr,classLabels,numIt=40):\n",
    "    dataArr=mat(dataArr)\n",
    "    classMat=mat(classLabels).T\n",
    "    m,n=dataArr.shape\n",
    "    D=mat(ones((m,1))/m)\n",
    "    stumpList=[]\n",
    "    predict=mat(zeros((m,1)))\n",
    "    for i in range(numIt):\n",
    "        bestStump,bestClasEst,minError=buildStump(dataArr,classLabels,D)\n",
    "        alpha=0.5*log((1.0-minError)/max(minError,1e-16))\n",
    "        alpha=alpha[0,0]\n",
    "        bestStump['alpha']=alpha\n",
    "        stumpList.append(bestStump)\n",
    "        predict+=alpha*bestClasEst\n",
    "        aggError=multiply(sign(predict)!=classMat,ones((m,1)))\n",
    "        \n",
    "#         print 'iter:%d totalError:%s'%(i,aggError)\n",
    "        if sum(aggError)==0.0:\n",
    "            break\n",
    "        deltaD=mat(zeros((m,1)))\n",
    "        deltaD[bestClasEst==classMat]=exp(-alpha)/sum(D)\n",
    "        deltaD[bestClasEst!=classMat]=exp(alpha)/sum(D)\n",
    "        D=multiply(D,deltaD)\n",
    "    return stumpList  "
   ]
  },
  {
   "cell_type": "code",
   "execution_count": 5,
   "metadata": {
    "collapsed": true
   },
   "outputs": [],
   "source": [
    "def adaClassify(datToClass,stumpList):\n",
    "    dataMat=mat(datToClass)\n",
    "    m,n=dataMat.shape\n",
    "    predict=mat(zeros((m,1)))\n",
    "    for i in range(len(stumpList)):\n",
    "        bestClasEst=stumpClassify(dataMat, stumpList[i]['feat'], stumpList[i]['threshVal'], stumpList[i]['threshIneq'])\n",
    "#         print 'stump:%d prediction:%s'%(i,str(bestClasEst))\n",
    "        predict+=stumpList[i]['alpha']*bestClasEst\n",
    "    return sign(predict)"
   ]
  },
  {
   "cell_type": "code",
   "execution_count": 6,
   "metadata": {},
   "outputs": [
    {
     "name": "stdout",
     "output_type": "stream",
     "text": [
      "[{'alpha': 0.69314718055994529, 'feat': 0, 'threshVal': matrix([[ 1.3]]), 'threshIneq': 'lt'}, {'alpha': 1.0986122886681098, 'feat': 1, 'threshVal': matrix([[ 1.]]), 'threshIneq': 'lt'}, {'alpha': 1.1989476363991851, 'feat': 0, 'threshVal': matrix([[ 0.9]]), 'threshIneq': 'lt'}]\n",
      "[[ 1.]\n",
      " [ 1.]\n",
      " [-1.]\n",
      " [-1.]\n",
      " [ 1.]]\n"
     ]
    }
   ],
   "source": [
    "stumpList=adaBoostTrainDS(datMat,classLabels,numIt=40)\n",
    "print stumpList\n",
    "print adaClassify(datMat,stumpList)"
   ]
  },
  {
   "cell_type": "code",
   "execution_count": 137,
   "metadata": {
    "collapsed": true
   },
   "outputs": [],
   "source": [
    "#自适应加载数据\n",
    "def loadDataSet(filename):\n",
    "    #创建数据集矩阵，标签向量\n",
    "    dataMat=[];labelMat=[]\n",
    "    #获取特征数目(包括最后一类标签)\n",
    "    #readline():读取文件的一行\n",
    "    #readlines:读取整个文件所有行\n",
    "    numFeat=len(open(filename).readline().split('\\t'))\n",
    "    #打开文件\n",
    "    fr=open(filename)\n",
    "    #遍历文本每一行\n",
    "    for line in fr.readlines():\n",
    "        lineArr=[]\n",
    "        curLine=line.strip().split('\\t')\n",
    "        for i in range(numFeat-1):\n",
    "            lineArr.append(float(curLine[i]))\n",
    "        #数据矩阵\n",
    "        dataMat.append(lineArr)\n",
    "        #标签向量\n",
    "        labelMat.append(float(curLine[-1]))\n",
    "    return dataMat,labelMat"
   ]
  },
  {
   "cell_type": "code",
   "execution_count": 143,
   "metadata": {},
   "outputs": [
    {
     "name": "stdout",
     "output_type": "stream",
     "text": [
      "ErrorRate:0.208955223881\n"
     ]
    }
   ],
   "source": [
    "dataMat1,labelMat1=loadDataSet('horseColicTraining2.txt')\n",
    "dataMat2,labelMat2=loadDataSet('horseColicTest2.txt')\n",
    "stumpList=adaBoostTrainDS(dataMat1,labelMat1,numIt=40)\n",
    "prediction=adaClassify(dataMat2,stumpList)\n",
    "error=0\n",
    "for i in range(len(labelMat2)):\n",
    "    if prediction[i]!=labelMat2[i]:\n",
    "        error+=1\n",
    "print 'ErrorRate:%s'%str(float(error)/len(labelMat2))"
   ]
  },
  {
   "cell_type": "code",
   "execution_count": 225,
   "metadata": {
    "collapsed": true
   },
   "outputs": [],
   "source": [
    "#绘制ROC曲线\n",
    "import matplotlib.pyplot as plt\n",
    "def plotROC(prediction,classLabels):\n",
    "    ysum=0\n",
    "    cur=[1.0,1.0]\n",
    "    curNext=[0,0]\n",
    "    posNum=sum(array(classLabels)==1.0)\n",
    "    negMum=float(len(classLabels))-posNum\n",
    "    xstep=1.0/negMum\n",
    "    ystep=1.0/posNum\n",
    "    orderIndex=prediction.squeeze().argsort()\n",
    "    fig=plt.figure()\n",
    "    fig.clf()\n",
    "    ax=plt.subplot(111)\n",
    "    for index in list(orderIndex):\n",
    "        if classLabels[index]==1.0:\n",
    "            curNext[0]=cur[0];curNext[1]=cur[1]-ystep\n",
    "        else:\n",
    "            curNext[0]=cur[0]-xstep;curNext[1]=cur[1]\n",
    "            ysum+=cur[1]\n",
    "        ax.plot([cur[0],curNext[0]],[cur[1],curNext[1]],c='b')\n",
    "        cur=curNext[:]\n",
    "    ax.plot([1.0,0.0],[1.0,0.0],'b--')\n",
    "    ax.axis([0,1,0,1])\n",
    "    plt.show()\n",
    "    print 'area:%.5f'%(ysum*xstep)"
   ]
  },
  {
   "cell_type": "code",
   "execution_count": 226,
   "metadata": {},
   "outputs": [
    {
     "data": {
      "image/png": "[encoded data removed]",
      "text/plain": [
       "<matplotlib.figure.Figure at 0xcb65d68>"
      ]
     },
     "metadata": {},
     "output_type": "display_data"
    },
    {
     "name": "stdout",
     "output_type": "stream",
     "text": [
      "area:0.78085\n"
     ]
    }
   ],
   "source": [
    "dataMat1,labelMat1=loadDataSet('horseColicTraining2.txt')\n",
    "dataMat2,labelMat2=loadDataSet('horseColicTest2.txt')\n",
    "stumpList=adaBoostTrainDS(dataMat1,labelMat1,numIt=40)\n",
    "dataMat=mat(dataMat2)\n",
    "m,n=dataMat.shape\n",
    "predict=mat(zeros((m,1)))\n",
    "for i in range(len(stumpList)):\n",
    "    bestClasEst=stumpClassify(dataMat, stumpList[i]['feat'], stumpList[i]['threshVal'], stumpList[i]['threshIneq'])\n",
    "#       print 'stump:%d prediction:%s'%(i,str(bestClasEst))\n",
    "    predict+=stumpList[i]['alpha']*bestClasEst\n",
    "predict=array(predict)\n",
    "plotROC(predict,labelMat2)"
   ]
  },
  {
   "cell_type": "code",
   "execution_count": null,
   "metadata": {
    "collapsed": true
   },
   "outputs": [],
   "source": []
  }
 ],
 "metadata": {
  "kernelspec": {
   "display_name": "Python 2",
   "language": "python",
   "name": "python2"
  },
  "language_info": {
   "codemirror_mode": {
    "name": "ipython",
    "version": 2
   },
   "file_extension": ".py",
   "mimetype": "text/x-python",
   "name": "python",
   "nbconvert_exporter": "python",
   "pygments_lexer": "ipython2",
   "version": "2.7.13"
  },
  "toc": {
   "nav_menu": {},
   "number_sections": true,
   "sideBar": true,
   "skip_h1_title": false,
   "toc_cell": false,
   "toc_position": {},
   "toc_section_display": "block",
   "toc_window_display": false
  }
 },
 "nbformat": 4,
 "nbformat_minor": 2
}
