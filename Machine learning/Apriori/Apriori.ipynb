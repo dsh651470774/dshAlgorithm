{
 "cells": [
  {
   "cell_type": "code",
   "execution_count": 254,
   "metadata": {
    "collapsed": true
   },
   "outputs": [],
   "source": [
    "def loadDataSet():\n",
    "    return [[1, 3, 4], [2, 3, 5], [1, 2, 3, 5], [2, 5]]"
   ]
  },
  {
   "cell_type": "code",
   "execution_count": 255,
   "metadata": {
    "collapsed": true
   },
   "outputs": [],
   "source": [
    "#创建C1\n",
    "def createC1(dataSet):\n",
    "    C1=[]\n",
    "    for transaction in dataSet:\n",
    "        for goods in transaction:\n",
    "            if [goods] not in C1:\n",
    "                C1.append([goods])\n",
    "    C1.sort()\n",
    "    C1=map(frozenset,C1)\n",
    "    return C1"
   ]
  },
  {
   "cell_type": "code",
   "execution_count": 256,
   "metadata": {},
   "outputs": [],
   "source": [
    "dataSet=loadDataSet()\n",
    "dataSet=map(set,dataSet)\n",
    "C1=createC1(dataSet)"
   ]
  },
  {
   "cell_type": "code",
   "execution_count": 257,
   "metadata": {
    "collapsed": true
   },
   "outputs": [],
   "source": [
    "#计算支持度,选择Lk\n",
    "def createLk(dataSet,Ck,minSup=0.5):\n",
    "    retList=[]\n",
    "    supData={}\n",
    "    retDic={}\n",
    "    numItem=len(dataSet)\n",
    "    for Ci in Ck:\n",
    "        numSub=0\n",
    "        for transaction in dataSet:\n",
    "            if Ci.issubset(transaction):\n",
    "                numSub+=1\n",
    "        if (float(numSub)/numItem)>=minSup:\n",
    "            retList.append(Ci)\n",
    "            supData[Ci]=(float(numSub)/numItem)\n",
    "    return retList,supData"
   ]
  },
  {
   "cell_type": "code",
   "execution_count": 258,
   "metadata": {},
   "outputs": [
    {
     "data": {
      "text/plain": [
       "([frozenset({1}), frozenset({2}), frozenset({3}), frozenset({5})],\n",
       " {frozenset({5}): 0.75,\n",
       "  frozenset({2}): 0.75,\n",
       "  frozenset({3}): 0.75,\n",
       "  frozenset({1}): 0.5})"
      ]
     },
     "execution_count": 258,
     "metadata": {},
     "output_type": "execute_result"
    }
   ],
   "source": [
    "createLk(dataSet,C1,0.5)"
   ]
  },
  {
   "cell_type": "code",
   "execution_count": 279,
   "metadata": {},
   "outputs": [],
   "source": [
    "#完整的Apriori算法\n",
    "def Apriori(dataSet,minSup=0.5):\n",
    "    C1=createC1(dataSet)\n",
    "    L=[];supData={}\n",
    "    L1,supData1=createLk(dataSet,C1,minSup)\n",
    "    L.append(L1);supData.update(supData1)\n",
    "    C2=[]\n",
    "    for i in range(len(L1)-1):\n",
    "        for j in range(i+1,len(L1)):\n",
    "            C2.append(L1[i]|L1[j])\n",
    "    L2,supData2=createLk(dataSet,C2,minSup)\n",
    "    L.append(L2);supData.update(supData2)\n",
    "    Ltemp=L2[:]\n",
    "    #当K从3开始\n",
    "    k=3\n",
    "    while(True):\n",
    "        Ctemp=[]\n",
    "        for i in range(len(Ltemp)-1):\n",
    "            for j in range(i+1,len(Ltemp)):\n",
    "                li1=(list(Ltemp[i])[:k-2])\n",
    "                li2=(list(Ltemp[j])[:k-2])\n",
    "                li1.sort();li2.sort()\n",
    "                if li1==li2:\n",
    "                    Ctemp.append(Ltemp[i]|Ltemp[j])\n",
    "        if len(Ctemp)==0:\n",
    "            break\n",
    "        Ltemp,supDatatemp=createLk(dataSet,Ctemp,minSup)\n",
    "        L.append(Ltemp);supData.update(supDatatemp)\n",
    "        k+=1\n",
    "        if len(Ltemp)==1:\n",
    "            break\n",
    "    return L,supData"
   ]
  },
  {
   "cell_type": "code",
   "execution_count": 264,
   "metadata": {},
   "outputs": [],
   "source": [
    "L,supData=Apriori(dataSet,0.5)"
   ]
  },
  {
   "cell_type": "code",
   "execution_count": 265,
   "metadata": {},
   "outputs": [],
   "source": [
    "#计算单项链接的置信度\n",
    "def calConfi(itemList,subsets,supData,minConfi):\n",
    "    retList=[]\n",
    "    condiList=[]\n",
    "    for item in itemList:\n",
    "        confidence=supData[subsets]/supData[item]\n",
    "        if confidence>minConfi:\n",
    "            retList.append((item,subsets-item,confidence))\n",
    "            condiList.append(item)\n",
    "    return retList,condiList\n",
    "\n",
    "#创建关联规则\n",
    "def generateRules(L,supData,minConfi=0.7):\n",
    "    retList=[]\n",
    "    #第二层的情况\n",
    "    for subsets in L[1]:\n",
    "        itemList=[frozenset([item]) for item in list(subsets)]\n",
    "        retList.extend(calConfi(itemList,subsets,supData,minConfi)[0])\n",
    "    #第三层之后\n",
    "    for lyr in range(2,len(L)):\n",
    "        for subsets in L[lyr]:\n",
    "            #第1层（1项）\n",
    "            itemList=[frozenset([item]) for item in list(subsets)]\n",
    "            retList1,condiList1=calConfi(itemList,subsets,supData,minConfi)\n",
    "            retList.extend(retList1)\n",
    "            #第2层（2项）\n",
    "            C2=[]\n",
    "            for i in range(len(condiList1)-1):\n",
    "                for j in range(i+1,len(condiList1)):\n",
    "                    C2.append(condiList1[i]|condiList1[j])\n",
    "            itemList=[frozenset([item]) for item in list(C2)]\n",
    "            retList1,condiList1=calConfi(C2,subsets,supData,minConfi)\n",
    "            retList.extend(retList1)\n",
    "            #当K从3开始\n",
    "            k=3\n",
    "            while(True):\n",
    "                Ctemp=[]\n",
    "                for i in range(len(condiList1)-1):\n",
    "                    for j in range(i+1,len(condiList1)):\n",
    "                        li1=(list(condiList1[i])[:k-2])\n",
    "                        li2=(list(condiList1[j])[:k-2])\n",
    "                        li1.sort();li2.sort()\n",
    "                        if li1==li2:\n",
    "                            Ctemp.append(condiList1[i]|condiList1[j])\n",
    "                if len(Ctemp)<=1:\n",
    "                    break\n",
    "                retList1,condiList1=calConfi(Ctemp,subsets,supData,minConfi)\n",
    "                retList.extend(retList1)\n",
    "                k+=1\n",
    "    return retList"
   ]
  },
  {
   "cell_type": "code",
   "execution_count": 266,
   "metadata": {},
   "outputs": [
    {
     "data": {
      "text/plain": [
       "[(frozenset({1}), frozenset({3}), 1.0),\n",
       " (frozenset({2}), frozenset({5}), 1.0),\n",
       " (frozenset({5}), frozenset({2}), 1.0)]"
      ]
     },
     "execution_count": 266,
     "metadata": {},
     "output_type": "execute_result"
    }
   ],
   "source": [
    "generateRules(L,supData)"
   ]
  },
  {
   "cell_type": "code",
   "execution_count": 280,
   "metadata": {},
   "outputs": [
    {
     "name": "stdout",
     "output_type": "stream",
     "text": [
      "frozenset(['2', '23'])\n",
      "frozenset(['2', '28'])\n",
      "frozenset(['2', '34'])\n",
      "frozenset(['2', '36'])\n",
      "frozenset(['39', '2'])\n",
      "frozenset(['2', '53'])\n",
      "frozenset(['2', '59'])\n",
      "frozenset(['63', '2'])\n",
      "frozenset(['2', '67'])\n",
      "frozenset(['76', '2'])\n",
      "frozenset(['2', '85'])\n",
      "frozenset(['2', '86'])\n",
      "frozenset(['90', '2'])\n",
      "frozenset(['93', '2'])\n"
     ]
    }
   ],
   "source": [
    "#采用数据测试\n",
    "with open('mushroom.dat','r') as fread:\n",
    "    lines=fread.readlines()\n",
    "    mushDataSet=[]\n",
    "    for line in lines:\n",
    "        mushDataSet.append(line.split())\n",
    "L,supData=Apriori(mushDataSet,0.3)\n",
    "for item in L[1]:\n",
    "    if item.intersection('2'):print item"
   ]
  },
  {
   "cell_type": "code",
   "execution_count": null,
   "metadata": {
    "collapsed": true
   },
   "outputs": [],
   "source": []
  },
  {
   "cell_type": "code",
   "execution_count": null,
   "metadata": {
    "collapsed": true
   },
   "outputs": [],
   "source": []
  }
 ],
 "metadata": {
  "kernelspec": {
   "display_name": "Python 2",
   "language": "python",
   "name": "python2"
  },
  "language_info": {
   "codemirror_mode": {
    "name": "ipython",
    "version": 2
   },
   "file_extension": ".py",
   "mimetype": "text/x-python",
   "name": "python",
   "nbconvert_exporter": "python",
   "pygments_lexer": "ipython2",
   "version": "2.7.13"
  },
  "toc": {
   "nav_menu": {},
   "number_sections": true,
   "sideBar": true,
   "skip_h1_title": false,
   "toc_cell": false,
   "toc_position": {},
   "toc_section_display": "block",
   "toc_window_display": false
  }
 },
 "nbformat": 4,
 "nbformat_minor": 2
}
