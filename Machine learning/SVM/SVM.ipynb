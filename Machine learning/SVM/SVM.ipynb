{
 "cells": [
  {
   "cell_type": "code",
   "execution_count": 2,
   "metadata": {
    "collapsed": true
   },
   "outputs": [],
   "source": [
    "from numpy import *\n",
    "from time import sleep\n",
    "\n",
    "def loadDataSet(fileName):\n",
    "    dataMat = []; labelMat = []\n",
    "    fr = open(fileName)\n",
    "    for line in fr.readlines():\n",
    "        lineArr = line.strip().split('\\t')\n",
    "        dataMat.append([float(lineArr[0]), float(lineArr[1])])\n",
    "        labelMat.append(float(lineArr[2]))\n",
    "    return dataMat,labelMat\n",
    "\n",
    "def selectJrand(i,m):\n",
    "    j=i #we want to select any J not equal to i\n",
    "    while (j==i):\n",
    "        j = int(random.uniform(0,m))\n",
    "    return j\n",
    "\n",
    "def clipAlpha(aj,H,L):\n",
    "    if aj > H: \n",
    "        aj = H\n",
    "    if L > aj:\n",
    "        aj = L\n",
    "    return aj\n"
   ]
  },
  {
   "cell_type": "code",
   "execution_count": 84,
   "metadata": {},
   "outputs": [],
   "source": [
    "def simpleSMO(dataMat,labelList,C,toler,maxIter):\n",
    "    dataMatrix=mat(dataMat)\n",
    "    labelMatrix=mat(labelList).transpose()\n",
    "    m,n=dataMatrix.shape\n",
    "    alpha=mat(zeros((m,1)));b=0\n",
    "    iternum=0\n",
    "    while (iternum<maxIter):\n",
    "        isChange=0\n",
    "        for i in range(m):\n",
    "            w=(multiply(alpha,labelMatrix)).T*dataMatrix\n",
    "            fxi=w*dataMatrix[i,:].T+b\n",
    "            Ei=fxi-float(labelMatrix[i])\n",
    "            #不满足KKT条件的情况\n",
    "            if(labelMatrix[i]*Ei<toler and alpha[i]<C) or (labelMatrix[i]*Ei>toler and alpha[i]>0):\n",
    "                j=selectJrand(i,m)\n",
    "                fxj=w*dataMatrix[j,:].T+b\n",
    "                Ej=fxj-float(labelMatrix[j])\n",
    "                alphaiold=alpha[i].copy();alphajold=alpha[j].copy()\n",
    "                if(labelMatrix[i]==labelMatrix[j]):\n",
    "                    L=max(0,alphaiold+alphajold-C);H=min(C,alphaiold+alphajold)\n",
    "                if(labelMatrix[i]!=labelMatrix[j]):\n",
    "                    L=max(0,alphajold-alphaiold);H=min(C,C+alphajold-alphaiold)\n",
    "                if L==H:\n",
    "                    continue\n",
    "                eta=2.0*dataMatrix[i,:]*dataMatrix[j,:].T-dataMatrix[i,:]*dataMatrix[i,:].T-dataMatrix[j,:]*dataMatrix[j,:].T\n",
    "                alpha[j]=alphajold-labelMatrix[j]*(Ei-Ej)/eta\n",
    "                alpha[j]=clipAlpha(alpha[j],H,L)\n",
    "                alpha[i]=alphaiold+labelMatrix[i]*labelMatrix[j]*(alphajold-alpha[j])\n",
    "                b1=b-Ei-labelMatrix[i]*(alpha[i]-alphaiold)*dataMatrix[i,:]*dataMatrix[i,:].T-labelMatrix[j]*(alpha[j]-alphajold)*dataMatrix[i,:]*dataMatrix[j,:].T\n",
    "                b2=b-Ej-labelMatrix[i]*(alpha[i]-alphaiold)*dataMatrix[i,:]*dataMatrix[j,:].T-labelMatrix[j]*(alpha[j]-alphajold)*dataMatrix[j,:]*dataMatrix[j,:].T\n",
    "                if alpha[i]>0 and alpha[i]<C: b=b1\n",
    "                elif alpha[j]>0 and alpha[j]<C: b=b2\n",
    "                else: b = (b1 +b2) / 2.0\n",
    "                isChange+=1\n",
    "#                 print 'iter: %d ,pair changed %d'%(iternum,isChange)\n",
    "        if isChange!=0: \n",
    "            iternum+=1\n",
    "#             print u'已经过第%d次循环'%(iternum-1)\n",
    "        else:\n",
    "            iternum=0\n",
    "#             print u'参数没有改变'\n",
    "    w=(multiply(alpha,labelMatrix)).T*dataMatrix\n",
    "    return alpha,b,w"
   ]
  },
  {
   "cell_type": "code",
   "execution_count": 27,
   "metadata": {},
   "outputs": [
    {
     "data": {
      "image/png": "[encoded data removed]",
      "text/plain": [
       "<matplotlib.figure.Figure at 0x7eb6080>"
      ]
     },
     "metadata": {},
     "output_type": "display_data"
    }
   ],
   "source": [
    "dataMat,labelMat=loadDataSet('testSet.txt')\n",
    "import matplotlib.pyplot as plt\n",
    "x1=[];y1=[]\n",
    "x2=[];y2=[]\n",
    "for i in range(len(labelMat)):\n",
    "    if labelMat[i]==-1:\n",
    "        x1.append(dataMat[i][0])\n",
    "        y1.append(dataMat[i][1])\n",
    "    if labelMat[i]==1:\n",
    "        x2.append(dataMat[i][0])\n",
    "        y2.append(dataMat[i][1])\n",
    "fig=plt.figure()\n",
    "ax=fig.add_subplot(111)\n",
    "ax.scatter(x1,y1,s=30,c='red')\n",
    "ax.scatter(x2,y2,s=30,c='green')\n",
    "plt.show()"
   ]
  },
  {
   "cell_type": "code",
   "execution_count": 100,
   "metadata": {},
   "outputs": [
    {
     "data": {
      "image/png": "[encoded data removed]",
      "text/plain": [
       "<matplotlib.figure.Figure at 0x81c5a58>"
      ]
     },
     "metadata": {},
     "output_type": "display_data"
    },
    {
     "name": "stdout",
     "output_type": "stream",
     "text": [
      "0:00:13.255000\n"
     ]
    }
   ],
   "source": [
    "import datetime\n",
    "begin = datetime.datetime.now()\n",
    "alpha,b,w=simpleSMO(dataMat,labelMat,0.6,0.001,2000)\n",
    "x1=[];y1=[]\n",
    "x2=[];y2=[]\n",
    "x3=[];y3=[]\n",
    "for i in range(len(labelMat)):\n",
    "    if labelMat[i]==-1:\n",
    "        x1.append(dataMat[i][0])\n",
    "        y1.append(dataMat[i][1])\n",
    "    if labelMat[i]==1:\n",
    "        x2.append(dataMat[i][0])\n",
    "        y2.append(dataMat[i][1])\n",
    "    if alpha[i]>0:\n",
    "        x3.append(dataMat[i][0])\n",
    "        y3.append(dataMat[i][1])\n",
    "fig=plt.figure()\n",
    "ax=fig.add_subplot(111)\n",
    "ax.scatter(x1,y1,s=30,c='red')\n",
    "ax.scatter(x2,y2,s=30,c='green')\n",
    "ax.scatter(x3,y3,s=50,c='purple')\n",
    "x=arange(-1.0,8.0,0.01)\n",
    "y=(-array(w)[0][0]*x-b)/array(w)[0][1]\n",
    "ax.scatter(x,y,c='blue',linewidths=0)\n",
    "plt.show()\n",
    "end = datetime.datetime.now()\n",
    "print end-begin"
   ]
  },
  {
   "cell_type": "code",
   "execution_count": 88,
   "metadata": {
    "collapsed": true
   },
   "outputs": [],
   "source": [
    "def adSMO(dataMat,labelList,C,toler,maxIter):\n",
    "    dataMatrix=mat(dataMat)\n",
    "    labelMatrix=mat(labelList).transpose()\n",
    "    m,n=dataMatrix.shape\n",
    "    alpha=mat(zeros((m,1)));b=0\n",
    "    iternum=0\n",
    "    while (iternum<maxIter):\n",
    "        isChange=0\n",
    "        for i in range(m):\n",
    "            w=(multiply(alpha,labelMatrix)).T*dataMatrix\n",
    "            fxi=w*dataMatrix[i,:].T+b\n",
    "            Ei=fxi-float(labelMatrix[i])\n",
    "            j=0\n",
    "            #不满足KKT条件的情况\n",
    "            if(labelMatrix[i]*Ei<toler and alpha[i]<C) or (labelMatrix[i]*Ei>toler and alpha[i]>0):\n",
    "                validList=nonzero(alpha)[0]\n",
    "                if len(validList)>0:\n",
    "                    maxdelta=0\n",
    "                    for k in validList:\n",
    "                        if k==i:\n",
    "                            continue\n",
    "                        Ek=w*dataMatrix[k,:].T+b-float(labelMatrix[k])\n",
    "                        delta=abs(Ek-Ei)\n",
    "                        if delta>maxdelta:\n",
    "                            j=k;maxdelta=delta\n",
    "                else:\n",
    "                    j=selectJrand(i,m)\n",
    "                fxj=w*dataMatrix[j,:].T+b\n",
    "                Ej=fxj-float(labelMatrix[j])\n",
    "                alphaiold=alpha[i].copy();alphajold=alpha[j].copy()\n",
    "                if(labelMatrix[i]==labelMatrix[j]):\n",
    "                    L=max(0,alphaiold+alphajold-C);H=min(C,alphaiold+alphajold)\n",
    "                if(labelMatrix[i]!=labelMatrix[j]):\n",
    "                    L=max(0,alphajold-alphaiold);H=min(C,C+alphajold-alphaiold)\n",
    "                if L==H:\n",
    "                    continue\n",
    "                eta=2.0*dataMatrix[i,:]*dataMatrix[j,:].T-dataMatrix[i,:]*dataMatrix[i,:].T-dataMatrix[j,:]*dataMatrix[j,:].T\n",
    "                alpha[j]=alphajold-labelMatrix[j]*(Ei-Ej)/eta\n",
    "                alpha[j]=clipAlpha(alpha[j],H,L)\n",
    "                alpha[i]=alphaiold+labelMatrix[i]*labelMatrix[j]*(alphajold-alpha[j])\n",
    "                b1=b-Ei-labelMatrix[i]*(alpha[i]-alphaiold)*dataMatrix[i,:]*dataMatrix[i,:].T-labelMatrix[j]*(alpha[j]-alphajold)*dataMatrix[i,:]*dataMatrix[j,:].T\n",
    "                b2=b-Ej-labelMatrix[i]*(alpha[i]-alphaiold)*dataMatrix[i,:]*dataMatrix[j,:].T-labelMatrix[j]*(alpha[j]-alphajold)*dataMatrix[j,:]*dataMatrix[j,:].T\n",
    "                if alpha[i]>0 and alpha[i]<C: b=b1\n",
    "                elif alpha[j]>0 and alpha[j]<C: b=b2\n",
    "                else: b = (b1 +b2) / 2.0\n",
    "                isChange+=1\n",
    "#                 print 'iter: %d ,pair changed %d'%(iternum,isChange)\n",
    "        if isChange!=0: \n",
    "            iternum+=1\n",
    "#             print u'已经过第%d次循环'%(iternum-1)\n",
    "        else:\n",
    "            iternum=0\n",
    "#             print u'参数没有改变'\n",
    "    w=(multiply(alpha,labelMatrix)).T*dataMatrix\n",
    "    return alpha,b,w"
   ]
  },
  {
   "cell_type": "code",
   "execution_count": 101,
   "metadata": {},
   "outputs": [
    {
     "data": {
      "image/png": "[encoded data removed]",
      "text/plain": [
       "<matplotlib.figure.Figure at 0x9916550>"
      ]
     },
     "metadata": {},
     "output_type": "display_data"
    },
    {
     "name": "stdout",
     "output_type": "stream",
     "text": [
      "0:00:13.155000\n"
     ]
    }
   ],
   "source": [
    "begin = datetime.datetime.now()\n",
    "alpha,b,w=adSMO(dataMat,labelMat,0.6,0.001,2000)\n",
    "x1=[];y1=[]\n",
    "x2=[];y2=[]\n",
    "x3=[];y3=[]\n",
    "for i in range(len(labelMat)):\n",
    "    if labelMat[i]==-1:\n",
    "        x1.append(dataMat[i][0])\n",
    "        y1.append(dataMat[i][1])\n",
    "    if labelMat[i]==1:\n",
    "        x2.append(dataMat[i][0])\n",
    "        y2.append(dataMat[i][1])\n",
    "    if alpha[i]>0:\n",
    "        x3.append(dataMat[i][0])\n",
    "        y3.append(dataMat[i][1])\n",
    "fig=plt.figure()\n",
    "ax=fig.add_subplot(111)\n",
    "ax.scatter(x1,y1,s=30,c='red')\n",
    "ax.scatter(x2,y2,s=30,c='green')\n",
    "ax.scatter(x3,y3,s=50,c='purple')\n",
    "x=arange(-1.0,8.0,0.01)\n",
    "y=(-array(w)[0][0]*x-b)/array(w)[0][1]\n",
    "ax.scatter(x,y,c='blue',linewidths=0)\n",
    "plt.show()\n",
    "end = datetime.datetime.now()\n",
    "print end-begin"
   ]
  },
  {
   "cell_type": "code",
   "execution_count": 102,
   "metadata": {
    "collapsed": true
   },
   "outputs": [],
   "source": [
    "class optStruct:\n",
    "    def __init__(self,dataMatIn, classLabels, C, toler, kTup):  # Initialize the structure with the parameters \n",
    "        self.X = dataMatIn\n",
    "        self.labelMat = classLabels\n",
    "        self.C = C\n",
    "        self.tol = toler\n",
    "        self.m = shape(dataMatIn)[0]\n",
    "        self.alphas = mat(zeros((self.m,1)))\n",
    "        self.b = 0\n",
    "        self.eCache = mat(zeros((self.m,2))) #first column is valid flag\n",
    "        self.K = mat(zeros((self.m,self.m)))\n",
    "        for i in range(self.m):\n",
    "            self.K[:,i] = kernelTrans(self.X, self.X[i,:], kTup)\n",
    "        \n",
    "def calcEk(oS, k):\n",
    "    fXk = float(multiply(oS.alphas,oS.labelMat).T*oS.K[:,k] + oS.b)\n",
    "    Ek = fXk - float(oS.labelMat[k])\n",
    "    return Ek\n",
    "        \n",
    "def selectJ(i, oS, Ei):         #this is the second choice -heurstic, and calcs Ej\n",
    "    maxK = -1; maxDeltaE = 0; Ej = 0\n",
    "    oS.eCache[i] = [1,Ei]  #set valid #choose the alpha that gives the maximum delta E\n",
    "    validEcacheList = nonzero(oS.eCache[:,0].A)[0]\n",
    "    if (len(validEcacheList)) > 1:\n",
    "        for k in validEcacheList:   #loop through valid Ecache values and find the one that maximizes delta E\n",
    "            if k == i: continue #don't calc for i, waste of time\n",
    "            Ek = calcEk(oS, k)\n",
    "            deltaE = abs(Ei - Ek)\n",
    "            if (deltaE > maxDeltaE):\n",
    "                maxK = k; maxDeltaE = deltaE; Ej = Ek\n",
    "        return maxK, Ej\n",
    "    else:   #in this case (first time around) we don't have any valid eCache values\n",
    "        j = selectJrand(i, oS.m)\n",
    "        Ej = calcEk(oS, j)\n",
    "    return j, Ej\n",
    "\n",
    "def updateEk(oS, k):#after any alpha has changed update the new value in the cache\n",
    "    Ek = calcEk(oS, k)\n",
    "    oS.eCache[k] = [1,Ek]\n",
    "        \n",
    "def innerL(i, oS):\n",
    "    Ei = calcEk(oS, i)\n",
    "    if ((oS.labelMat[i]*Ei < -oS.tol) and (oS.alphas[i] < oS.C)) or ((oS.labelMat[i]*Ei > oS.tol) and (oS.alphas[i] > 0)):\n",
    "        j,Ej = selectJ(i, oS, Ei) #this has been changed from selectJrand\n",
    "        alphaIold = oS.alphas[i].copy(); alphaJold = oS.alphas[j].copy();\n",
    "        if (oS.labelMat[i] != oS.labelMat[j]):\n",
    "            L = max(0, oS.alphas[j] - oS.alphas[i])\n",
    "            H = min(oS.C, oS.C + oS.alphas[j] - oS.alphas[i])\n",
    "        else:\n",
    "            L = max(0, oS.alphas[j] + oS.alphas[i] - oS.C)\n",
    "            H = min(oS.C, oS.alphas[j] + oS.alphas[i])\n",
    "        if L==H: print \"L==H\"; return 0\n",
    "        eta = 2.0 * oS.K[i,j] - oS.K[i,i] - oS.K[j,j] #changed for kernel\n",
    "        if eta >= 0: print \"eta>=0\"; return 0\n",
    "        oS.alphas[j] -= oS.labelMat[j]*(Ei - Ej)/eta\n",
    "        oS.alphas[j] = clipAlpha(oS.alphas[j],H,L)\n",
    "        updateEk(oS, j) #added this for the Ecache\n",
    "        if (abs(oS.alphas[j] - alphaJold) < 0.00001): print \"j not moving enough\"; return 0\n",
    "        oS.alphas[i] += oS.labelMat[j]*oS.labelMat[i]*(alphaJold - oS.alphas[j])#update i by the same amount as j\n",
    "        updateEk(oS, i) #added this for the Ecache                    #the update is in the oppostie direction\n",
    "        b1 = oS.b - Ei- oS.labelMat[i]*(oS.alphas[i]-alphaIold)*oS.K[i,i] - oS.labelMat[j]*(oS.alphas[j]-alphaJold)*oS.K[i,j]\n",
    "        b2 = oS.b - Ej- oS.labelMat[i]*(oS.alphas[i]-alphaIold)*oS.K[i,j]- oS.labelMat[j]*(oS.alphas[j]-alphaJold)*oS.K[j,j]\n",
    "        if (0 < oS.alphas[i]) and (oS.C > oS.alphas[i]): oS.b = b1\n",
    "        elif (0 < oS.alphas[j]) and (oS.C > oS.alphas[j]): oS.b = b2\n",
    "        else: oS.b = (b1 + b2)/2.0\n",
    "        return 1\n",
    "    else: return 0\n",
    "\n",
    "def smoP(dataMatIn, classLabels, C, toler, maxIter,kTup=('lin', 0)):    #full Platt SMO\n",
    "    oS = optStruct(mat(dataMatIn),mat(classLabels).transpose(),C,toler, kTup)\n",
    "    iter = 0\n",
    "    entireSet = True; alphaPairsChanged = 0\n",
    "    while (iter < maxIter) and ((alphaPairsChanged > 0) or (entireSet)):\n",
    "        alphaPairsChanged = 0\n",
    "        if entireSet:   #go over all\n",
    "            for i in range(oS.m):        \n",
    "                alphaPairsChanged += innerL(i,oS)\n",
    "                print \"fullSet, iter: %d i:%d, pairs changed %d\" % (iter,i,alphaPairsChanged)\n",
    "            iter += 1\n",
    "        else:#go over non-bound (railed) alphas\n",
    "            nonBoundIs = nonzero((oS.alphas.A > 0) * (oS.alphas.A < C))[0]\n",
    "            for i in nonBoundIs:\n",
    "                alphaPairsChanged += innerL(i,oS)\n",
    "                print \"non-bound, iter: %d i:%d, pairs changed %d\" % (iter,i,alphaPairsChanged)\n",
    "            iter += 1\n",
    "        if entireSet: entireSet = False #toggle entire set loop\n",
    "        elif (alphaPairsChanged == 0): entireSet = True  \n",
    "        print \"iteration number: %d\" % iter\n",
    "    w=(multiply(oS.alphas,oS.b)).T*dataMatIn\n",
    "    return oS.b,oS.alphas"
   ]
  },
  {
   "cell_type": "code",
   "execution_count": 103,
   "metadata": {},
   "outputs": [
    {
     "data": {
      "image/png": "[encoded data removed]",
      "text/plain": [
       "<matplotlib.figure.Figure at 0x940eb70>"
      ]
     },
     "metadata": {},
     "output_type": "display_data"
    },
    {
     "name": "stdout",
     "output_type": "stream",
     "text": [
      "0:00:13.140000\n"
     ]
    }
   ],
   "source": [
    "begin = datetime.datetime.now()\n",
    "alpha,b,w=adSMO(dataMat,labelMat,0.6,0.001,2000)\n",
    "x1=[];y1=[]\n",
    "x2=[];y2=[]\n",
    "x3=[];y3=[]\n",
    "for i in range(len(labelMat)):\n",
    "    if labelMat[i]==-1:\n",
    "        x1.append(dataMat[i][0])\n",
    "        y1.append(dataMat[i][1])\n",
    "    if labelMat[i]==1:\n",
    "        x2.append(dataMat[i][0])\n",
    "        y2.append(dataMat[i][1])\n",
    "    if alpha[i]>0:\n",
    "        x3.append(dataMat[i][0])\n",
    "        y3.append(dataMat[i][1])\n",
    "fig=plt.figure()\n",
    "ax=fig.add_subplot(111)\n",
    "ax.scatter(x1,y1,s=30,c='red')\n",
    "ax.scatter(x2,y2,s=30,c='green')\n",
    "ax.scatter(x3,y3,s=50,c='purple')\n",
    "x=arange(-1.0,8.0,0.01)\n",
    "y=(-array(w)[0][0]*x-b)/array(w)[0][1]\n",
    "ax.scatter(x,y,c='blue',linewidths=0)\n",
    "plt.show()\n",
    "end = datetime.datetime.now()\n",
    "print end-begin"
   ]
  },
  {
   "cell_type": "code",
   "execution_count": 106,
   "metadata": {},
   "outputs": [
    {
     "data": {
      "image/png": "[encoded data removed]",
      "text/plain": [
       "<matplotlib.figure.Figure at 0xa332390>"
      ]
     },
     "metadata": {},
     "output_type": "display_data"
    }
   ],
   "source": [
    "dataMat,labelMat=loadDataSet('testSetRBF.txt')\n",
    "import matplotlib.pyplot as plt\n",
    "x1=[];y1=[]\n",
    "x2=[];y2=[]\n",
    "for i in range(len(labelMat)):\n",
    "    if labelMat[i]==-1:\n",
    "        x1.append(dataMat[i][0])\n",
    "        y1.append(dataMat[i][1])\n",
    "    if labelMat[i]==1:\n",
    "        x2.append(dataMat[i][0])\n",
    "        y2.append(dataMat[i][1])\n",
    "fig=plt.figure()\n",
    "ax=fig.add_subplot(111)\n",
    "ax.scatter(x1,y1,s=30,c='red')\n",
    "ax.scatter(x2,y2,s=30,c='green')\n",
    "plt.show()"
   ]
  },
  {
   "cell_type": "code",
   "execution_count": 131,
   "metadata": {
    "collapsed": true
   },
   "outputs": [],
   "source": [
    "def calKernel(X,A,sigma):\n",
    "    m,n=X.shape\n",
    "    k=zeros((m,1))\n",
    "    deltarow=X-tile(A,(X.shape[0],1))\n",
    "    for i in range(m):\n",
    "        k[i]=deltarow[i,:]*deltarow[i,:].T\n",
    "    k=exp(k/(-2*sigma**2))\n",
    "    return k\n",
    "    \n",
    "def adKernel(dataMat,labelList,C,toler,maxIter,sigma):\n",
    "    dataMatrix=mat(dataMat)\n",
    "    labelMatrix=mat(labelList).transpose()\n",
    "    m,n=dataMatrix.shape\n",
    "    alpha=mat(zeros((m,1)));b=0\n",
    "    iternum=0\n",
    "    while (iternum<maxIter):\n",
    "        isChange=0\n",
    "        for i in range(m):\n",
    "            fxi=(multiply(alpha,labelMatrix)).T*calKernel(dataMatrix,dataMatrix[i,:],sigma)+b\n",
    "            Ei=fxi-float(labelMatrix[i])\n",
    "            j=0\n",
    "            #不满足KKT条件的情况\n",
    "            if(labelMatrix[i]*Ei<toler and alpha[i]<C) or (labelMatrix[i]*Ei>toler and alpha[i]>0):\n",
    "                validList=nonzero(alpha)[0]\n",
    "                if len(validList)>0:\n",
    "                    maxdelta=0\n",
    "                    for k in validList:\n",
    "                        if k==i:\n",
    "                            continue\n",
    "                        Ek=(multiply(alpha,labelMatrix)).T*calKernel(dataMatrix,dataMatrix[j,:],sigma)+b-float(labelMatrix[k])\n",
    "                        delta=abs(Ek-Ei)\n",
    "                        if delta>maxdelta:\n",
    "                            j=k;maxdelta=delta\n",
    "                else:\n",
    "                    j=selectJrand(i,m)\n",
    "                fxj=(multiply(alpha,labelMatrix)).T*calKernel(dataMatrix,dataMatrix[j,:],sigma)+b\n",
    "                Ej=fxj-float(labelMatrix[j])\n",
    "                alphaiold=alpha[i].copy();alphajold=alpha[j].copy()\n",
    "                if(labelMatrix[i]==labelMatrix[j]):\n",
    "                    L=max(0,alphaiold+alphajold-C);H=min(C,alphaiold+alphajold)\n",
    "                if(labelMatrix[i]!=labelMatrix[j]):\n",
    "                    L=max(0,alphajold-alphaiold);H=min(C,C+alphajold-alphaiold)\n",
    "                if L==H:\n",
    "                    continue\n",
    "                eta=2.0*calKernel(dataMatrix[i,:],dataMatrix[j,:],sigma)-calKernel(dataMatrix[i,:],dataMatrix[i,:],sigma)-calKernel(dataMatrix[j,:],dataMatrix[j,:],sigma)\n",
    "                alpha[j]=alphajold-labelMatrix[j]*(Ei-Ej)/eta\n",
    "                alpha[j]=clipAlpha(alpha[j],H,L)\n",
    "                alpha[i]=alphaiold+labelMatrix[i]*labelMatrix[j]*(alphajold-alpha[j])\n",
    "                b1=b-Ei-labelMatrix[i]*(alpha[i]-alphaiold)*calKernel(dataMatrix[i,:],dataMatrix[i,:],sigma)-labelMatrix[j]*(alpha[j]-alphajold)*calKernel(dataMatrix[i,:],dataMatrix[j,:],sigma)\n",
    "                b2=b-Ej-labelMatrix[i]*(alpha[i]-alphaiold)*calKernel(dataMatrix[i,:],dataMatrix[j,:],sigma)-labelMatrix[j]*(alpha[j]-alphajold)*calKernel(dataMatrix[j,:],dataMatrix[j,:],sigma)\n",
    "                if alpha[i]>0 and alpha[i]<C: b=b1\n",
    "                elif alpha[j]>0 and alpha[j]<C: b=b2\n",
    "                else: b = (b1 +b2) / 2.0\n",
    "                isChange+=1\n",
    "#                 print 'iter: %d ,pair changed %d'%(iternum,isChange)\n",
    "        if isChange!=0: \n",
    "            iternum+=1\n",
    "#             print u'已经过第%d次循环'%(iternum-1)\n",
    "        else:\n",
    "            iternum=0\n",
    "#             print u'参数没有改变'\n",
    "    return alpha,b"
   ]
  },
  {
   "cell_type": "code",
   "execution_count": 129,
   "metadata": {},
   "outputs": [
    {
     "data": {
      "image/png": "[encoded data removed]",
      "text/plain": [
       "<matplotlib.figure.Figure at 0x91832b0>"
      ]
     },
     "metadata": {},
     "output_type": "display_data"
    }
   ],
   "source": [
    "alpha,b=adKernel(dataMat,labelMat,200,0.001,40,1.3)\n",
    "x1=[];y1=[]\n",
    "x2=[];y2=[]\n",
    "x3=[];y3=[]\n",
    "for i in range(len(labelMat)):\n",
    "    if labelMat[i]==-1:\n",
    "        x1.append(dataMat[i][0])\n",
    "        y1.append(dataMat[i][1])\n",
    "    if labelMat[i]==1:\n",
    "        x2.append(dataMat[i][0])\n",
    "        y2.append(dataMat[i][1])\n",
    "    if alpha[i]>0:\n",
    "        x3.append(dataMat[i][0])\n",
    "        y3.append(dataMat[i][1])\n",
    "fig=plt.figure()\n",
    "ax=fig.add_subplot(111)\n",
    "ax.scatter(x1,y1,s=30,c='red')\n",
    "ax.scatter(x2,y2,s=30,c='green')\n",
    "ax.scatter(x3,y3,s=50,c='purple')\n",
    "plt.show()"
   ]
  },
  {
   "cell_type": "code",
   "execution_count": 130,
   "metadata": {},
   "outputs": [
    {
     "ename": "NameError",
     "evalue": "name 'labelMatrix' is not defined",
     "traceback": [
      "\u001b[1;31m---------------------------------------------------------------------------\u001b[0m",
      "\u001b[1;31mNameError\u001b[0m                                 Traceback (most recent call last)",
      "\u001b[1;32m<ipython-input-130-a1c32df27bde>\u001b[0m in \u001b[0;36m<module>\u001b[1;34m()\u001b[0m\n\u001b[0;32m      1\u001b[0m \u001b[1;31m#采用参数进行预测\u001b[0m\u001b[1;33m\u001b[0m\u001b[1;33m\u001b[0m\u001b[0m\n\u001b[1;32m----> 2\u001b[1;33m \u001b[0mfxi\u001b[0m\u001b[1;33m=\u001b[0m\u001b[1;33m(\u001b[0m\u001b[0mmultiply\u001b[0m\u001b[1;33m(\u001b[0m\u001b[0malpha\u001b[0m\u001b[1;33m,\u001b[0m\u001b[0mlabelMatrix\u001b[0m\u001b[1;33m)\u001b[0m\u001b[1;33m)\u001b[0m\u001b[1;33m.\u001b[0m\u001b[0mT\u001b[0m\u001b[1;33m*\u001b[0m\u001b[0mcalKernel\u001b[0m\u001b[1;33m(\u001b[0m\u001b[0mdataMatrix\u001b[0m\u001b[1;33m,\u001b[0m\u001b[0mdataMatrix\u001b[0m\u001b[1;33m[\u001b[0m\u001b[0mi\u001b[0m\u001b[1;33m,\u001b[0m\u001b[1;33m:\u001b[0m\u001b[1;33m]\u001b[0m\u001b[1;33m,\u001b[0m\u001b[0msigma\u001b[0m\u001b[1;33m)\u001b[0m\u001b[1;33m+\u001b[0m\u001b[0mb\u001b[0m\u001b[1;33m\u001b[0m\u001b[0m\n\u001b[0m",
      "\u001b[1;31mNameError\u001b[0m: name 'labelMatrix' is not defined"
     ],
     "output_type": "error"
    }
   ],
   "source": [
    "#采用参数进行预测\n",
    "fxi=(multiply(alpha,labelMatrix)).T*calKernel(dataMatrix,dataMatrix[i,:],sigma)+b"
   ]
  },
  {
   "cell_type": "code",
   "execution_count": 136,
   "metadata": {
    "collapsed": true
   },
   "outputs": [],
   "source": [
    "def img2vector(filename):\n",
    "    returnVect = zeros((1,1024))\n",
    "    fr = open(filename)\n",
    "    for i in range(32):\n",
    "        lineStr = fr.readline()\n",
    "        for j in range(32):\n",
    "            returnVect[0,32*i+j] = int(lineStr[j])\n",
    "    return returnVect\n",
    "\n",
    "def loadImages(dirName):\n",
    "    from os import listdir\n",
    "    hwLabels = []\n",
    "    trainingFileList = listdir(dirName)           #load the training set\n",
    "    m = len(trainingFileList)\n",
    "    trainingMat = zeros((m,1024))\n",
    "    for i in range(m):\n",
    "        fileNameStr = trainingFileList[i]\n",
    "        fileStr = fileNameStr.split('.')[0]     #take off .txt\n",
    "        classNumStr = int(fileStr.split('_')[0])\n",
    "        if classNumStr == 9: hwLabels.append(-1)\n",
    "        else: hwLabels.append(1)\n",
    "        trainingMat[i,:] = img2vector('%s/%s' % (dirName, fileNameStr))\n",
    "    return trainingMat, hwLabels    \n",
    "\n",
    "def testDigits(sigma=10):\n",
    "    dataArr,labelArr = loadImages('trainingDigits')\n",
    "    b,alphas = adKernel(dataArr, labelArr, 200, 0.0001, 10000, sigma)\n",
    "    datMat=mat(dataArr); labelMat = mat(labelArr).transpose()\n",
    "    svInd=nonzero(alphas.A>0)[0]\n",
    "    sVs=datMat[svInd] \n",
    "    labelSV = labelMat[svInd];\n",
    "    print \"there are %d Support Vectors\" % shape(sVs)[0]\n",
    "    m,n = shape(datMat)\n",
    "    errorCount = 0\n",
    "    for i in range(m):\n",
    "        kernelEval = calKernel(sVs,datMat[i,:],sigma)\n",
    "        predict=kernelEval.T * multiply(labelSV,alphas[svInd]) + b\n",
    "        if sign(predict)!=sign(labelArr[i]): errorCount += 1\n",
    "    print \"the training error rate is: %f\" % (float(errorCount)/m)\n",
    "    dataArr,labelArr = loadImages('testDigits')\n",
    "    errorCount = 0\n",
    "    datMat=mat(dataArr); labelMat = mat(labelArr).transpose()\n",
    "    m,n = shape(datMat)\n",
    "    for i in range(m):\n",
    "        kernelEval = calKernel(sVs,datMat[i,:],sigma)\n",
    "        predict=kernelEval.T * multiply(labelSV,alphas[svInd]) + b\n",
    "        if sign(predict)!=sign(labelArr[i]): errorCount += 1    \n",
    "    print \"the test error rate is: %f\" % (float(errorCount)/m) "
   ]
  },
  {
   "cell_type": "code",
   "execution_count": 137,
   "metadata": {},
   "outputs": [
    {
     "ename": "KeyboardInterrupt",
     "evalue": "",
     "traceback": [
      "\u001b[1;31m---------------------------------------------------------------------------\u001b[0m",
      "\u001b[1;31mKeyboardInterrupt\u001b[0m                         Traceback (most recent call last)",
      "\u001b[1;32m<ipython-input-137-2eda5864e8ae>\u001b[0m in \u001b[0;36m<module>\u001b[1;34m()\u001b[0m\n\u001b[1;32m----> 1\u001b[1;33m \u001b[0mtestDigits\u001b[0m\u001b[1;33m(\u001b[0m\u001b[1;33m)\u001b[0m\u001b[1;33m\u001b[0m\u001b[0m\n\u001b[0m",
      "\u001b[1;32m<ipython-input-136-8397a3c0dea4>\u001b[0m in \u001b[0;36mtestDigits\u001b[1;34m(sigma)\u001b[0m\n\u001b[0;32m     25\u001b[0m \u001b[1;32mdef\u001b[0m \u001b[0mtestDigits\u001b[0m\u001b[1;33m(\u001b[0m\u001b[0msigma\u001b[0m\u001b[1;33m=\u001b[0m\u001b[1;36m10\u001b[0m\u001b[1;33m)\u001b[0m\u001b[1;33m:\u001b[0m\u001b[1;33m\u001b[0m\u001b[0m\n\u001b[0;32m     26\u001b[0m     \u001b[0mdataArr\u001b[0m\u001b[1;33m,\u001b[0m\u001b[0mlabelArr\u001b[0m \u001b[1;33m=\u001b[0m \u001b[0mloadImages\u001b[0m\u001b[1;33m(\u001b[0m\u001b[1;34m'trainingDigits'\u001b[0m\u001b[1;33m)\u001b[0m\u001b[1;33m\u001b[0m\u001b[0m\n\u001b[1;32m---> 27\u001b[1;33m     \u001b[0mb\u001b[0m\u001b[1;33m,\u001b[0m\u001b[0malphas\u001b[0m \u001b[1;33m=\u001b[0m \u001b[0madKernel\u001b[0m\u001b[1;33m(\u001b[0m\u001b[0mdataArr\u001b[0m\u001b[1;33m,\u001b[0m \u001b[0mlabelArr\u001b[0m\u001b[1;33m,\u001b[0m \u001b[1;36m200\u001b[0m\u001b[1;33m,\u001b[0m \u001b[1;36m0.0001\u001b[0m\u001b[1;33m,\u001b[0m \u001b[1;36m10000\u001b[0m\u001b[1;33m,\u001b[0m \u001b[0msigma\u001b[0m\u001b[1;33m)\u001b[0m\u001b[1;33m\u001b[0m\u001b[0m\n\u001b[0m\u001b[0;32m     28\u001b[0m     \u001b[0mdatMat\u001b[0m\u001b[1;33m=\u001b[0m\u001b[0mmat\u001b[0m\u001b[1;33m(\u001b[0m\u001b[0mdataArr\u001b[0m\u001b[1;33m)\u001b[0m\u001b[1;33m;\u001b[0m \u001b[0mlabelMat\u001b[0m \u001b[1;33m=\u001b[0m \u001b[0mmat\u001b[0m\u001b[1;33m(\u001b[0m\u001b[0mlabelArr\u001b[0m\u001b[1;33m)\u001b[0m\u001b[1;33m.\u001b[0m\u001b[0mtranspose\u001b[0m\u001b[1;33m(\u001b[0m\u001b[1;33m)\u001b[0m\u001b[1;33m\u001b[0m\u001b[0m\n\u001b[0;32m     29\u001b[0m     \u001b[0msvInd\u001b[0m\u001b[1;33m=\u001b[0m\u001b[0mnonzero\u001b[0m\u001b[1;33m(\u001b[0m\u001b[0malphas\u001b[0m\u001b[1;33m.\u001b[0m\u001b[0mA\u001b[0m\u001b[1;33m>\u001b[0m\u001b[1;36m0\u001b[0m\u001b[1;33m)\u001b[0m\u001b[1;33m[\u001b[0m\u001b[1;36m0\u001b[0m\u001b[1;33m]\u001b[0m\u001b[1;33m\u001b[0m\u001b[0m\n",
      "\u001b[1;32m<ipython-input-131-630f1b6fe433>\u001b[0m in \u001b[0;36madKernel\u001b[1;34m(dataMat, labelList, C, toler, maxIter, sigma)\u001b[0m\n\u001b[0;32m     28\u001b[0m                         \u001b[1;32mif\u001b[0m \u001b[0mk\u001b[0m\u001b[1;33m==\u001b[0m\u001b[0mi\u001b[0m\u001b[1;33m:\u001b[0m\u001b[1;33m\u001b[0m\u001b[0m\n\u001b[0;32m     29\u001b[0m                             \u001b[1;32mcontinue\u001b[0m\u001b[1;33m\u001b[0m\u001b[0m\n\u001b[1;32m---> 30\u001b[1;33m                         \u001b[0mEk\u001b[0m\u001b[1;33m=\u001b[0m\u001b[1;33m(\u001b[0m\u001b[0mmultiply\u001b[0m\u001b[1;33m(\u001b[0m\u001b[0malpha\u001b[0m\u001b[1;33m,\u001b[0m\u001b[0mlabelMatrix\u001b[0m\u001b[1;33m)\u001b[0m\u001b[1;33m)\u001b[0m\u001b[1;33m.\u001b[0m\u001b[0mT\u001b[0m\u001b[1;33m*\u001b[0m\u001b[0mcalKernel\u001b[0m\u001b[1;33m(\u001b[0m\u001b[0mdataMatrix\u001b[0m\u001b[1;33m,\u001b[0m\u001b[0mdataMatrix\u001b[0m\u001b[1;33m[\u001b[0m\u001b[0mj\u001b[0m\u001b[1;33m,\u001b[0m\u001b[1;33m:\u001b[0m\u001b[1;33m]\u001b[0m\u001b[1;33m,\u001b[0m\u001b[0msigma\u001b[0m\u001b[1;33m)\u001b[0m\u001b[1;33m+\u001b[0m\u001b[0mb\u001b[0m\u001b[1;33m-\u001b[0m\u001b[0mfloat\u001b[0m\u001b[1;33m(\u001b[0m\u001b[0mlabelMatrix\u001b[0m\u001b[1;33m[\u001b[0m\u001b[0mk\u001b[0m\u001b[1;33m]\u001b[0m\u001b[1;33m)\u001b[0m\u001b[1;33m\u001b[0m\u001b[0m\n\u001b[0m\u001b[0;32m     31\u001b[0m                         \u001b[0mdelta\u001b[0m\u001b[1;33m=\u001b[0m\u001b[0mabs\u001b[0m\u001b[1;33m(\u001b[0m\u001b[0mEk\u001b[0m\u001b[1;33m-\u001b[0m\u001b[0mEi\u001b[0m\u001b[1;33m)\u001b[0m\u001b[1;33m\u001b[0m\u001b[0m\n\u001b[0;32m     32\u001b[0m                         \u001b[1;32mif\u001b[0m \u001b[0mdelta\u001b[0m\u001b[1;33m>\u001b[0m\u001b[0mmaxdelta\u001b[0m\u001b[1;33m:\u001b[0m\u001b[1;33m\u001b[0m\u001b[0m\n",
      "\u001b[1;32m<ipython-input-131-630f1b6fe433>\u001b[0m in \u001b[0;36mcalKernel\u001b[1;34m(X, A, sigma)\u001b[0m\n\u001b[0;32m      4\u001b[0m     \u001b[0mdeltarow\u001b[0m\u001b[1;33m=\u001b[0m\u001b[0mX\u001b[0m\u001b[1;33m-\u001b[0m\u001b[0mtile\u001b[0m\u001b[1;33m(\u001b[0m\u001b[0mA\u001b[0m\u001b[1;33m,\u001b[0m\u001b[1;33m(\u001b[0m\u001b[0mX\u001b[0m\u001b[1;33m.\u001b[0m\u001b[0mshape\u001b[0m\u001b[1;33m[\u001b[0m\u001b[1;36m0\u001b[0m\u001b[1;33m]\u001b[0m\u001b[1;33m,\u001b[0m\u001b[1;36m1\u001b[0m\u001b[1;33m)\u001b[0m\u001b[1;33m)\u001b[0m\u001b[1;33m\u001b[0m\u001b[0m\n\u001b[0;32m      5\u001b[0m     \u001b[1;32mfor\u001b[0m \u001b[0mi\u001b[0m \u001b[1;32min\u001b[0m \u001b[0mrange\u001b[0m\u001b[1;33m(\u001b[0m\u001b[0mm\u001b[0m\u001b[1;33m)\u001b[0m\u001b[1;33m:\u001b[0m\u001b[1;33m\u001b[0m\u001b[0m\n\u001b[1;32m----> 6\u001b[1;33m         \u001b[0mk\u001b[0m\u001b[1;33m[\u001b[0m\u001b[0mi\u001b[0m\u001b[1;33m]\u001b[0m\u001b[1;33m=\u001b[0m\u001b[0mdeltarow\u001b[0m\u001b[1;33m[\u001b[0m\u001b[0mi\u001b[0m\u001b[1;33m,\u001b[0m\u001b[1;33m:\u001b[0m\u001b[1;33m]\u001b[0m\u001b[1;33m*\u001b[0m\u001b[0mdeltarow\u001b[0m\u001b[1;33m[\u001b[0m\u001b[0mi\u001b[0m\u001b[1;33m,\u001b[0m\u001b[1;33m:\u001b[0m\u001b[1;33m]\u001b[0m\u001b[1;33m.\u001b[0m\u001b[0mT\u001b[0m\u001b[1;33m\u001b[0m\u001b[0m\n\u001b[0m\u001b[0;32m      7\u001b[0m     \u001b[0mk\u001b[0m\u001b[1;33m=\u001b[0m\u001b[0mexp\u001b[0m\u001b[1;33m(\u001b[0m\u001b[0mk\u001b[0m\u001b[1;33m/\u001b[0m\u001b[1;33m(\u001b[0m\u001b[1;33m-\u001b[0m\u001b[1;36m2\u001b[0m\u001b[1;33m*\u001b[0m\u001b[0msigma\u001b[0m\u001b[1;33m**\u001b[0m\u001b[1;36m2\u001b[0m\u001b[1;33m)\u001b[0m\u001b[1;33m)\u001b[0m\u001b[1;33m\u001b[0m\u001b[0m\n\u001b[0;32m      8\u001b[0m     \u001b[1;32mreturn\u001b[0m \u001b[0mk\u001b[0m\u001b[1;33m\u001b[0m\u001b[0m\n",
      "\u001b[1;32mD:\\Anaconda\\lib\\site-packages\\numpy\\matrixlib\\defmatrix.pyc\u001b[0m in \u001b[0;36m__mul__\u001b[1;34m(self, other)\u001b[0m\n\u001b[0;32m    307\u001b[0m         \u001b[1;32mif\u001b[0m \u001b[0misinstance\u001b[0m\u001b[1;33m(\u001b[0m\u001b[0mother\u001b[0m\u001b[1;33m,\u001b[0m \u001b[1;33m(\u001b[0m\u001b[0mN\u001b[0m\u001b[1;33m.\u001b[0m\u001b[0mndarray\u001b[0m\u001b[1;33m,\u001b[0m \u001b[0mlist\u001b[0m\u001b[1;33m,\u001b[0m \u001b[0mtuple\u001b[0m\u001b[1;33m)\u001b[0m\u001b[1;33m)\u001b[0m \u001b[1;33m:\u001b[0m\u001b[1;33m\u001b[0m\u001b[0m\n\u001b[0;32m    308\u001b[0m             \u001b[1;31m# This promotes 1-D vectors to row vectors\u001b[0m\u001b[1;33m\u001b[0m\u001b[1;33m\u001b[0m\u001b[0m\n\u001b[1;32m--> 309\u001b[1;33m             \u001b[1;32mreturn\u001b[0m \u001b[0mN\u001b[0m\u001b[1;33m.\u001b[0m\u001b[0mdot\u001b[0m\u001b[1;33m(\u001b[0m\u001b[0mself\u001b[0m\u001b[1;33m,\u001b[0m \u001b[0masmatrix\u001b[0m\u001b[1;33m(\u001b[0m\u001b[0mother\u001b[0m\u001b[1;33m)\u001b[0m\u001b[1;33m)\u001b[0m\u001b[1;33m\u001b[0m\u001b[0m\n\u001b[0m\u001b[0;32m    310\u001b[0m         \u001b[1;32mif\u001b[0m \u001b[0misscalar\u001b[0m\u001b[1;33m(\u001b[0m\u001b[0mother\u001b[0m\u001b[1;33m)\u001b[0m \u001b[1;32mor\u001b[0m \u001b[1;32mnot\u001b[0m \u001b[0mhasattr\u001b[0m\u001b[1;33m(\u001b[0m\u001b[0mother\u001b[0m\u001b[1;33m,\u001b[0m \u001b[1;34m'__rmul__'\u001b[0m\u001b[1;33m)\u001b[0m \u001b[1;33m:\u001b[0m\u001b[1;33m\u001b[0m\u001b[0m\n\u001b[0;32m    311\u001b[0m             \u001b[1;32mreturn\u001b[0m \u001b[0mN\u001b[0m\u001b[1;33m.\u001b[0m\u001b[0mdot\u001b[0m\u001b[1;33m(\u001b[0m\u001b[0mself\u001b[0m\u001b[1;33m,\u001b[0m \u001b[0mother\u001b[0m\u001b[1;33m)\u001b[0m\u001b[1;33m\u001b[0m\u001b[0m\n",
      "\u001b[1;31mKeyboardInterrupt\u001b[0m: "
     ],
     "output_type": "error"
    }
   ],
   "source": [
    "testDigits()"
   ]
  },
  {
   "cell_type": "code",
   "execution_count": null,
   "metadata": {
    "collapsed": true
   },
   "outputs": [],
   "source": []
  }
 ],
 "metadata": {
  "kernelspec": {
   "display_name": "Python 2",
   "language": "python",
   "name": "python2"
  },
  "language_info": {
   "codemirror_mode": {
    "name": "ipython",
    "version": 2
   },
   "file_extension": ".py",
   "mimetype": "text/x-python",
   "name": "python",
   "nbconvert_exporter": "python",
   "pygments_lexer": "ipython2",
   "version": "2.7.13"
  },
  "toc": {
   "nav_menu": {},
   "number_sections": true,
   "sideBar": true,
   "skip_h1_title": false,
   "toc_cell": false,
   "toc_position": {},
   "toc_section_display": "block",
   "toc_window_display": false
  }
 },
 "nbformat": 4,
 "nbformat_minor": 2
}
