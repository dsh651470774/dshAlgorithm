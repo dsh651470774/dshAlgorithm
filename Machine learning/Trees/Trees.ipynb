{
 "cells": [
  {
   "cell_type": "code",
   "execution_count": 170,
   "metadata": {
    "collapsed": true
   },
   "outputs": [],
   "source": [
    "import math\n",
    "\n",
    "#计算香农熵\n",
    "def calcShannonEnt(dataset):\n",
    "    num=len(dataset)\n",
    "    labelcounts={}\n",
    "    for item in dataset:\n",
    "        label=item[-1]\n",
    "        labelcounts[label]=labelcounts.get(label,0)+1\n",
    "    ShannonEnt=0.0\n",
    "    for value in labelcounts.values():\n",
    "        prob=float(value)/num\n",
    "        ShannonEnt-=prob*math.log(prob,2)\n",
    "    return ShannonEnt"
   ]
  },
  {
   "cell_type": "code",
   "execution_count": 171,
   "metadata": {
    "collapsed": true
   },
   "outputs": [],
   "source": [
    "#根据特征和值划分数据\n",
    "def splitData(dataset,feat,value):\n",
    "    splitresult=[]\n",
    "    for sample in dataset:\n",
    "        if sample[feat]==value:\n",
    "            temp=sample[:feat]\n",
    "            temp.extend(sample[feat+1:])\n",
    "            splitresult.append(temp)\n",
    "    return splitresult"
   ]
  },
  {
   "cell_type": "code",
   "execution_count": 172,
   "metadata": {
    "collapsed": true
   },
   "outputs": [],
   "source": [
    "mydata = [[1, 1, 'yes'],\n",
    "               [1, 1, 'yes'],\n",
    "               [1, 0, 'no'],\n",
    "               [0, 1, 'no'],\n",
    "               [0, 1, 'no']]\n",
    "labels = ['no surfacing','flippers']"
   ]
  },
  {
   "cell_type": "code",
   "execution_count": 173,
   "metadata": {},
   "outputs": [
    {
     "data": {
      "text/plain": [
       "[[1, 'yes'], [1, 'yes'], [0, 'no'], [0, 'no']]"
      ]
     },
     "execution_count": 173,
     "metadata": {},
     "output_type": "execute_result"
    }
   ],
   "source": [
    "splitData(mydata,1,1)"
   ]
  },
  {
   "cell_type": "code",
   "execution_count": 214,
   "metadata": {
    "collapsed": true
   },
   "outputs": [],
   "source": [
    "#选取最大信息增益的特征值\n",
    "def choosebestfeat(dataset):\n",
    "    featnum=len(dataset[0])-1\n",
    "    oldEnv=calcShannonEnt(dataset)\n",
    "    maxincreaseInfo=0\n",
    "    bestfeat=-1\n",
    "    for i in range(featnum):\n",
    "        uniqvalue=set([example[i] for example in dataset])\n",
    "        newEnt=0.0\n",
    "        for value in uniqvalue:\n",
    "            subdataset=splitData(dataset,i,value)\n",
    "            percent=float(len(subdataset))/len(dataset)\n",
    "            newEnt+=percent*calcShannonEnt(subdataset)\n",
    "            increaseInfo=oldEnv-newEnt\n",
    "        if increaseInfo>maxincreaseInfo:\n",
    "            bestfeat=i\n",
    "            maxincreaseInfo=increaseInfo\n",
    "    return bestfeat"
   ]
  },
  {
   "cell_type": "code",
   "execution_count": 215,
   "metadata": {},
   "outputs": [
    {
     "data": {
      "text/plain": [
       "0"
      ]
     },
     "execution_count": 215,
     "metadata": {},
     "output_type": "execute_result"
    }
   ],
   "source": [
    "choosebestfeat(mydata)"
   ]
  },
  {
   "cell_type": "code",
   "execution_count": 216,
   "metadata": {},
   "outputs": [
    {
     "name": "stdout",
     "output_type": "stream",
     "text": [
      "[[1, 'yes'], [1, 'yes'], [0, 'no']]\n",
      "[[1, 'no'], [1, 'no']]\n"
     ]
    }
   ],
   "source": [
    "print splitData(mydata,0,1)\n",
    "print splitData(mydata,0,0)"
   ]
  },
  {
   "cell_type": "code",
   "execution_count": 217,
   "metadata": {
    "collapsed": true
   },
   "outputs": [],
   "source": [
    "#最大表决原则\n",
    "def majoecount(classlist):\n",
    "    labelcounts={}\n",
    "    for item in classlist:\n",
    "        labelcounts[item[-1]]=labelcounts.get(ite[-1],0)+1\n",
    "    labelorder=sorted(labelcounts.iteritems(),key=lambda d:d[1],reverse=True)\n",
    "    return labelorder[0][0]"
   ]
  },
  {
   "cell_type": "code",
   "execution_count": 218,
   "metadata": {
    "collapsed": true
   },
   "outputs": [],
   "source": [
    "#创建决策树\n",
    "def createTree(dataset,labels):\n",
    "    classList=[example[-1] for example in dataset]\n",
    "    if len(set(classList))==1:\n",
    "        return classList[0]\n",
    "    if len(dataset[0])==1:\n",
    "        return majoecount(classList)\n",
    "    bestfeat=choosebestfeat(dataset)\n",
    "    bestlabel=labels[bestfeat]\n",
    "    mytree={}\n",
    "    mytree[bestlabel]={}\n",
    "    newlabels=labels[:bestfeat]\n",
    "    newlabels.extend(labels[bestfeat+1:]) \n",
    "    uniqvalue=set([example2[bestfeat] for example2 in dataset])\n",
    "    for value in uniqvalue:\n",
    "        mytree[bestlabel][value]=createTree(splitData(dataset,bestfeat,value),newlabels)\n",
    "    return mytree"
   ]
  },
  {
   "cell_type": "code",
   "execution_count": 219,
   "metadata": {
    "collapsed": true
   },
   "outputs": [],
   "source": [
    "mytree=createTree(mydata,labels)"
   ]
  },
  {
   "cell_type": "code",
   "execution_count": 220,
   "metadata": {
    "collapsed": true
   },
   "outputs": [],
   "source": [
    "#plot函数的初识\n",
    "import matplotlib.pyplot as plt\n",
    "#boxstyle存储边框类型,fc存储透明度\n",
    "decisionNode=dict(boxstyle='sawtooth',fc='0.8')\n",
    "leafNode=dict(boxstyle='round4',fc='0.8')\n",
    "arrow_args=dict(arrowstyle='<-')\n",
    "def plotNode(nodeTxt,centerPt,parentPt,nodeType):\n",
    "    createPlot.ax1.annotate(nodeTxt,xy=parentPt,xycoords='axes fraction',xytext=centerPt,textcoords='axes fraction',\n",
    "                           va='center',ha='center',bbox=nodeType,arrowprops=arrow_args)\n",
    "def createPlot():\n",
    "    fig=plt.figure(1,facecolor='white')\n",
    "    fig.clf()\n",
    "    createPlot.ax1=plt.subplot(111,frameon=False)\n",
    "    plotNode('a decision node',(0.5,0.1),(0.1,0.5),decisionNode)\n",
    "    plotNode('a leaf node',(0.8,0.1),(0.3,0.8),leafNode)\n",
    "    plt.show()"
   ]
  },
  {
   "cell_type": "code",
   "execution_count": 221,
   "metadata": {},
   "outputs": [
    {
     "data": {
      "image/png": "[encoded data removed]",
      "text/plain": [
       "<matplotlib.figure.Figure at 0x9585c88>"
      ]
     },
     "metadata": {},
     "output_type": "display_data"
    }
   ],
   "source": [
    "createPlot()"
   ]
  },
  {
   "cell_type": "code",
   "execution_count": 222,
   "metadata": {
    "collapsed": true
   },
   "outputs": [],
   "source": [
    "#获取叶节点数目和树的层数\n",
    "def getLeafsNum(mytree):\n",
    "    leafNum=0\n",
    "    surfacekey=mytree.keys()[0]\n",
    "    value=mytree[surfacekey]\n",
    "    for item in value.keys():\n",
    "        if type(value[item]).__name__!='dict':\n",
    "            leafNum+=1\n",
    "        else:\n",
    "            leafNum+=getLeafsNum(value[item])\n",
    "    return leafNum\n",
    "\n",
    "def getDepth(mytree):\n",
    "    depth=1\n",
    "    maxdepth=1\n",
    "    surfacekey=mytree.keys()[0]\n",
    "    value=mytree[surfacekey]\n",
    "    for item in value.keys():\n",
    "        if type(value[item]).__name__=='dict':\n",
    "            depth+=getDepth(value[item])\n",
    "        else:\n",
    "            continue\n",
    "        if depth>maxdepth:\n",
    "            maxdepth=depth\n",
    "    return maxdepth"
   ]
  },
  {
   "cell_type": "code",
   "execution_count": 223,
   "metadata": {},
   "outputs": [
    {
     "name": "stdout",
     "output_type": "stream",
     "text": [
      "{'age': {0: 'no', 1: {'prescript': {0: 'no', 1: 'yes'}}}}\n",
      "3\n",
      "2\n"
     ]
    }
   ],
   "source": [
    "print mytree\n",
    "print getLeafsNum(mytree)\n",
    "print getDepth(mytree)"
   ]
  },
  {
   "cell_type": "code",
   "execution_count": 224,
   "metadata": {
    "collapsed": true
   },
   "outputs": [],
   "source": [
    "###绘制树形图\n",
    "\n",
    "#绘制父子节点中间的特征值\n",
    "def plotMidText(cntrPt,parentPt,txt):\n",
    "    xMid=(cntrPt[0]+parentPt[0])/2.0\n",
    "    yMid=(cntrPt[1]+parentPt[1])/2.0\n",
    "    createPlot.ax1.text(xMid,yMid,txt)\n",
    "\n",
    "def plotTree(mytree,parentPt,nodeText):\n",
    "    leafsNum=getLeafsNum(mytree)\n",
    "    treedepth=getDepth(mytree)\n",
    "    surfacekey=mytree.keys()[0]\n",
    "    cntrPt=(plotTree.xoff+(1.0+float(leafsNum))/2.0/plotTree.totalW,plotTree.yoff)\n",
    "    plotMidText(cntrPt,parentPt,nodeText)\n",
    "    plotNode(surfacekey,cntrPt,parentPt,decisionNode)\n",
    "    secondDic=mytree[surfacekey]\n",
    "    plotTree.yoff= plotTree.yoff-1.0/plotTree.totalD\n",
    "    for key in secondDic.keys():\n",
    "        if type(secondDic[key]).__name__=='dict':\n",
    "            plotTree(secondDic[key],cntrPt,str(key))\n",
    "        else:\n",
    "            plotTree.xoff=plotTree.xoff+1.0/plotTree.totalW\n",
    "            plotNode(secondDic[key],(plotTree.xoff,plotTree.yoff),cntrPt,leafNode)\n",
    "            plotMidText((plotTree.xoff,plotTree.yoff),cntrPt,str(key))\n",
    "    plotTree.yoff= plotTree.yoff+1.0/plotTree.totalD\n",
    "    \n",
    "def createPlot(inTree):\n",
    "    fig=plt.figure(1,facecolor='white')\n",
    "    fig.clf()\n",
    "    axprops=dict(xticks=[],yticks=[])\n",
    "    createPlot.ax1=plt.subplot(111,frameon=False,**axprops)\n",
    "    plotTree.totalW=float(getLeafsNum(inTree))\n",
    "    plotTree.totalD=float(getDepth(inTree))\n",
    "    plotTree.xoff=-0.5/plotTree.totalW\n",
    "    plotTree.yoff=1.0\n",
    "    plotTree(inTree,(0.5,1.0),'')\n",
    "    plt.show()"
   ]
  },
  {
   "cell_type": "code",
   "execution_count": 225,
   "metadata": {},
   "outputs": [
    {
     "data": {
      "image/png": "[encoded data removed]",
      "text/plain": [
       "<matplotlib.figure.Figure at 0x96bcc18>"
      ]
     },
     "metadata": {},
     "output_type": "display_data"
    }
   ],
   "source": [
    "createPlot(mytree)"
   ]
  },
  {
   "cell_type": "code",
   "execution_count": 226,
   "metadata": {
    "collapsed": true
   },
   "outputs": [],
   "source": [
    "#根据模型预测\n",
    "def classify(inputTree,inputlabels,testdata):\n",
    "    predict=''\n",
    "    surfacekey=inputTree.keys()[0]\n",
    "    seconDic=inputTree[surfacekey]\n",
    "    index=inputlabels.index(surfacekey)\n",
    "    if type(seconDic[testdata[index]]).__name__!='dict':\n",
    "        predict=seconDic[testdata[index]]\n",
    "    else:\n",
    "        predict=classify(seconDic[testdata[index]],inputlabels,testdata)\n",
    "    return predict"
   ]
  },
  {
   "cell_type": "code",
   "execution_count": 227,
   "metadata": {},
   "outputs": [
    {
     "name": "stdout",
     "output_type": "stream",
     "text": [
      "{'age': {0: 'no', 1: {'prescript': {0: 'no', 1: 'yes'}}}}\n",
      "yes\n"
     ]
    }
   ],
   "source": [
    "print mytree\n",
    "print classify(mytree,labels,[1,1])"
   ]
  },
  {
   "cell_type": "code",
   "execution_count": 229,
   "metadata": {},
   "outputs": [
    {
     "data": {
      "image/png": "[encoded data removed]",
      "text/plain": [
       "<matplotlib.figure.Figure at 0x9e69748>"
      ]
     },
     "metadata": {},
     "output_type": "display_data"
    },
    {
     "name": "stdout",
     "output_type": "stream",
     "text": [
      "soft\n"
     ]
    }
   ],
   "source": [
    "fr=open('lenses.txt','r')\n",
    "lines=fr.readlines()\n",
    "inputMatrix=[]\n",
    "for line in lines:\n",
    "    words=line.strip().split('\\t')\n",
    "    inputMatrix.append(words)\n",
    "labels=['age','prescript','astigmatic','tearRate']\n",
    "tree=createTree(inputMatrix,labels)\n",
    "createPlot(tree)\n",
    "print classify(tree,labels,['young', 'hyper', 'no', 'normal'])"
   ]
  },
  {
   "cell_type": "code",
   "execution_count": null,
   "metadata": {
    "collapsed": true
   },
   "outputs": [],
   "source": []
  }
 ],
 "metadata": {
  "kernelspec": {
   "display_name": "Python 2",
   "language": "python",
   "name": "python2"
  },
  "language_info": {
   "codemirror_mode": {
    "name": "ipython",
    "version": 2
   },
   "file_extension": ".py",
   "mimetype": "text/x-python",
   "name": "python",
   "nbconvert_exporter": "python",
   "pygments_lexer": "ipython2",
   "version": "2.7.13"
  },
  "toc": {
   "nav_menu": {},
   "number_sections": true,
   "sideBar": true,
   "skip_h1_title": false,
   "toc_cell": false,
   "toc_position": {},
   "toc_section_display": "block",
   "toc_window_display": false
  }
 },
 "nbformat": 4,
 "nbformat_minor": 2
}
