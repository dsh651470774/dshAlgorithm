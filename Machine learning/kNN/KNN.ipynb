{
 "cells": [
  {
   "cell_type": "code",
   "execution_count": 29,
   "metadata": {
    "collapsed": true
   },
   "outputs": [],
   "source": [
    "import numpy as np\n",
    "\n",
    "fr=open('datingTestSet2.txt','r')\n",
    "lines=fr.readlines()\n",
    "fr.close()\n",
    "features=np.zeros((len(lines),3))\n",
    "labels=list(np.zeros((len(lines),1)))\n",
    "for i in range(len(lines)):\n",
    "    words=lines[i].strip().split('\\t')\n",
    "    features[i,:]=words[0:3]\n",
    "    labels[i]=words[-1]"
   ]
  },
  {
   "cell_type": "code",
   "execution_count": 38,
   "metadata": {
    "collapsed": true
   },
   "outputs": [],
   "source": [
    "def knn(newpoint,features,labels,k):\n",
    "    maxvalue=features.max(axis=0,keepdims=True)\n",
    "    minvalue=features.min(axis=0,keepdims=True)\n",
    "    samplenum=features.shape[0]\n",
    "    newfeatures=(features-np.tile(minvalue,(samplenum,1)))/np.tile((maxvalue-minvalue),(samplenum,1))\n",
    "    newpointfea=(newpoint-minvalue)/(maxvalue-minvalue)\n",
    "    print newpointfea.shape\n",
    "    dis=np.sum((newfeatures-np.tile(newpointfea,(samplenum,1)))*(newfeatures-np.tile(newpointfea,(samplenum,1))),axis=1)\n",
    "    order=dis.argsort()\n",
    "    dic={}\n",
    "    for j in range(k):\n",
    "        dic[labels[order[j]]]=dic.get(labels[order[j]],0)+1\n",
    "    labeloder=sorted(dic.iteritems(), key=lambda d:d[1], reverse = True )\n",
    "    print labeloder\n",
    "    result=labeloder[0][0]\n",
    "    return result"
   ]
  },
  {
   "cell_type": "code",
   "execution_count": 39,
   "metadata": {},
   "outputs": [
    {
     "name": "stdout",
     "output_type": "stream",
     "text": [
      "(1L, 3L)\n",
      "[('1', 3)]\n",
      "1\n"
     ]
    }
   ],
   "source": [
    "print knn([10,10000,0.5],features,labels,3)"
   ]
  },
  {
   "cell_type": "code",
   "execution_count": 50,
   "metadata": {},
   "outputs": [],
   "source": [
    "import operator\n",
    "def classify0(inX, dataSet, labels, k):\n",
    "    dataSetSize = dataSet.shape[0]\n",
    "    \n",
    "    maxvalue=dataSet.max(axis=0,keepdims=True)\n",
    "    minvalue=dataSet.min(axis=0,keepdims=True)\n",
    "    ranges=maxvalue-minvalue\n",
    "    newfeatures=np.zeros(np.shape(dataSet))\n",
    "    newfeatures=dataSet-np.tile(minvalue,(dataSetSize,1))\n",
    "    newfeatures=newfeatures/np.tile(ranges,(dataSetSize,1))\n",
    "    newpointfea=(inX-minvalue)/ranges\n",
    "    \n",
    "    diffMat = np.tile(newpointfea, (dataSetSize,1)) - newfeatures\n",
    "    sqDiffMat = diffMat**2\n",
    "    sqDistances = sqDiffMat.sum(axis=1)\n",
    "    distances = sqDistances**0.5\n",
    "    sortedDistIndicies = distances.argsort()     \n",
    "    classCount={}          \n",
    "    for i in range(k):\n",
    "        voteIlabel = labels[sortedDistIndicies[i]]\n",
    "        classCount[voteIlabel] = classCount.get(voteIlabel,0) + 1\n",
    "    sortedClassCount = sorted(classCount.iteritems(), key=operator.itemgetter(1), reverse=True)\n",
    "    return sortedClassCount[0][0]\n",
    "\n",
    "def createDataSet():\n",
    "    group = array([[1.0,1.1],[1.0,1.0],[0,0],[0,0.1]])\n",
    "    labels = ['A','A','B','B']\n",
    "    return group, labels"
   ]
  },
  {
   "cell_type": "code",
   "execution_count": 51,
   "metadata": {},
   "outputs": [
    {
     "data": {
      "text/plain": [
       "'1'"
      ]
     },
     "execution_count": 51,
     "metadata": {},
     "output_type": "execute_result"
    }
   ],
   "source": [
    "classify0([10,10000,0.5],features,labels,3)"
   ]
  },
  {
   "cell_type": "code",
   "execution_count": null,
   "metadata": {
    "collapsed": true
   },
   "outputs": [],
   "source": []
  }
 ],
 "metadata": {
  "kernelspec": {
   "display_name": "Python 2",
   "language": "python",
   "name": "python2"
  },
  "language_info": {
   "codemirror_mode": {
    "name": "ipython",
    "version": 2
   },
   "file_extension": ".py",
   "mimetype": "text/x-python",
   "name": "python",
   "nbconvert_exporter": "python",
   "pygments_lexer": "ipython2",
   "version": "2.7.13"
  },
  "toc": {
   "nav_menu": {},
   "number_sections": true,
   "sideBar": true,
   "skip_h1_title": false,
   "toc_cell": false,
   "toc_position": {},
   "toc_section_display": "block",
   "toc_window_display": false
  }
 },
 "nbformat": 4,
 "nbformat_minor": 2
}
