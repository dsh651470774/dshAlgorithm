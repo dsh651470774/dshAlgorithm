{
 "cells": [
  {
   "cell_type": "code",
   "execution_count": 13,
   "metadata": {
    "collapsed": true
   },
   "outputs": [],
   "source": [
    "#创建FP树节点的类\n",
    "class treeNode:\n",
    "    def __init__(self,nameVal,number,parentNode):\n",
    "        self.name=nameVal\n",
    "        self.count=number\n",
    "        self.parent=parentNode\n",
    "        self.children={}\n",
    "        self.nodeLink=None\n",
    "    \n",
    "    def addCount(self,num):\n",
    "        self.count+=num\n",
    "        \n",
    "    def disp(self,index=1):\n",
    "        print '  '*index, self.name, ' ', self.count\n",
    "        for child in self.children.values():\n",
    "            child.disp(index+1)"
   ]
  },
  {
   "cell_type": "code",
   "execution_count": 54,
   "metadata": {},
   "outputs": [],
   "source": [
    "#获取头指针表\n",
    "def getHeader(dataSet,minSup):\n",
    "    header={}\n",
    "    for trans in dataSet:\n",
    "        for item in trans:\n",
    "            header[item]=header.get(item,0)+1\n",
    "    for item in header.keys():\n",
    "        if header[item]<minSup:\n",
    "            del(header[item])\n",
    "    return header\n",
    "#更新树节点\n",
    "def updateTree(items,inTree,header,count):\n",
    "    if items[0] in inTree.children:\n",
    "        inTree.children[items[0]].addCount(count)\n",
    "    else:\n",
    "        inTree.children[items[0]]=treeNode(items[0],count,inTree)\n",
    "        #头指针表指向第一个出现的节点\n",
    "        if header[items[0]][1]==None:\n",
    "            header[items[0]][1]=inTree.children[items[0]]\n",
    "        else:\n",
    "            tileitem = header[items[0]][:]\n",
    "            while (tileitem[1].nodeLink != None):\n",
    "                tileitem[1] = tileitem[1].nodeLink\n",
    "            tileitem[1].nodeLink = inTree.children[items[0]]\n",
    "    if len(items)>1:\n",
    "        updateTree(items[1:],inTree.children[items[0]],header,1)\n",
    "    \n",
    "#创建fp树\n",
    "def createFPTree(dataSet,minSup=3):\n",
    "    headerTable=getHeader(dataSet,minSup)\n",
    "    reTree=treeNode('NUll Set',1,None)\n",
    "    if len(headerTable.keys())==0:\n",
    "        return None,None\n",
    "    for k in headerTable.keys():\n",
    "        headerTable[k]=[headerTable[k],None]\n",
    "    #根据频率重新排序\n",
    "    for trans in dataSet:\n",
    "        DataDic={}\n",
    "        for item in trans:\n",
    "            if item in headerTable.keys():\n",
    "                DataDic[item]=headerTable[item][0]\n",
    "        if len(DataDic)>0:\n",
    "            orderData=[v[0] for v in sorted(DataDic.items(),key=lambda p:p[1],reverse=True)]\n",
    "        updateTree(orderData,reTree,headerTable,1)\n",
    "    return reTree,headerTable"
   ]
  },
  {
   "cell_type": "code",
   "execution_count": 55,
   "metadata": {},
   "outputs": [
    {
     "name": "stdout",
     "output_type": "stream",
     "text": [
      "   NUll Set   1\n",
      "     x   1\n",
      "       s   1\n",
      "         r   1\n",
      "     z   5\n",
      "       x   3\n",
      "         y   3\n",
      "           s   2\n",
      "             t   2\n",
      "           r   1\n",
      "             t   1\n",
      "       r   1\n"
     ]
    }
   ],
   "source": [
    "def loadSimpDat():  \n",
    "    simpDat = [['r', 'z', 'h', 'j', 'p'],  \n",
    "               ['z', 'y', 'x', 'w', 'v', 'u', 't', 's'],  \n",
    "               ['z'],  \n",
    "               ['r', 'x', 'n', 'o', 's'],  \n",
    "               ['y', 'r', 'x', 'z', 'q', 't', 'p'],  \n",
    "               ['y', 'z', 'x', 'e', 'q', 's', 't', 'm']]  \n",
    "    return simpDat  \n",
    "simpDat = loadSimpDat()  \n",
    "myFPtree, myHeaderTab = createFPTree(simpDat, 3)\n",
    "myFPtree.disp()  "
   ]
  },
  {
   "cell_type": "code",
   "execution_count": 56,
   "metadata": {
    "collapsed": true
   },
   "outputs": [],
   "source": [
    "#路径归溯\n",
    "def ascendTree(leafNode,prePath):\n",
    "    if leafNode.parent!=None:\n",
    "        prePath.append(leafNode.name)\n",
    "        ascendTree(leafNode.parent,prePath)\n",
    "    \n",
    "#获取所有路径\n",
    "def findPrePath(basePat,treeNode):\n",
    "    condPath={}\n",
    "    while treeNode!=None:\n",
    "        prePath=[]\n",
    "        ascendTree(treeNode,prePath)\n",
    "        if len(prePath)>1:\n",
    "            condPath[tuple(prePath[1:])]=treeNode.count\n",
    "        treeNode=treeNode.nodeLink\n",
    "    return condPath"
   ]
  },
  {
   "cell_type": "code",
   "execution_count": 58,
   "metadata": {},
   "outputs": [
    {
     "name": "stdout",
     "output_type": "stream",
     "text": [
      "{('z',): 1, ('s', 'x'): 1, ('y', 'x', 'z'): 1}\n"
     ]
    },
    {
     "data": {
      "text/plain": [
       "{('r', 'y', 'x', 'z'): 1, ('s', 'y', 'x', 'z'): 2}"
      ]
     },
     "execution_count": 58,
     "metadata": {},
     "output_type": "execute_result"
    }
   ],
   "source": [
    "condPath=findPrePath('r',myHeaderTab['r'][1])\n",
    "print condPath\n",
    "findPrePath('t',myHeaderTab['t'][1])"
   ]
  },
  {
   "cell_type": "code",
   "execution_count": 117,
   "metadata": {},
   "outputs": [],
   "source": [
    "#创建条件FP树\n",
    "def mineTree(inTree,headerTable,minSup,preFix,itemList):\n",
    "    orderEle=[v[0] for v in sorted(headerTable.items(),key=lambda p:p[1])]\n",
    "    for ele in orderEle:\n",
    "        newFreqSet = preFix.copy() \n",
    "        newFreqSet.add(ele)\n",
    "        itemList.append(newFreqSet)\n",
    "        condPath=findPrePath(ele,headerTable[ele][1])\n",
    "        newDataSet=[]\n",
    "        for key in condPath.keys():\n",
    "            for i in range(condPath[key]):\n",
    "                newDataSet.append(list(key))\n",
    "        reTree2,headerTable2=createFPTree(newDataSet,minSup)\n",
    "        if headerTable2!=None:\n",
    "            print \"conditional tree for: \", newFreqSet  \n",
    "            reTree2.disp(1) \n",
    "            mineTree(reTree2,headerTable2,minSup,newFreqSet,itemList)"
   ]
  },
  {
   "cell_type": "code",
   "execution_count": 118,
   "metadata": {},
   "outputs": [
    {
     "name": "stdout",
     "output_type": "stream",
     "text": [
      "conditional tree for:  set(['t'])\n",
      "   NUll Set   1\n",
      "     y   3\n",
      "       x   3\n",
      "         z   3\n",
      "conditional tree for:  set(['x', 't'])\n",
      "   NUll Set   1\n",
      "     y   3\n",
      "conditional tree for:  set(['z', 't'])\n",
      "   NUll Set   1\n",
      "     y   3\n",
      "       x   3\n",
      "conditional tree for:  set(['x', 'z', 't'])\n",
      "   NUll Set   1\n",
      "     y   3\n",
      "conditional tree for:  set(['y'])\n",
      "   NUll Set   1\n",
      "     x   3\n",
      "       z   3\n",
      "conditional tree for:  set(['y', 'z'])\n",
      "   NUll Set   1\n",
      "     x   3\n",
      "conditional tree for:  set(['s'])\n",
      "   NUll Set   1\n",
      "     x   3\n",
      "conditional tree for:  set(['x'])\n",
      "   NUll Set   1\n",
      "     z   3\n"
     ]
    }
   ],
   "source": [
    "freqItems=[]\n",
    "mineTree(myFPtree,myHeaderTab,3,set([]),freqItems)"
   ]
  },
  {
   "cell_type": "code",
   "execution_count": 119,
   "metadata": {},
   "outputs": [
    {
     "name": "stdout",
     "output_type": "stream",
     "text": [
      "[set(['r']), set(['t']), set(['x', 't']), set(['y', 'x', 't']), set(['y', 't']), set(['z', 't']), set(['y', 'z', 't']), set(['x', 'z', 't']), set(['y', 'x', 'z', 't']), set(['y']), set(['y', 'x']), set(['y', 'z']), set(['y', 'x', 'z']), set(['s']), set(['x', 's']), set(['x']), set(['x', 'z']), set(['z'])]\n"
     ]
    }
   ],
   "source": [
    "print freqItems"
   ]
  },
  {
   "cell_type": "code",
   "execution_count": null,
   "metadata": {
    "collapsed": true
   },
   "outputs": [],
   "source": []
  },
  {
   "cell_type": "code",
   "execution_count": null,
   "metadata": {
    "collapsed": true
   },
   "outputs": [],
   "source": []
  }
 ],
 "metadata": {
  "kernelspec": {
   "display_name": "Python 2",
   "language": "python",
   "name": "python2"
  },
  "language_info": {
   "codemirror_mode": {
    "name": "ipython",
    "version": 2
   },
   "file_extension": ".py",
   "mimetype": "text/x-python",
   "name": "python",
   "nbconvert_exporter": "python",
   "pygments_lexer": "ipython2",
   "version": "2.7.13"
  },
  "toc": {
   "nav_menu": {},
   "number_sections": true,
   "sideBar": true,
   "skip_h1_title": false,
   "toc_cell": false,
   "toc_position": {},
   "toc_section_display": "block",
   "toc_window_display": false
  }
 },
 "nbformat": 4,
 "nbformat_minor": 2
}
