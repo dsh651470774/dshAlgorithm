{
 "cells": [
  {
   "cell_type": "code",
   "execution_count": 52,
   "metadata": {
    "collapsed": true
   },
   "outputs": [],
   "source": [
    "#普通的最小二乘法线性回归\n",
    "import numpy as np\n",
    "\n",
    "def loadDataSet(fileName):      #general function to parse tab -delimited floats\n",
    "    numFeat = len(open(fileName).readline().split('\\t')) - 1 #get number of fields \n",
    "    dataMat = []; labelMat = []\n",
    "    fr = open(fileName)\n",
    "    for line in fr.readlines():\n",
    "        lineArr =[]\n",
    "        curLine = line.strip().split('\\t')\n",
    "        for i in range(numFeat):\n",
    "            lineArr.append(float(curLine[i]))\n",
    "        dataMat.append(lineArr)\n",
    "        labelMat.append(float(curLine[-1]))\n",
    "    return dataMat,labelMat\n",
    "\n",
    "def standRegres(xArr,yArr):\n",
    "    xMat=np.mat(xArr);yMat=np.mat(yArr).T\n",
    "    if np.linalg.det(xMat.T*xMat)==0.0:\n",
    "        print u'矩阵不可逆'\n",
    "    else:\n",
    "        w=(xMat.T*xMat).I*xMat.T*yMat\n",
    "        return w"
   ]
  },
  {
   "cell_type": "code",
   "execution_count": 54,
   "metadata": {},
   "outputs": [
    {
     "data": {
      "image/png": "[encoded data removed]",
      "text/plain": [
       "<matplotlib.figure.Figure at 0xa683a90>"
      ]
     },
     "metadata": {},
     "output_type": "display_data"
    }
   ],
   "source": [
    "dataMat,labelMat=loadDataSet('ex0.txt')\n",
    "w=np.array(standRegres(dataMat,labelMat))\n",
    "from matplotlib import pyplot as plt\n",
    "xline=np.arange(0.0,1.0,0.01)\n",
    "yline=xline*w[1]+w[0]\n",
    "fig=plt.figure()\n",
    "ax=plt.subplot(111)\n",
    "ax.scatter([x[1] for x in np.array(dataMat)],np.array(labelMat),c='b')\n",
    "ax.scatter(xline,yline,color='r',linewidths='1')\n",
    "plt.show()"
   ]
  },
  {
   "cell_type": "code",
   "execution_count": 88,
   "metadata": {},
   "outputs": [],
   "source": [
    "#局部加权线性回归\n",
    "def lwlr(testpoint,xArr,yArr,k=1.0):\n",
    "    xMat=np.mat(xArr);yMat=np.mat(yArr).T\n",
    "    weight=np.mat(np.eye(xMat.shape[0]))\n",
    "    for i in range(xMat.shape[0]):\n",
    "        weight[i,i]=np.exp((testpoint-xMat[i,:])*(testpoint-xMat[i,:]).T/(-2.0*k**2))\n",
    "    if np.linalg.det(xMat.T*weight*xMat)==0.0:\n",
    "        print u'矩阵不可逆'\n",
    "        return\n",
    "    else:\n",
    "        w=(xMat.T*weight*xMat).I*xMat.T*weight*yMat\n",
    "        yhat=testpoint*w\n",
    "        return yhat"
   ]
  },
  {
   "cell_type": "code",
   "execution_count": 109,
   "metadata": {},
   "outputs": [
    {
     "data": {
      "image/png": "[encoded data removed]",
      "text/plain": [
       "<matplotlib.figure.Figure at 0xaa70d68>"
      ]
     },
     "metadata": {},
     "output_type": "display_data"
    }
   ],
   "source": [
    "yhat=[0]*len(dataMat)\n",
    "for i in range(len(dataMat)):\n",
    "    yhat[i]=np.array(lwlr(dataMat[i],dataMat,labelMat,0.01))\n",
    "fig=plt.figure()\n",
    "ax=plt.subplot(111)\n",
    "ax.scatter([x[1] for x in np.array(dataMat)],np.array(labelMat),c='b',s=20)\n",
    "ax.scatter([x[1] for x in np.array(dataMat)],yhat,c='r',s=20)\n",
    "plt.show()"
   ]
  },
  {
   "cell_type": "code",
   "execution_count": 223,
   "metadata": {},
   "outputs": [],
   "source": [
    "#岭回归参数计算\n",
    "def ridgeRegress(xMat,yMat,l):\n",
    "#     xMat=np.mat(xArr);yMat=np.mat(yArr).T\n",
    "    eyeMat=np.eye(xMat.shape[1])\n",
    "    if np.linalg.det(xMat.T*xMat+l*eyeMat)==0.0:\n",
    "        print u'矩阵不可逆'\n",
    "    else:\n",
    "        w=(xMat.T*xMat+l*eyeMat).I*xMat.T*yMat\n",
    "        return w\n",
    "\n",
    "#整体岭回归\n",
    "def ridgeTest(xArr,yArr):\n",
    "    xMat=np.mat(xArr);yMat=np.mat(yArr).T\n",
    "    #标准化过程\n",
    "    maxValues=np.max(xMat,axis=0)\n",
    "    minValues=np.min(xMat,axis=0)\n",
    "    xstandMat=(xMat-minValues)/(maxValues-minValues)\n",
    "    testNum=30\n",
    "    w=np.zeros((testNum,xMat.shape[1]))\n",
    "    for i in range(testNum):        \n",
    "        w[i,:]=(ridgeRegress(xstandMat,yMat,np.exp(i-10))).T\n",
    "    return w"
   ]
  },
  {
   "cell_type": "code",
   "execution_count": 224,
   "metadata": {},
   "outputs": [
    {
     "name": "stdout",
     "output_type": "stream",
     "text": [
      "[[  4.43703474e-01   6.04183716e+00   7.95830216e+00   2.07989538e+01\n",
      "    2.44970161e+01  -3.20962390e+01  -9.17043734e+00   5.92782673e+00]\n",
      " [  4.43704351e-01   6.04188554e+00   7.95838428e+00   2.07981642e+01\n",
      "    2.44942826e+01  -3.20947356e+01  -9.16966390e+00   5.92897884e+00]\n",
      " [  4.43706735e-01   6.04201705e+00   7.95860745e+00   2.07960182e+01\n",
      "    2.44868551e+01  -3.20906505e+01  -9.16756230e+00   5.93210929e+00]\n",
      " [  4.43713213e-01   6.04237464e+00   7.95921367e+00   2.07901873e+01\n",
      "    2.44666865e+01  -3.20795568e+01  -9.16185564e+00   5.94060891e+00]\n",
      " [  4.43730804e-01   6.04334745e+00   7.96085851e+00   2.07743561e+01\n",
      "    2.44120191e+01  -3.20494805e+01  -9.14638819e+00   5.96364108e+00]\n",
      " [  4.43778482e-01   6.04599736e+00   7.96530721e+00   2.07314628e+01\n",
      "    2.42645664e+01  -3.19683073e+01  -9.10467194e+00   6.02571994e+00]\n",
      " [  4.43907069e-01   6.05323889e+00   7.97723700e+00   2.06158920e+01\n",
      "    2.38720433e+01  -3.17518623e+01  -8.99364849e+00   6.19064718e+00]\n",
      " [  4.44249140e-01   6.07315750e+00   8.00851317e+00   2.03091260e+01\n",
      "    2.28627101e+01  -3.11927457e+01  -8.70834916e+00   6.61240763e+00]\n",
      " [  4.45125503e-01   6.12823637e+00   8.08593179e+00   1.95262570e+01\n",
      "    2.04830413e+01  -2.98575601e+01  -8.03692994e+00   7.59118491e+00]\n",
      " [  4.47160565e-01   6.27557143e+00   8.25352077e+00   1.77143485e+01\n",
      "    1.58612618e+01  -2.71662539e+01  -6.73959939e+00   9.40119470e+00]\n",
      " [  4.51089088e-01   6.60945634e+00   8.52878448e+00   1.43237103e+01\n",
      "    9.52544007e+00  -2.30378555e+01  -4.98554926e+00   1.14682290e+01]\n",
      " [  4.59353213e-01   7.14359196e+00   8.79237643e+00   9.89006429e+00\n",
      "    4.02724571e+00  -1.80960380e+01  -3.48944505e+00   1.19513235e+01]\n",
      " [  4.93724969e-01   7.67630917e+00   8.79019493e+00   6.06622210e+00\n",
      "    9.59312932e-01  -1.26468894e+01  -2.49962503e+00   9.64669399e+00]\n",
      " [  6.27131999e-01   7.83053765e+00   8.32821582e+00   3.64506623e+00\n",
      "   -3.89141472e-02  -7.28601397e+00  -1.55886599e+00   5.93526212e+00]\n",
      " [  9.47732223e-01   7.28769598e+00   7.38143272e+00   2.30873820e+00\n",
      "    2.95716888e-01  -3.10096845e+00  -4.15863434e-01   3.29547319e+00]\n",
      " [  1.44348423e+00   6.25056342e+00   6.19826799e+00   1.57971610e+00\n",
      "    1.16475729e+00  -4.26156472e-01   6.85264178e-01   2.27327753e+00]\n",
      " [  1.99010614e+00   5.20158297e+00   5.12470936e+00   1.16945975e+00\n",
      "    1.77546750e+00   9.22701147e-01   1.34179391e+00   1.95949526e+00]\n",
      " [  2.34270097e+00   4.22828711e+00   4.15733087e+00   8.99648702e-01\n",
      "    1.85379108e+00   1.32442383e+00   1.46615749e+00   1.69062114e+00]\n",
      " [  2.16287619e+00   3.13588930e+00   3.08013148e+00   6.51593915e-01\n",
      "    1.51110497e+00   1.17079632e+00   1.21063033e+00   1.28784207e+00]\n",
      " [  1.47666046e+00   1.92915348e+00   1.89384216e+00   3.97065198e-01\n",
      "    9.61758987e-01   7.65730326e-01   7.73826368e-01   7.99390143e-01]\n",
      " [  7.62319465e-01   9.54024628e-01   9.36340819e-01   1.95648932e-01\n",
      "    4.81469307e-01   3.87109722e-01   3.87975292e-01   3.96478488e-01]\n",
      " [  3.27164774e-01   4.02718684e-01   3.95216743e-01   8.24764529e-02\n",
      "    2.04145906e-01   1.64726436e-01   1.64594278e-01   1.67531479e-01]\n",
      " [  1.28092995e-01   1.56700429e-01   1.53775897e-01   3.20759910e-02\n",
      "    7.95637862e-02   6.42850543e-02   6.41618382e-02   6.52108364e-02]\n",
      " [  4.82575231e-02   5.88997766e-02   5.77997518e-02   1.20543292e-02\n",
      "    2.99239036e-02   2.41892898e-02   2.41330189e-02   2.45143018e-02]\n",
      " [  1.79112969e-02   2.18427995e-02   2.14347538e-02   4.47000553e-03\n",
      "    1.10996232e-02   8.97409073e-03   8.95186291e-03   9.09148432e-03]\n",
      " [  6.61087358e-03   8.05943983e-03   7.90886702e-03   1.64927741e-03\n",
      "    4.09581051e-03   3.31169651e-03   3.30331034e-03   3.35458594e-03]\n",
      " [  2.43495035e-03   2.96815339e-03   2.91269807e-03   6.07394957e-04\n",
      "    1.50846152e-03   1.21970661e-03   1.21659311e-03   1.23544435e-03]\n",
      " [  8.96167477e-04   1.09236328e-03   1.07195392e-03   2.23537536e-04\n",
      "    5.55162005e-04   4.48894959e-04   4.47745713e-04   4.54679073e-04]\n",
      " [  3.29735661e-04   4.01917667e-04   3.94408330e-04   8.22469722e-05\n",
      "    2.04263836e-04   1.65164951e-04   1.64741646e-04   1.67292066e-04]\n",
      " [  1.21310290e-04   1.47865324e-04   1.45102638e-04   3.02586092e-05\n",
      "    7.51486821e-05   6.07642720e-05   6.06084761e-05   6.15466936e-05]]\n"
     ]
    }
   ],
   "source": [
    "#测试\n",
    "abX,abY=loadDataSet('abalone.txt')\n",
    "w=ridgeTest(abX,abY)\n",
    "print w"
   ]
  },
  {
   "cell_type": "code",
   "execution_count": 274,
   "metadata": {},
   "outputs": [],
   "source": [
    "#前向逐步回归\n",
    "def stageWise(xArr,yArr,eps=0.01,numIt=100):\n",
    "    xMat=np.mat(xArr);yMat=np.mat(yArr).T\n",
    "    #标准化过程\n",
    "    yMean = np.mean(yMat,0)\n",
    "    yMat = yMat - yMean\n",
    "    maxValues=np.max(xMat,axis=0)\n",
    "    minValues=np.min(xMat,axis=0)\n",
    "#     xstandMat=(xMat-minValues)/(maxValues-minValues)\n",
    "    xstandMat= regularize(xMat)\n",
    "    ws=np.zeros((xMat.shape[1],1));wstemp=ws.copy()\n",
    "    for iterNum in range(numIt):\n",
    "        lowestE=np.inf\n",
    "        for feat in range(xMat.shape[1]):\n",
    "            wstemppos=ws.copy()\n",
    "            wstempneg=ws.copy()\n",
    "            wstemppos[feat]+=eps\n",
    "            wstempneg[feat]-=eps\n",
    "            posError=(xstandMat*wstemppos-yMat).T*(xstandMat*wstemppos-yMat)\n",
    "            negError=(xstandMat*wstempneg-yMat).T*(xstandMat*wstempneg-yMat)\n",
    "            if posError[0,0]<negError[0,0] and posError[0,0]<lowestE:\n",
    "                wstemp=wstemppos.copy()\n",
    "                lowestE=posError\n",
    "            if negError[0,0]<posError[0,0] and negError[0,0]<lowestE:\n",
    "                wstemp=wstempneg.copy()\n",
    "                lowestE=negError\n",
    "        ws=wstemp.copy()\n",
    "    return ws"
   ]
  },
  {
   "cell_type": "code",
   "execution_count": 276,
   "metadata": {},
   "outputs": [
    {
     "name": "stdout",
     "output_type": "stream",
     "text": [
      "[[ 0.05]\n",
      " [ 0.  ]\n",
      " [ 0.09]\n",
      " [ 0.03]\n",
      " [ 0.31]\n",
      " [-0.64]\n",
      " [ 0.  ]\n",
      " [ 0.36]]\n"
     ]
    }
   ],
   "source": [
    "#测试\n",
    "abX,abY=loadDataSet('abalone.txt')\n",
    "w=stageWise(abX,abY,0.01,1000)\n",
    "print w"
   ]
  },
  {
   "cell_type": "code",
   "execution_count": 268,
   "metadata": {},
   "outputs": [
    {
     "name": "stdout",
     "output_type": "stream",
     "text": [
      "[[ 0.    0.    0.   ...,  0.    0.    0.  ]\n",
      " [ 0.    0.    0.   ...,  0.    0.    0.  ]\n",
      " [ 0.    0.    0.   ...,  0.    0.    0.  ]\n",
      " ..., \n",
      " [ 0.05  0.    0.09 ..., -0.64  0.    0.36]\n",
      " [ 0.04  0.    0.09 ..., -0.64  0.    0.36]\n",
      " [ 0.05  0.    0.09 ..., -0.64  0.    0.36]]\n"
     ]
    }
   ],
   "source": [
    "def rssError(yArr,yHatArr): #yArr and yHatArr both need to be arrays\n",
    "    return ((yArr-yHatArr)**2).sum()\n",
    "\n",
    "def regularize(xMat):#regularize by columns\n",
    "    inMat = xMat.copy()\n",
    "    inMeans = np.mean(inMat,0)   #calc mean then subtract it off\n",
    "    inVar = np.var(inMat,0)      #calc variance of Xi then divide by it\n",
    "    inMat = (inMat - inMeans)/inVar\n",
    "    return inMat\n",
    "def stageWise(xArr,yArr,eps=0.01,numIt=100):\n",
    "    xMat = np.mat(xArr); yMat=np.mat(yArr).T\n",
    "#     yMean = np.mean(yMat,0)\n",
    "#     yMat = yMat - yMean     #can also regularize ys but will get smaller coef\n",
    "    xMat = regularize(xMat)\n",
    "    m,n=np.shape(xMat)\n",
    "    returnMat = np.zeros((numIt,n)) #testing code remove\n",
    "    ws = np.zeros((n,1)); wsTest = ws.copy(); wsMax = ws.copy()\n",
    "    for i in range(numIt):\n",
    "        lowestError = np.inf; \n",
    "        for j in range(n):\n",
    "            for sign in [-1,1]:\n",
    "                wsTest = ws.copy()\n",
    "                wsTest[j] += eps*sign\n",
    "                yTest = xMat*wsTest\n",
    "                rssE = rssError(yMat.A,yTest.A)\n",
    "                if rssE < lowestError:\n",
    "                    lowestError = rssE\n",
    "                    wsMax = wsTest\n",
    "        ws = wsMax.copy()\n",
    "        returnMat[i,:]=ws.T\n",
    "    return returnMat\n",
    "\n",
    "#测试\n",
    "abX,abY=loadDataSet('abalone.txt')\n",
    "w=stageWise(abX,abY,0.01,1000)\n",
    "print w"
   ]
  },
  {
   "cell_type": "code",
   "execution_count": null,
   "metadata": {
    "collapsed": true
   },
   "outputs": [],
   "source": []
  },
  {
   "cell_type": "code",
   "execution_count": null,
   "metadata": {
    "collapsed": true
   },
   "outputs": [],
   "source": []
  }
 ],
 "metadata": {
  "kernelspec": {
   "display_name": "Python 2",
   "language": "python",
   "name": "python2"
  },
  "language_info": {
   "codemirror_mode": {
    "name": "ipython",
    "version": 2
   },
   "file_extension": ".py",
   "mimetype": "text/x-python",
   "name": "python",
   "nbconvert_exporter": "python",
   "pygments_lexer": "ipython2",
   "version": "2.7.13"
  },
  "toc": {
   "nav_menu": {},
   "number_sections": true,
   "sideBar": true,
   "skip_h1_title": false,
   "toc_cell": false,
   "toc_position": {},
   "toc_section_display": "block",
   "toc_window_display": false
  }
 },
 "nbformat": 4,
 "nbformat_minor": 2
}
