{
 "cells": [
  {
   "cell_type": "code",
   "execution_count": 273,
   "metadata": {
    "collapsed": true
   },
   "outputs": [],
   "source": [
    "def loadDataSet():\n",
    "    dataMat = []; labelMat = []\n",
    "    fr = open('testSet.txt')\n",
    "    for line in fr.readlines():\n",
    "        lineArr = line.strip().split()\n",
    "        dataMat.append([1.0, float(lineArr[0]), float(lineArr[1])])\n",
    "        labelMat.append(int(lineArr[2]))\n",
    "    return dataMat,labelMat"
   ]
  },
  {
   "cell_type": "code",
   "execution_count": 274,
   "metadata": {
    "collapsed": true
   },
   "outputs": [],
   "source": [
    "import numpy as np\n",
    "#sigmoid函数\n",
    "def sigmoid(x):\n",
    "    return 1.0/(1+np.exp(-x))"
   ]
  },
  {
   "cell_type": "code",
   "execution_count": 275,
   "metadata": {
    "collapsed": true
   },
   "outputs": [],
   "source": [
    "#求梯度d=X(A-Y)'\n",
    "def gradAscent(dataMat,classLabels):\n",
    "    dataMatrix=np.mat(dataMat)\n",
    "    labelMatrix=np.mat(classLabels).transpose()\n",
    "    m,n=dataMatrix.shape\n",
    "    weight=np.ones((n,1))\n",
    "    trainrate=0.001\n",
    "    iternum=500\n",
    "    for num in range(iternum):\n",
    "        L=sigmoid(np.dot(dataMatrix,weight))\n",
    "        cost=labelMatrix-L\n",
    "        weight=weight+trainrate*dataMatrix.transpose()*cost\n",
    "    return weight"
   ]
  },
  {
   "cell_type": "code",
   "execution_count": 287,
   "metadata": {
    "collapsed": true
   },
   "outputs": [],
   "source": [
    "dataMat,classLabels=loadDataSet()\n",
    "wei=gradAscent(dataMat,classLabels)"
   ]
  },
  {
   "cell_type": "code",
   "execution_count": 277,
   "metadata": {
    "collapsed": true
   },
   "outputs": [],
   "source": [
    "import matplotlib.pyplot as plt\n",
    "#绘制边界\n",
    "def plotBestFit(wei):\n",
    "    weight=np.array(wei)\n",
    "    dataMat,labelMat=loadDataSet()\n",
    "    dataArray=np.array(dataMat)\n",
    "    num=len(dataMat)\n",
    "    x1=[];y1=[]\n",
    "    x2=[];y2=[]\n",
    "    for i in range(num):\n",
    "        if labelMat[i]==0:\n",
    "            x1.append(dataArray[i][1])\n",
    "            y1.append(dataArray[i][2])\n",
    "        if labelMat[i]==1:\n",
    "            x2.append(dataArray[i][1])\n",
    "            y2.append(dataArray[i][2])\n",
    "    fig=plt.figure()\n",
    "    ax=fig.add_subplot(111)\n",
    "    ax.scatter(x1,y1,s=30,c='red')\n",
    "    ax.scatter(x2,y2,s=30,c='green')\n",
    "    x=np.arange(-3.0,3.0,0.01)\n",
    "    y=(-weight[0]-weight[1]*x)/weight[2]\n",
    "    ax.scatter(x,y,c='blue',linewidths='1')\n",
    "    plt.show()"
   ]
  },
  {
   "cell_type": "code",
   "execution_count": 278,
   "metadata": {},
   "outputs": [
    {
     "data": {
      "image/png": "[encoded data removed]",
      "text/plain": [
       "<matplotlib.figure.Figure at 0xad5c780>"
      ]
     },
     "metadata": {},
     "output_type": "display_data"
    }
   ],
   "source": [
    "plotBestFit(wei)"
   ]
  },
  {
   "cell_type": "code",
   "execution_count": 326,
   "metadata": {
    "collapsed": true
   },
   "outputs": [],
   "source": [
    "#随机梯度下降法\n",
    "def ranGradascent(dataMat,classLabels):\n",
    "    m=len(dataMat)\n",
    "    weight=np.ones(len(dataMat[0]))\n",
    "    trainrate=0.01\n",
    "    for i in range(m):\n",
    "        L=sigmoid(sum(dataMat[i]*weight))\n",
    "        cost=classLabels[i]-L\n",
    "        weight=weight+np.tile((trainrate*cost),len(dataMat[0]))*dataMat[i]\n",
    "    return weight"
   ]
  },
  {
   "cell_type": "code",
   "execution_count": 327,
   "metadata": {},
   "outputs": [
    {
     "data": {
      "image/png": "[encoded data removed]",
      "text/plain": [
       "<matplotlib.figure.Figure at 0x8721ba8>"
      ]
     },
     "metadata": {},
     "output_type": "display_data"
    }
   ],
   "source": [
    "wei2=ranGradascent(dataMat,classLabels)\n",
    "plotBestFit(wei2)"
   ]
  },
  {
   "cell_type": "code",
   "execution_count": 343,
   "metadata": {
    "collapsed": true
   },
   "outputs": [],
   "source": [
    "#改进的随机梯度下降法\n",
    "def adranGradascent(dataMat,classLabels,iternum=200):\n",
    "    m=len(dataMat)\n",
    "    weight=np.ones(len(dataMat[0]))\n",
    "    for num in range(iternum):\n",
    "        dataIndex = range(m)\n",
    "        for i in range(m):\n",
    "            trainrate=4.0/(num+i+1.0)+0.0001\n",
    "            randIndex = int(np.random.uniform(0,len(dataIndex)))\n",
    "            L=sigmoid(sum(dataMat[randIndex]*weight))\n",
    "            cost=classLabels[randIndex]-L\n",
    "            weight=weight+np.tile((trainrate*cost),len(dataMat[0]))*dataMat[randIndex]\n",
    "            del(dataIndex[randIndex])\n",
    "    return weight"
   ]
  },
  {
   "cell_type": "code",
   "execution_count": 344,
   "metadata": {},
   "outputs": [
    {
     "data": {
      "image/png": "[encoded data removed]",
      "text/plain": [
       "<matplotlib.figure.Figure at 0xa929e10>"
      ]
     },
     "metadata": {},
     "output_type": "display_data"
    }
   ],
   "source": [
    "dataMat,classLabels=loadDataSet()\n",
    "wei3=adranGradascent(dataMat,classLabels)\n",
    "plotBestFit(wei3)"
   ]
  },
  {
   "cell_type": "code",
   "execution_count": 345,
   "metadata": {
    "collapsed": true
   },
   "outputs": [],
   "source": [
    "#logistic分类器\n",
    "def classify(intvec,weights):\n",
    "    posible=np.sum(intvec*weights)\n",
    "    return 1 if posible>0.5 else 0"
   ]
  },
  {
   "cell_type": "code",
   "execution_count": 369,
   "metadata": {},
   "outputs": [
    {
     "name": "stderr",
     "output_type": "stream",
     "text": [
      "D:\\Anaconda\\lib\\site-packages\\ipykernel_launcher.py:4: RuntimeWarning: overflow encountered in exp\n",
      "  after removing the cwd from sys.path.\n"
     ]
    },
    {
     "name": "stdout",
     "output_type": "stream",
     "text": [
      "最终错误率为0.328358208955\n"
     ]
    }
   ],
   "source": [
    "frTrain=open('horseColicTraining.txt','r')\n",
    "lines=frTrain.readlines()\n",
    "trainList=[]\n",
    "labelList=[]\n",
    "for line in lines:\n",
    "    temp=line.strip().split('\\t')\n",
    "    templist=[]\n",
    "    for i in range(len(temp)-1):\n",
    "        templist.append(float(temp[i]))\n",
    "    trainList.append(templist)\n",
    "    labelList.append(float(temp[-1]))\n",
    "frTrain.close()\n",
    "wei=adranGradascent(trainList,labelList,150)\n",
    "frTest=open('horseColicTest.txt','r')\n",
    "lines=frTest.readlines()\n",
    "testList=[]\n",
    "labelList2=[]\n",
    "for line in lines:\n",
    "    temp=line.strip().split('\\t')\n",
    "    templist=[]\n",
    "    for i in range(len(temp)-1):\n",
    "        templist.append(float(temp[i]))\n",
    "    testList.append(templist)\n",
    "    labelList2.append(float(temp[-1]))\n",
    "resultList=[0]*len(testList)\n",
    "for num in range(len(testList)):\n",
    "    resultList[num]=classify(testList[num],wei)\n",
    "errornum=0\n",
    "for item in range(len(resultList)):\n",
    "    if float(resultList[item])!=labelList2[item]:\n",
    "        errornum+=1\n",
    "print u'最终错误率为%s'%str(float(errornum)/len(resultList))"
   ]
  },
  {
   "cell_type": "code",
   "execution_count": null,
   "metadata": {
    "collapsed": true
   },
   "outputs": [],
   "source": []
  },
  {
   "cell_type": "code",
   "execution_count": null,
   "metadata": {
    "collapsed": true
   },
   "outputs": [],
   "source": []
  }
 ],
 "metadata": {
  "kernelspec": {
   "display_name": "Python 2",
   "language": "python",
   "name": "python2"
  },
  "language_info": {
   "codemirror_mode": {
    "name": "ipython",
    "version": 2
   },
   "file_extension": ".py",
   "mimetype": "text/x-python",
   "name": "python",
   "nbconvert_exporter": "python",
   "pygments_lexer": "ipython2",
   "version": "2.7.13"
  },
  "toc": {
   "nav_menu": {},
   "number_sections": true,
   "sideBar": true,
   "skip_h1_title": false,
   "toc_cell": false,
   "toc_position": {},
   "toc_section_display": "block",
   "toc_window_display": false
  }
 },
 "nbformat": 4,
 "nbformat_minor": 2
}
